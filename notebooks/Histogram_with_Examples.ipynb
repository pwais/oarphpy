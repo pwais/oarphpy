{
 "cells": [
  {
   "cell_type": "markdown",
   "metadata": {},
   "source": [
    "# Histograms with Examples\n",
    "_Peering inside Histogram Bins with Spark and Bokeh_\n",
    "\n",
    "<img src=\"https://github.com/pwais/oarphpy/blob/master/notebooks/hist-with-examples-diag.jpg?raw=true\" alt=\"hist-with-examples\" />\n",
    "\n",
    "A histogram is one of the most effective tools for exploring a new dataset.  In one graph, a histogram displays key information about the data's mean, variance, outliers, and periodic features.  Histograms are so important than several libraries make histogramming extremely easy:\n",
    " * In [Pandas](https://pandas.pydata.org/docs/reference/api/pandas.DataFrame.hist.html), the user can immediately plot a histogram from a Dataframe in a Jupyter notebook with a single function call.\n",
    " * [Tensorboard](https://github.com/tensorflow/tensorboard/blob/master/docs/r1/histograms.md) features a powerful temporal histogramming tool that can be critical for monitoring the weights of neural networks during training and debugging high-dimensional optimization problems.\n",
    " * [Bokeh](https://demo.bokeh.org/selection_histogram) provides a web-based histogram plotter with interactive tools and a nice Python API.\n",
    "\n",
    "Histogram plots are often both surprising and boring: some bins have more items than expected, some bins have fewer, and a lot of bins are empty.  It's not unreasonable to immediately want to ask: can we peer inside a bin?  Which examples from my dataset are actually in there?  And, since this histogram only shows one dimension of the data, what might be some other dimensions or factors that are common among most of the things in that bin?\n",
    "\n",
    "This tutorial will show you how OarphPy's `HistogramWithExamplesPlotter` helps you do exactly that!  What do you need?\n",
    " 1. A DataFrame (Pandas or Spark) with at least one numeric or categorical column.\n",
    " 2. A Python function for visualizing a row (or some portion of a row).  For example, a function to convert a row to a pretty string or HTML visualization.\n",
    " 3. A Jupyter Notebook (like this one!) or a Python script to render the Bokeh HTML plot and display and/or save it to disk.\n",
    "\n",
    "Why `HistogramWithExamplesPlotter` ?\n",
    " * We'll use Spark to compute the actual histogram.  Spark provides multi-cpu (and even multi-machine) processing to make histogramming scale linearly.\n",
    " * We'll also use Spark to render visualizations for the bucket items.  Spark's RDD API helps accomodate arbitrary user visualization functions and runs computation in parallel (even across many machines).\n",
    " * We use Bokeh's Histogram tool because it supports the simple interactivity we need (click on a bucket to view examples) and plots work in any modern browser with no extra dependencies.\n",
    "\n"
   ]
  },
  {
   "cell_type": "markdown",
   "metadata": {},
   "source": [
    "## Notebook Setup\n",
    "\n",
    "To run this notebook locally, try using the `oarphpy/full` dockerized environment:\n",
    "\n",
    "```docker run -it --rm --net=host oarphpy/full:0.1.1 jupyter notebook --allow-root --ip=\"*\"```\n",
    "\n",
    "If you can't run the notebook locally, find an HTML-rendered copy [here](https://drive.google.com/file/d/1-uWxGQ7mrcY8aZMmBDc5AlV4kQAPLntR/view?usp=sharing).\n",
    "\n",
    "\n",
    "**Google Colab**  You can also [run this notebook in Google Colab](https://colab.research.google.com/github/pwais/oarphpy/blob/v0.1.1/notebooks/Histogram_with_Examples.ipynb).  In the Colab environment, this notebook will install `oarphpy`, Spark, and Java.  Running the cell below will take care of that for you.  You might need to restart the runtime (Use the menu option: *Runtime* > *Restart runtime ...*) in order for Colab to recognize the new modules."
   ]
  },
  {
   "cell_type": "code",
   "execution_count": 1,
   "metadata": {},
   "outputs": [],
   "source": [
    "import os\n",
    "import sys\n",
    "if 'google.colab' in sys.modules:\n",
    "    !pip install oarphpy[spark]==0.1.1\n",
    "    !pip install pyspark==3.3.2\n",
    "    !apt-get update && apt-get install -y openjdk-11-jdk\n",
    "    os.environ['JAVA_HOME'] = '/usr/lib/jvm/java-11-openjdk-amd64'"
   ]
  },
  {
   "cell_type": "markdown",
   "metadata": {},
   "source": [
    "## A Motivating Example: Exploring Out-of-Distribution Robustness in MNIST\n",
    "\n",
    "<img src=\"https://miro.medium.com/max/3744/1*SGPGG7oeSvVlV5sOSQ2iZw.png\" width=\"600\" />\n",
    "<center>An MNIST example input fed into a LeNet Network</center>\n",
    "\n",
    "\n",
    "The [MNIST](https://en.wikipedia.org/wiki/MNIST_database) dataset is well-studied in Computer Vision and consists of thousands of small pictures of hand-written digits.  (New to MNIST? Suppose you're the Post Office and you want to train a Computer Vision model that can read the zipcode digits that people write on their mail.  MNIST has a sample of such handwritten digits).  Today, it's easy to train a convolutional neural network on MNIST and achieve over 98% accuracy.  We're going to do exactly that in the next notebook cell!  \n",
    "\n",
    "But MNIST is a relatively small dataset versus all the digits people have ever written on paper.  How robust is a trained MNIST model to new data?  What if we don't have labels for that new data?  In this tutorial, we're going to use `HistogramWithExamplesPlotter` to examine the scores that an MNIST-trained model gives to \"corrupted\" data never seen at training time.\n",
    "\n",
    "First, let's train a basic MNIST model using Pytorch:"
   ]
  },
  {
   "cell_type": "code",
   "execution_count": 2,
   "metadata": {
    "scrolled": false
   },
   "outputs": [
    {
     "name": "stdout",
     "output_type": "stream",
     "text": [
      "Using pip 23.0.1 from /usr/local/lib/python3.10/dist-packages/pip (python 3.10)\n",
      "Collecting tqdm\n",
      "  Downloading tqdm-4.65.0-py3-none-any.whl (77 kB)\n",
      "\u001b[2K     \u001b[90m━━━━━━━━━━━━━━━━━━━━━━━━━━━━━━━━━━━━━━━━\u001b[0m \u001b[32m77.1/77.1 kB\u001b[0m \u001b[31m2.4 MB/s\u001b[0m eta \u001b[36m0:00:00\u001b[0m\n",
      "\u001b[?25hRequirement already satisfied: torch in /usr/lib/python3/dist-packages (1.13.1)\n",
      "Installing collected packages: tqdm\n",
      "  changing mode of /usr/local/bin/tqdm to 755\n",
      "Successfully installed tqdm-4.65.0\n",
      "\u001b[33mWARNING: Running pip as the 'root' user can result in broken permissions and conflicting behaviour with the system package manager. It is recommended to use a virtual environment instead: https://pip.pypa.io/warnings/venv\u001b[0m\u001b[33m\n",
      "\u001b[0m"
     ]
    }
   ],
   "source": [
    "!pip install -v tqdm torch"
   ]
  },
  {
   "cell_type": "code",
   "execution_count": 3,
   "metadata": {
    "scrolled": false
   },
   "outputs": [
    {
     "name": "stdout",
     "output_type": "stream",
     "text": [
      "Downloading http://yann.lecun.com/exdb/mnist/train-images-idx3-ubyte.gz\n",
      "Downloading http://yann.lecun.com/exdb/mnist/train-images-idx3-ubyte.gz to /opt/mnist-data/MNIST/raw/train-images-idx3-ubyte.gz\n"
     ]
    },
    {
     "data": {
      "application/vnd.jupyter.widget-view+json": {
       "model_id": "7bdb3353065b41e190892795acfaa466",
       "version_major": 2,
       "version_minor": 0
      },
      "text/plain": [
       "  0%|          | 0/9912422 [00:00<?, ?it/s]"
      ]
     },
     "metadata": {},
     "output_type": "display_data"
    },
    {
     "name": "stdout",
     "output_type": "stream",
     "text": [
      "Extracting /opt/mnist-data/MNIST/raw/train-images-idx3-ubyte.gz to /opt/mnist-data/MNIST/raw\n",
      "\n",
      "Downloading http://yann.lecun.com/exdb/mnist/train-labels-idx1-ubyte.gz\n",
      "Downloading http://yann.lecun.com/exdb/mnist/train-labels-idx1-ubyte.gz to /opt/mnist-data/MNIST/raw/train-labels-idx1-ubyte.gz\n"
     ]
    },
    {
     "data": {
      "application/vnd.jupyter.widget-view+json": {
       "model_id": "9f528087cafe49b69a1ec9557355e914",
       "version_major": 2,
       "version_minor": 0
      },
      "text/plain": [
       "  0%|          | 0/28881 [00:00<?, ?it/s]"
      ]
     },
     "metadata": {},
     "output_type": "display_data"
    },
    {
     "name": "stdout",
     "output_type": "stream",
     "text": [
      "Extracting /opt/mnist-data/MNIST/raw/train-labels-idx1-ubyte.gz to /opt/mnist-data/MNIST/raw\n",
      "\n",
      "Downloading http://yann.lecun.com/exdb/mnist/t10k-images-idx3-ubyte.gz\n",
      "Downloading http://yann.lecun.com/exdb/mnist/t10k-images-idx3-ubyte.gz to /opt/mnist-data/MNIST/raw/t10k-images-idx3-ubyte.gz\n"
     ]
    },
    {
     "data": {
      "application/vnd.jupyter.widget-view+json": {
       "model_id": "e6b10efd5f234817b63bdcff3eca9b43",
       "version_major": 2,
       "version_minor": 0
      },
      "text/plain": [
       "  0%|          | 0/1648877 [00:00<?, ?it/s]"
      ]
     },
     "metadata": {},
     "output_type": "display_data"
    },
    {
     "name": "stdout",
     "output_type": "stream",
     "text": [
      "Extracting /opt/mnist-data/MNIST/raw/t10k-images-idx3-ubyte.gz to /opt/mnist-data/MNIST/raw\n",
      "\n",
      "Downloading http://yann.lecun.com/exdb/mnist/t10k-labels-idx1-ubyte.gz\n",
      "Downloading http://yann.lecun.com/exdb/mnist/t10k-labels-idx1-ubyte.gz to /opt/mnist-data/MNIST/raw/t10k-labels-idx1-ubyte.gz\n"
     ]
    },
    {
     "data": {
      "application/vnd.jupyter.widget-view+json": {
       "model_id": "cddc143b92dc4259ab0b5193683c8932",
       "version_major": 2,
       "version_minor": 0
      },
      "text/plain": [
       "  0%|          | 0/4542 [00:00<?, ?it/s]"
      ]
     },
     "metadata": {},
     "output_type": "display_data"
    },
    {
     "name": "stdout",
     "output_type": "stream",
     "text": [
      "Extracting /opt/mnist-data/MNIST/raw/t10k-labels-idx1-ubyte.gz to /opt/mnist-data/MNIST/raw\n",
      "\n",
      "Training and saving to /opt/mnist_cnn.pt\n"
     ]
    },
    {
     "data": {
      "application/vnd.jupyter.widget-view+json": {
       "model_id": "accc13892ce4496598d1471c5f06b4c5",
       "version_major": 2,
       "version_minor": 0
      },
      "text/plain": [
       "epoch:   0%|          | 0/15 [00:00<?, ?it/s]"
      ]
     },
     "metadata": {},
     "output_type": "display_data"
    },
    {
     "data": {
      "application/vnd.jupyter.widget-view+json": {
       "model_id": "a2db9b5173cc42e2b277696815d4f191",
       "version_major": 2,
       "version_minor": 0
      },
      "text/plain": [
       "train_batches:   0%|          | 0/469 [00:00<?, ?it/s]"
      ]
     },
     "metadata": {},
     "output_type": "display_data"
    },
    {
     "name": "stdout",
     "output_type": "stream",
     "text": [
      "Train Epoch: 1 [44928/60000 (100%)]\tLoss: 0.198304\n"
     ]
    },
    {
     "data": {
      "application/vnd.jupyter.widget-view+json": {
       "model_id": "67f280e31e52491aa656e820d4e534ba",
       "version_major": 2,
       "version_minor": 0
      },
      "text/plain": [
       "test_batches:   0%|          | 0/10 [00:00<?, ?it/s]"
      ]
     },
     "metadata": {},
     "output_type": "display_data"
    },
    {
     "name": "stdout",
     "output_type": "stream",
     "text": [
      "\n",
      "Test set: Average loss: -0.9678, Accuracy: 9798/10000 (98%)\n",
      "\n"
     ]
    },
    {
     "data": {
      "application/vnd.jupyter.widget-view+json": {
       "model_id": "0793cb5d8f324689b58ea5348628771e",
       "version_major": 2,
       "version_minor": 0
      },
      "text/plain": [
       "train_batches:   0%|          | 0/469 [00:00<?, ?it/s]"
      ]
     },
     "metadata": {},
     "output_type": "display_data"
    },
    {
     "name": "stdout",
     "output_type": "stream",
     "text": [
      "Train Epoch: 2 [44928/60000 (100%)]\tLoss: 0.306051\n"
     ]
    },
    {
     "data": {
      "application/vnd.jupyter.widget-view+json": {
       "model_id": "e2303e306b174f68a09b98008e8b5061",
       "version_major": 2,
       "version_minor": 0
      },
      "text/plain": [
       "test_batches:   0%|          | 0/10 [00:00<?, ?it/s]"
      ]
     },
     "metadata": {},
     "output_type": "display_data"
    },
    {
     "name": "stdout",
     "output_type": "stream",
     "text": [
      "\n",
      "Test set: Average loss: -0.9788, Accuracy: 9844/10000 (98%)\n",
      "\n"
     ]
    },
    {
     "data": {
      "application/vnd.jupyter.widget-view+json": {
       "model_id": "ef42780133ef4a699583e67a4bd82818",
       "version_major": 2,
       "version_minor": 0
      },
      "text/plain": [
       "train_batches:   0%|          | 0/469 [00:00<?, ?it/s]"
      ]
     },
     "metadata": {},
     "output_type": "display_data"
    },
    {
     "name": "stdout",
     "output_type": "stream",
     "text": [
      "Train Epoch: 3 [44928/60000 (100%)]\tLoss: 0.142083\n"
     ]
    },
    {
     "data": {
      "application/vnd.jupyter.widget-view+json": {
       "model_id": "b2c60819985f4a619831436d2677d10c",
       "version_major": 2,
       "version_minor": 0
      },
      "text/plain": [
       "test_batches:   0%|          | 0/10 [00:00<?, ?it/s]"
      ]
     },
     "metadata": {},
     "output_type": "display_data"
    },
    {
     "name": "stdout",
     "output_type": "stream",
     "text": [
      "\n",
      "Test set: Average loss: -0.9826, Accuracy: 9873/10000 (99%)\n",
      "\n"
     ]
    },
    {
     "data": {
      "application/vnd.jupyter.widget-view+json": {
       "model_id": "405486dd9de04912a950c804f0789bcc",
       "version_major": 2,
       "version_minor": 0
      },
      "text/plain": [
       "train_batches:   0%|          | 0/469 [00:00<?, ?it/s]"
      ]
     },
     "metadata": {},
     "output_type": "display_data"
    },
    {
     "name": "stdout",
     "output_type": "stream",
     "text": [
      "Train Epoch: 4 [44928/60000 (100%)]\tLoss: 0.198513\n"
     ]
    },
    {
     "data": {
      "application/vnd.jupyter.widget-view+json": {
       "model_id": "ac9dd697827246b1bea19abc34e4f537",
       "version_major": 2,
       "version_minor": 0
      },
      "text/plain": [
       "test_batches:   0%|          | 0/10 [00:00<?, ?it/s]"
      ]
     },
     "metadata": {},
     "output_type": "display_data"
    },
    {
     "name": "stdout",
     "output_type": "stream",
     "text": [
      "\n",
      "Test set: Average loss: -0.9850, Accuracy: 9890/10000 (99%)\n",
      "\n"
     ]
    },
    {
     "data": {
      "application/vnd.jupyter.widget-view+json": {
       "model_id": "c02b94ad9e60403a86bdcc10fd7d23de",
       "version_major": 2,
       "version_minor": 0
      },
      "text/plain": [
       "train_batches:   0%|          | 0/469 [00:00<?, ?it/s]"
      ]
     },
     "metadata": {},
     "output_type": "display_data"
    },
    {
     "name": "stdout",
     "output_type": "stream",
     "text": [
      "Train Epoch: 5 [44928/60000 (100%)]\tLoss: 0.184776\n"
     ]
    },
    {
     "data": {
      "application/vnd.jupyter.widget-view+json": {
       "model_id": "2bd1dcbcd091472a8585bd8d2f12940a",
       "version_major": 2,
       "version_minor": 0
      },
      "text/plain": [
       "test_batches:   0%|          | 0/10 [00:00<?, ?it/s]"
      ]
     },
     "metadata": {},
     "output_type": "display_data"
    },
    {
     "name": "stdout",
     "output_type": "stream",
     "text": [
      "\n",
      "Test set: Average loss: -0.9849, Accuracy: 9887/10000 (99%)\n",
      "\n"
     ]
    },
    {
     "data": {
      "application/vnd.jupyter.widget-view+json": {
       "model_id": "ef9a0b05cbd34e7883bebe604104499d",
       "version_major": 2,
       "version_minor": 0
      },
      "text/plain": [
       "train_batches:   0%|          | 0/469 [00:00<?, ?it/s]"
      ]
     },
     "metadata": {},
     "output_type": "display_data"
    },
    {
     "name": "stdout",
     "output_type": "stream",
     "text": [
      "Train Epoch: 6 [44928/60000 (100%)]\tLoss: 0.206751\n"
     ]
    },
    {
     "data": {
      "application/vnd.jupyter.widget-view+json": {
       "model_id": "e250fa630df84a4f9577b2fde12df06e",
       "version_major": 2,
       "version_minor": 0
      },
      "text/plain": [
       "test_batches:   0%|          | 0/10 [00:00<?, ?it/s]"
      ]
     },
     "metadata": {},
     "output_type": "display_data"
    },
    {
     "name": "stdout",
     "output_type": "stream",
     "text": [
      "\n",
      "Test set: Average loss: -0.9855, Accuracy: 9881/10000 (99%)\n",
      "\n"
     ]
    },
    {
     "data": {
      "application/vnd.jupyter.widget-view+json": {
       "model_id": "b8a79726b02d44df8d66c04a38c7b030",
       "version_major": 2,
       "version_minor": 0
      },
      "text/plain": [
       "train_batches:   0%|          | 0/469 [00:00<?, ?it/s]"
      ]
     },
     "metadata": {},
     "output_type": "display_data"
    },
    {
     "name": "stdout",
     "output_type": "stream",
     "text": [
      "Train Epoch: 7 [44928/60000 (100%)]\tLoss: 0.204587\n"
     ]
    },
    {
     "data": {
      "application/vnd.jupyter.widget-view+json": {
       "model_id": "93051eae565847dabb47fbb9380f368b",
       "version_major": 2,
       "version_minor": 0
      },
      "text/plain": [
       "test_batches:   0%|          | 0/10 [00:00<?, ?it/s]"
      ]
     },
     "metadata": {},
     "output_type": "display_data"
    },
    {
     "name": "stdout",
     "output_type": "stream",
     "text": [
      "\n",
      "Test set: Average loss: -0.9859, Accuracy: 9889/10000 (99%)\n",
      "\n"
     ]
    },
    {
     "data": {
      "application/vnd.jupyter.widget-view+json": {
       "model_id": "91111a6d777f4e30b77e0e4ad927302d",
       "version_major": 2,
       "version_minor": 0
      },
      "text/plain": [
       "train_batches:   0%|          | 0/469 [00:00<?, ?it/s]"
      ]
     },
     "metadata": {},
     "output_type": "display_data"
    },
    {
     "name": "stdout",
     "output_type": "stream",
     "text": [
      "Train Epoch: 8 [44928/60000 (100%)]\tLoss: 0.227512\n"
     ]
    },
    {
     "data": {
      "application/vnd.jupyter.widget-view+json": {
       "model_id": "4e82702709ac455298c28b2a513c0c29",
       "version_major": 2,
       "version_minor": 0
      },
      "text/plain": [
       "test_batches:   0%|          | 0/10 [00:00<?, ?it/s]"
      ]
     },
     "metadata": {},
     "output_type": "display_data"
    },
    {
     "name": "stdout",
     "output_type": "stream",
     "text": [
      "\n",
      "Test set: Average loss: -0.9865, Accuracy: 9889/10000 (99%)\n",
      "\n"
     ]
    },
    {
     "data": {
      "application/vnd.jupyter.widget-view+json": {
       "model_id": "abca5f4e3f034cdb8d65b603482435cb",
       "version_major": 2,
       "version_minor": 0
      },
      "text/plain": [
       "train_batches:   0%|          | 0/469 [00:00<?, ?it/s]"
      ]
     },
     "metadata": {},
     "output_type": "display_data"
    },
    {
     "name": "stdout",
     "output_type": "stream",
     "text": [
      "Train Epoch: 9 [44928/60000 (100%)]\tLoss: 0.190103\n"
     ]
    },
    {
     "data": {
      "application/vnd.jupyter.widget-view+json": {
       "model_id": "a7a0013831f6474ab1ffce3644c42173",
       "version_major": 2,
       "version_minor": 0
      },
      "text/plain": [
       "test_batches:   0%|          | 0/10 [00:00<?, ?it/s]"
      ]
     },
     "metadata": {},
     "output_type": "display_data"
    },
    {
     "name": "stdout",
     "output_type": "stream",
     "text": [
      "\n",
      "Test set: Average loss: -0.9865, Accuracy: 9885/10000 (99%)\n",
      "\n"
     ]
    },
    {
     "data": {
      "application/vnd.jupyter.widget-view+json": {
       "model_id": "ff214b9b9bfd4b25bdb2551902fdafa5",
       "version_major": 2,
       "version_minor": 0
      },
      "text/plain": [
       "train_batches:   0%|          | 0/469 [00:00<?, ?it/s]"
      ]
     },
     "metadata": {},
     "output_type": "display_data"
    },
    {
     "name": "stdout",
     "output_type": "stream",
     "text": [
      "Train Epoch: 10 [44928/60000 (100%)]\tLoss: 0.145944\n"
     ]
    },
    {
     "data": {
      "application/vnd.jupyter.widget-view+json": {
       "model_id": "25beaf4c8f7e41e3a1fc47aec0c9a263",
       "version_major": 2,
       "version_minor": 0
      },
      "text/plain": [
       "test_batches:   0%|          | 0/10 [00:00<?, ?it/s]"
      ]
     },
     "metadata": {},
     "output_type": "display_data"
    },
    {
     "name": "stdout",
     "output_type": "stream",
     "text": [
      "\n",
      "Test set: Average loss: -0.9863, Accuracy: 9889/10000 (99%)\n",
      "\n"
     ]
    },
    {
     "data": {
      "application/vnd.jupyter.widget-view+json": {
       "model_id": "f5190e7d42ec4a9a89fac53619ada520",
       "version_major": 2,
       "version_minor": 0
      },
      "text/plain": [
       "train_batches:   0%|          | 0/469 [00:00<?, ?it/s]"
      ]
     },
     "metadata": {},
     "output_type": "display_data"
    },
    {
     "name": "stdout",
     "output_type": "stream",
     "text": [
      "Train Epoch: 11 [44928/60000 (100%)]\tLoss: 0.171438\n"
     ]
    },
    {
     "data": {
      "application/vnd.jupyter.widget-view+json": {
       "model_id": "95e11fd255b446acb523dd9d8fdf123a",
       "version_major": 2,
       "version_minor": 0
      },
      "text/plain": [
       "test_batches:   0%|          | 0/10 [00:00<?, ?it/s]"
      ]
     },
     "metadata": {},
     "output_type": "display_data"
    },
    {
     "name": "stdout",
     "output_type": "stream",
     "text": [
      "\n",
      "Test set: Average loss: -0.9867, Accuracy: 9889/10000 (99%)\n",
      "\n"
     ]
    },
    {
     "data": {
      "application/vnd.jupyter.widget-view+json": {
       "model_id": "3a46cf4dbaef4893a9cc49f4aa48fd2f",
       "version_major": 2,
       "version_minor": 0
      },
      "text/plain": [
       "train_batches:   0%|          | 0/469 [00:00<?, ?it/s]"
      ]
     },
     "metadata": {},
     "output_type": "display_data"
    },
    {
     "name": "stdout",
     "output_type": "stream",
     "text": [
      "Train Epoch: 12 [44928/60000 (100%)]\tLoss: 0.180739\n"
     ]
    },
    {
     "data": {
      "application/vnd.jupyter.widget-view+json": {
       "model_id": "a2cc1cbf8edc46bcb3bba353e6094196",
       "version_major": 2,
       "version_minor": 0
      },
      "text/plain": [
       "test_batches:   0%|          | 0/10 [00:00<?, ?it/s]"
      ]
     },
     "metadata": {},
     "output_type": "display_data"
    },
    {
     "name": "stdout",
     "output_type": "stream",
     "text": [
      "\n",
      "Test set: Average loss: -0.9868, Accuracy: 9891/10000 (99%)\n",
      "\n"
     ]
    },
    {
     "data": {
      "application/vnd.jupyter.widget-view+json": {
       "model_id": "0b3f214bb6cd42ff98849d4aad047e74",
       "version_major": 2,
       "version_minor": 0
      },
      "text/plain": [
       "train_batches:   0%|          | 0/469 [00:00<?, ?it/s]"
      ]
     },
     "metadata": {},
     "output_type": "display_data"
    },
    {
     "name": "stdout",
     "output_type": "stream",
     "text": [
      "Train Epoch: 13 [44928/60000 (100%)]\tLoss: 0.156769\n"
     ]
    },
    {
     "data": {
      "application/vnd.jupyter.widget-view+json": {
       "model_id": "f8521ad437a040a1a83d448c0da105b5",
       "version_major": 2,
       "version_minor": 0
      },
      "text/plain": [
       "test_batches:   0%|          | 0/10 [00:00<?, ?it/s]"
      ]
     },
     "metadata": {},
     "output_type": "display_data"
    },
    {
     "name": "stdout",
     "output_type": "stream",
     "text": [
      "\n",
      "Test set: Average loss: -0.9869, Accuracy: 9890/10000 (99%)\n",
      "\n"
     ]
    },
    {
     "data": {
      "application/vnd.jupyter.widget-view+json": {
       "model_id": "826a2fc4447347618c9b0850c5719540",
       "version_major": 2,
       "version_minor": 0
      },
      "text/plain": [
       "train_batches:   0%|          | 0/469 [00:00<?, ?it/s]"
      ]
     },
     "metadata": {},
     "output_type": "display_data"
    },
    {
     "name": "stdout",
     "output_type": "stream",
     "text": [
      "Train Epoch: 14 [44928/60000 (100%)]\tLoss: 0.150828\n"
     ]
    },
    {
     "data": {
      "application/vnd.jupyter.widget-view+json": {
       "model_id": "e871ad6228614ea2988468776ea52cd9",
       "version_major": 2,
       "version_minor": 0
      },
      "text/plain": [
       "test_batches:   0%|          | 0/10 [00:00<?, ?it/s]"
      ]
     },
     "metadata": {},
     "output_type": "display_data"
    },
    {
     "name": "stdout",
     "output_type": "stream",
     "text": [
      "\n",
      "Test set: Average loss: -0.9868, Accuracy: 9891/10000 (99%)\n",
      "\n"
     ]
    },
    {
     "data": {
      "application/vnd.jupyter.widget-view+json": {
       "model_id": "14a27bc113c04fc69fc761f892f6dba6",
       "version_major": 2,
       "version_minor": 0
      },
      "text/plain": [
       "train_batches:   0%|          | 0/469 [00:00<?, ?it/s]"
      ]
     },
     "metadata": {},
     "output_type": "display_data"
    },
    {
     "name": "stdout",
     "output_type": "stream",
     "text": [
      "Train Epoch: 15 [44928/60000 (100%)]\tLoss: 0.137323\n"
     ]
    },
    {
     "data": {
      "application/vnd.jupyter.widget-view+json": {
       "model_id": "a5ce354386544fe68520c0ecb5b8bf80",
       "version_major": 2,
       "version_minor": 0
      },
      "text/plain": [
       "test_batches:   0%|          | 0/10 [00:00<?, ?it/s]"
      ]
     },
     "metadata": {},
     "output_type": "display_data"
    },
    {
     "name": "stdout",
     "output_type": "stream",
     "text": [
      "\n",
      "Test set: Average loss: -0.9869, Accuracy: 9892/10000 (99%)\n",
      "\n"
     ]
    }
   ],
   "source": [
    "# Basic MNIST ConvNet c/o Pytorch (with some small modifications noted)\n",
    "# https://github.com/pytorch/examples/blob/40289773aa4916fad0d50967917b3ae8aa534fd6/mnist/main.py#L1\n",
    "\n",
    "model_ckpt = '/opt/mnist_cnn.pt'\n",
    "\n",
    "import os\n",
    "import torch\n",
    "import torch.nn as nn\n",
    "import torch.nn.functional as F\n",
    "import torch.optim as optim\n",
    "from torchvision import datasets, transforms\n",
    "from torch.optim.lr_scheduler import StepLR\n",
    "from tqdm.notebook import tqdm\n",
    "\n",
    "torch.manual_seed(1337)\n",
    "if 'google.colab' in sys.modules:\n",
    "    DEVICE = 'cuda'\n",
    "else:\n",
    "    DEVICE = 'cpu'\n",
    "\n",
    "# We need this many epochs to get a nice bimodal score distribution for the 7 class\n",
    "N_EPOCHS = 15\n",
    "\n",
    "class Net(nn.Module):\n",
    "    def __init__(self):\n",
    "        super(Net, self).__init__()\n",
    "        self.conv1 = nn.Conv2d(1, 32, 3, 1)\n",
    "        self.conv2 = nn.Conv2d(32, 64, 3, 1)\n",
    "        self.dropout1 = nn.Dropout(0.25)\n",
    "        self.dropout2 = nn.Dropout(0.5)\n",
    "        self.fc1 = nn.Linear(9216, 128)\n",
    "        self.fc2 = nn.Linear(128, 10)\n",
    "\n",
    "    def forward(self, x):\n",
    "        x = self.conv1(x)\n",
    "        x = F.relu(x)\n",
    "        x = self.conv2(x)\n",
    "        x = F.relu(x)\n",
    "        x = F.max_pool2d(x, 2)\n",
    "        x = self.dropout1(x)\n",
    "        x = torch.flatten(x, 1)\n",
    "        x = self.fc1(x)\n",
    "        x = F.relu(x)\n",
    "        x = self.dropout2(x)\n",
    "        x = self.fc2(x)\n",
    "        \n",
    "        # Use softmax instead for easier interpretation of logits\n",
    "        # output = F.log_softmax(x, dim=1)\n",
    "        output = F.softmax(x, dim=1)\n",
    "\n",
    "        return output\n",
    "    \n",
    "def train(model, train_loader, optimizer, epoch):\n",
    "    model.train()\n",
    "    iter_train = tqdm(enumerate(train_loader), desc='train_batches', total=len(train_loader))\n",
    "    for batch_idx, (data, target) in iter_train:\n",
    "        data, target = data.to(DEVICE), target.to(DEVICE)\n",
    "        optimizer.zero_grad()\n",
    "        output = model(data)\n",
    "        \n",
    "        # Push log into the loss instead of net output\n",
    "        #loss = F.nll_loss(output, target)\n",
    "        loss = F.nll_loss(torch.log(output), target)\n",
    "        \n",
    "        loss.backward()\n",
    "        optimizer.step()\n",
    "    print('Train Epoch: {} [{}/{} ({:.0f}%)]\\tLoss: {:.6f}'.format(\n",
    "        epoch, batch_idx * len(data), len(train_loader.dataset),\n",
    "        100. * batch_idx / len(train_loader), loss.item()))\n",
    "\n",
    "def test(model, test_loader):\n",
    "    model.eval()\n",
    "    test_loss = 0\n",
    "    correct = 0\n",
    "    with torch.no_grad():\n",
    "        iter_test = tqdm(test_loader, desc='test_batches', total=len(test_loader))\n",
    "        for data, target in iter_test:\n",
    "            data, target = data.to(DEVICE), target.to(DEVICE)\n",
    "            output = model(data)\n",
    "            test_loss += F.nll_loss(output, target, reduction='sum').item()\n",
    "            pred = output.argmax(dim=1, keepdim=True)\n",
    "            correct += pred.eq(target.view_as(pred)).sum().item()\n",
    "\n",
    "    test_loss /= len(test_loader.dataset)\n",
    "\n",
    "    print('\\nTest set: Average loss: {:.4f}, Accuracy: {}/{} ({:.0f}%)\\n'.format(\n",
    "        test_loss, correct, len(test_loader.dataset),\n",
    "        100. * correct / len(test_loader.dataset)))\n",
    "\n",
    "\n",
    "train_kwargs = {'batch_size': 128}\n",
    "test_kwargs = {'batch_size': 1024}\n",
    "    \n",
    "transform = transforms.Compose([\n",
    "    transforms.ToTensor(),\n",
    "#     transforms.Normalize((0.1307,), (0.3081,))\n",
    "])\n",
    "dataset1 = datasets.MNIST('/opt/mnist-data', train=True, download=True, transform=transform)\n",
    "dataset2 = datasets.MNIST('/opt/mnist-data', train=False, transform=transform)\n",
    "train_loader = torch.utils.data.DataLoader(dataset1, **train_kwargs)\n",
    "test_loader = torch.utils.data.DataLoader(dataset2, **test_kwargs)\n",
    "\n",
    "model = Net().to(DEVICE)\n",
    "optimizer = optim.Adadelta(model.parameters(), lr=1.0)\n",
    "\n",
    "scheduler = StepLR(optimizer, step_size=1, gamma=0.7)\n",
    "\n",
    "if os.path.exists(model_ckpt):\n",
    "    print(f\"Resuming from existing checkpoint {model_ckpt}\")\n",
    "    print(f\"To re-train, delete the checkpoint: $ rm {model_ckpt}\")\n",
    "    model.load_state_dict(torch.load(model_ckpt))\n",
    "else:\n",
    "    print(f\"Training and saving to {model_ckpt}\")\n",
    "    print(\"NOTE! If you'd like to skip training, you can download a copy of the model here:\")\n",
    "    print(\"https://drive.google.com/file/d/1rUey6jIW_duT20QNjnUL3i7LYI1u7IJW/view?usp=sharing\")\n",
    "\n",
    "    for epoch in tqdm(range(1, N_EPOCHS + 1), desc='epoch'):\n",
    "        train(model, train_loader, optimizer, epoch)\n",
    "        test(model, test_loader)\n",
    "        scheduler.step()\n",
    "\n",
    "\n",
    "    torch.save(model.state_dict(), model_ckpt)\n",
    "\n",
    "x_test = torch.cat([xx[0] for xx in test_loader])\n",
    "\n",
    "def model_predict(x):\n",
    "    model.cpu().eval()\n",
    "    with torch.no_grad():\n",
    "        prob = model(x)\n",
    "        pred = prob.argmax(dim=1, keepdim=True)\n",
    "    return prob, pred\n",
    "\n"
   ]
  },
  {
   "cell_type": "markdown",
   "metadata": {},
   "source": [
    "Now, let's run the trained model on the test set and pack the predictions into a Pandas DataFrame.  For each input, the network outputs a score for each class (the numbers 0 through 9).  We'll take a look at the raw network scores for the class \"7,\" which is easy to confused for a \"1\". "
   ]
  },
  {
   "cell_type": "code",
   "execution_count": 4,
   "metadata": {},
   "outputs": [
    {
     "data": {
      "text/html": [
       "<div>\n",
       "<style scoped>\n",
       "    .dataframe tbody tr th:only-of-type {\n",
       "        vertical-align: middle;\n",
       "    }\n",
       "\n",
       "    .dataframe tbody tr th {\n",
       "        vertical-align: top;\n",
       "    }\n",
       "\n",
       "    .dataframe thead th {\n",
       "        text-align: right;\n",
       "    }\n",
       "</style>\n",
       "<table border=\"1\" class=\"dataframe\">\n",
       "  <thead>\n",
       "    <tr style=\"text-align: right;\">\n",
       "      <th></th>\n",
       "      <th>score_0</th>\n",
       "      <th>score_1</th>\n",
       "      <th>score_2</th>\n",
       "      <th>score_3</th>\n",
       "      <th>score_4</th>\n",
       "      <th>score_5</th>\n",
       "      <th>score_6</th>\n",
       "      <th>score_7</th>\n",
       "      <th>score_8</th>\n",
       "      <th>score_9</th>\n",
       "      <th>x_i</th>\n",
       "    </tr>\n",
       "  </thead>\n",
       "  <tbody>\n",
       "    <tr>\n",
       "      <th>0</th>\n",
       "      <td>1.666295e-12</td>\n",
       "      <td>9.708602e-11</td>\n",
       "      <td>1.020098e-08</td>\n",
       "      <td>1.268901e-09</td>\n",
       "      <td>4.895701e-12</td>\n",
       "      <td>1.794280e-12</td>\n",
       "      <td>4.720299e-15</td>\n",
       "      <td>1.000000e+00</td>\n",
       "      <td>9.185045e-12</td>\n",
       "      <td>4.956310e-09</td>\n",
       "      <td>[[0.0, 0.0, 0.0, 0.0, 0.0, 0.0, 0.0, 0.0, 0.0,...</td>\n",
       "    </tr>\n",
       "    <tr>\n",
       "      <th>1</th>\n",
       "      <td>6.385335e-08</td>\n",
       "      <td>1.281082e-06</td>\n",
       "      <td>9.999985e-01</td>\n",
       "      <td>4.398146e-10</td>\n",
       "      <td>7.451101e-12</td>\n",
       "      <td>7.687796e-13</td>\n",
       "      <td>1.296026e-07</td>\n",
       "      <td>7.235867e-11</td>\n",
       "      <td>1.650108e-09</td>\n",
       "      <td>9.231881e-14</td>\n",
       "      <td>[[0.0, 0.0, 0.0, 0.0, 0.0, 0.0, 0.0, 0.0, 0.0,...</td>\n",
       "    </tr>\n",
       "    <tr>\n",
       "      <th>2</th>\n",
       "      <td>2.790225e-08</td>\n",
       "      <td>9.999918e-01</td>\n",
       "      <td>2.045216e-07</td>\n",
       "      <td>6.124344e-09</td>\n",
       "      <td>3.181621e-06</td>\n",
       "      <td>9.231777e-08</td>\n",
       "      <td>5.492074e-07</td>\n",
       "      <td>4.090763e-06</td>\n",
       "      <td>1.358098e-07</td>\n",
       "      <td>4.678723e-08</td>\n",
       "      <td>[[0.0, 0.0, 0.0, 0.0, 0.0, 0.0, 0.0, 0.0, 0.0,...</td>\n",
       "    </tr>\n",
       "    <tr>\n",
       "      <th>3</th>\n",
       "      <td>9.999950e-01</td>\n",
       "      <td>3.951097e-08</td>\n",
       "      <td>1.086515e-06</td>\n",
       "      <td>3.036769e-09</td>\n",
       "      <td>1.050577e-08</td>\n",
       "      <td>1.097534e-08</td>\n",
       "      <td>3.404809e-06</td>\n",
       "      <td>1.830841e-07</td>\n",
       "      <td>6.096547e-08</td>\n",
       "      <td>9.567390e-08</td>\n",
       "      <td>[[0.0, 0.0, 0.0, 0.0, 0.0, 0.0, 0.0, 0.0, 0.0,...</td>\n",
       "    </tr>\n",
       "    <tr>\n",
       "      <th>4</th>\n",
       "      <td>2.000482e-08</td>\n",
       "      <td>2.379246e-08</td>\n",
       "      <td>4.107488e-08</td>\n",
       "      <td>1.893190e-10</td>\n",
       "      <td>9.999777e-01</td>\n",
       "      <td>7.419485e-10</td>\n",
       "      <td>4.249667e-08</td>\n",
       "      <td>1.387315e-08</td>\n",
       "      <td>3.220784e-08</td>\n",
       "      <td>2.214572e-05</td>\n",
       "      <td>[[0.0, 0.0, 0.0, 0.0, 0.0, 0.0, 0.0, 0.0, 0.0,...</td>\n",
       "    </tr>\n",
       "    <tr>\n",
       "      <th>...</th>\n",
       "      <td>...</td>\n",
       "      <td>...</td>\n",
       "      <td>...</td>\n",
       "      <td>...</td>\n",
       "      <td>...</td>\n",
       "      <td>...</td>\n",
       "      <td>...</td>\n",
       "      <td>...</td>\n",
       "      <td>...</td>\n",
       "      <td>...</td>\n",
       "      <td>...</td>\n",
       "    </tr>\n",
       "    <tr>\n",
       "      <th>9995</th>\n",
       "      <td>9.127882e-12</td>\n",
       "      <td>8.512246e-08</td>\n",
       "      <td>9.999999e-01</td>\n",
       "      <td>5.384519e-09</td>\n",
       "      <td>2.463138e-14</td>\n",
       "      <td>4.580554e-15</td>\n",
       "      <td>2.152786e-13</td>\n",
       "      <td>1.736553e-08</td>\n",
       "      <td>8.733217e-10</td>\n",
       "      <td>3.547919e-15</td>\n",
       "      <td>[[0.0, 0.0, 0.0, 0.0, 0.0, 0.0, 0.0, 0.0, 0.0,...</td>\n",
       "    </tr>\n",
       "    <tr>\n",
       "      <th>9996</th>\n",
       "      <td>6.531591e-10</td>\n",
       "      <td>2.936270e-09</td>\n",
       "      <td>1.257551e-08</td>\n",
       "      <td>9.999963e-01</td>\n",
       "      <td>1.990298e-11</td>\n",
       "      <td>3.600434e-06</td>\n",
       "      <td>3.078520e-11</td>\n",
       "      <td>4.383115e-09</td>\n",
       "      <td>1.216664e-09</td>\n",
       "      <td>6.073076e-08</td>\n",
       "      <td>[[0.0, 0.0, 0.0, 0.0, 0.0, 0.0, 0.0, 0.0, 0.0,...</td>\n",
       "    </tr>\n",
       "    <tr>\n",
       "      <th>9997</th>\n",
       "      <td>1.076957e-14</td>\n",
       "      <td>7.316457e-10</td>\n",
       "      <td>1.751892e-13</td>\n",
       "      <td>6.589362e-14</td>\n",
       "      <td>1.000000e+00</td>\n",
       "      <td>3.043836e-12</td>\n",
       "      <td>1.105804e-11</td>\n",
       "      <td>2.092271e-09</td>\n",
       "      <td>4.008249e-09</td>\n",
       "      <td>1.101974e-08</td>\n",
       "      <td>[[0.0, 0.0, 0.0, 0.0, 0.0, 0.0, 0.0, 0.0, 0.0,...</td>\n",
       "    </tr>\n",
       "    <tr>\n",
       "      <th>9998</th>\n",
       "      <td>7.055724e-13</td>\n",
       "      <td>8.388026e-13</td>\n",
       "      <td>3.064934e-14</td>\n",
       "      <td>2.192952e-09</td>\n",
       "      <td>2.058131e-14</td>\n",
       "      <td>9.999999e-01</td>\n",
       "      <td>2.026460e-09</td>\n",
       "      <td>2.115985e-13</td>\n",
       "      <td>8.733659e-08</td>\n",
       "      <td>2.399424e-11</td>\n",
       "      <td>[[0.0, 0.0, 0.0, 0.0, 0.0, 0.0, 0.0, 0.0, 0.0,...</td>\n",
       "    </tr>\n",
       "    <tr>\n",
       "      <th>9999</th>\n",
       "      <td>4.967735e-08</td>\n",
       "      <td>1.283627e-10</td>\n",
       "      <td>2.104551e-08</td>\n",
       "      <td>9.355691e-11</td>\n",
       "      <td>6.125577e-08</td>\n",
       "      <td>5.635767e-08</td>\n",
       "      <td>9.999999e-01</td>\n",
       "      <td>1.621125e-14</td>\n",
       "      <td>3.916712e-09</td>\n",
       "      <td>6.066733e-11</td>\n",
       "      <td>[[0.0, 0.0, 0.0, 0.0, 0.0, 0.0, 0.0, 0.0, 0.0,...</td>\n",
       "    </tr>\n",
       "  </tbody>\n",
       "</table>\n",
       "<p>10000 rows × 11 columns</p>\n",
       "</div>"
      ],
      "text/plain": [
       "           score_0       score_1       score_2       score_3       score_4  \\\n",
       "0     1.666295e-12  9.708602e-11  1.020098e-08  1.268901e-09  4.895701e-12   \n",
       "1     6.385335e-08  1.281082e-06  9.999985e-01  4.398146e-10  7.451101e-12   \n",
       "2     2.790225e-08  9.999918e-01  2.045216e-07  6.124344e-09  3.181621e-06   \n",
       "3     9.999950e-01  3.951097e-08  1.086515e-06  3.036769e-09  1.050577e-08   \n",
       "4     2.000482e-08  2.379246e-08  4.107488e-08  1.893190e-10  9.999777e-01   \n",
       "...            ...           ...           ...           ...           ...   \n",
       "9995  9.127882e-12  8.512246e-08  9.999999e-01  5.384519e-09  2.463138e-14   \n",
       "9996  6.531591e-10  2.936270e-09  1.257551e-08  9.999963e-01  1.990298e-11   \n",
       "9997  1.076957e-14  7.316457e-10  1.751892e-13  6.589362e-14  1.000000e+00   \n",
       "9998  7.055724e-13  8.388026e-13  3.064934e-14  2.192952e-09  2.058131e-14   \n",
       "9999  4.967735e-08  1.283627e-10  2.104551e-08  9.355691e-11  6.125577e-08   \n",
       "\n",
       "           score_5       score_6       score_7       score_8       score_9  \\\n",
       "0     1.794280e-12  4.720299e-15  1.000000e+00  9.185045e-12  4.956310e-09   \n",
       "1     7.687796e-13  1.296026e-07  7.235867e-11  1.650108e-09  9.231881e-14   \n",
       "2     9.231777e-08  5.492074e-07  4.090763e-06  1.358098e-07  4.678723e-08   \n",
       "3     1.097534e-08  3.404809e-06  1.830841e-07  6.096547e-08  9.567390e-08   \n",
       "4     7.419485e-10  4.249667e-08  1.387315e-08  3.220784e-08  2.214572e-05   \n",
       "...            ...           ...           ...           ...           ...   \n",
       "9995  4.580554e-15  2.152786e-13  1.736553e-08  8.733217e-10  3.547919e-15   \n",
       "9996  3.600434e-06  3.078520e-11  4.383115e-09  1.216664e-09  6.073076e-08   \n",
       "9997  3.043836e-12  1.105804e-11  2.092271e-09  4.008249e-09  1.101974e-08   \n",
       "9998  9.999999e-01  2.026460e-09  2.115985e-13  8.733659e-08  2.399424e-11   \n",
       "9999  5.635767e-08  9.999999e-01  1.621125e-14  3.916712e-09  6.066733e-11   \n",
       "\n",
       "                                                    x_i  \n",
       "0     [[0.0, 0.0, 0.0, 0.0, 0.0, 0.0, 0.0, 0.0, 0.0,...  \n",
       "1     [[0.0, 0.0, 0.0, 0.0, 0.0, 0.0, 0.0, 0.0, 0.0,...  \n",
       "2     [[0.0, 0.0, 0.0, 0.0, 0.0, 0.0, 0.0, 0.0, 0.0,...  \n",
       "3     [[0.0, 0.0, 0.0, 0.0, 0.0, 0.0, 0.0, 0.0, 0.0,...  \n",
       "4     [[0.0, 0.0, 0.0, 0.0, 0.0, 0.0, 0.0, 0.0, 0.0,...  \n",
       "...                                                 ...  \n",
       "9995  [[0.0, 0.0, 0.0, 0.0, 0.0, 0.0, 0.0, 0.0, 0.0,...  \n",
       "9996  [[0.0, 0.0, 0.0, 0.0, 0.0, 0.0, 0.0, 0.0, 0.0,...  \n",
       "9997  [[0.0, 0.0, 0.0, 0.0, 0.0, 0.0, 0.0, 0.0, 0.0,...  \n",
       "9998  [[0.0, 0.0, 0.0, 0.0, 0.0, 0.0, 0.0, 0.0, 0.0,...  \n",
       "9999  [[0.0, 0.0, 0.0, 0.0, 0.0, 0.0, 0.0, 0.0, 0.0,...  \n",
       "\n",
       "[10000 rows x 11 columns]"
      ]
     },
     "execution_count": 4,
     "metadata": {},
     "output_type": "execute_result"
    }
   ],
   "source": [
    "prob, pred = model_predict(x_test)\n",
    "\n",
    "rows = []\n",
    "for i, (x_i, score_i, pred_i) in enumerate(zip(x_test, prob, pred)):\n",
    "    row = {}\n",
    "    for classname, score in enumerate(score_i):\n",
    "        row[f'score_{classname}'] = score.item()\n",
    "    row['x_i'] = x_i.squeeze().tolist()\n",
    "    rows.append(row)\n",
    "\n",
    "import pandas as pd\n",
    "prediction_df = pd.DataFrame(rows)\n",
    "prediction_df"
   ]
  },
  {
   "cell_type": "markdown",
   "metadata": {},
   "source": [
    "Now let's histogram the network's scores for the 7 class.  Note that since the network has high accuracy, the scores are rather cleanly bi-modal.  For this stage, we'll use the `pandas` built-in `hist()` feature, which gives us a histogram (though without examples or other visualization)."
   ]
  },
  {
   "cell_type": "code",
   "execution_count": 5,
   "metadata": {},
   "outputs": [
    {
     "data": {
      "text/plain": [
       "<Axes: >"
      ]
     },
     "execution_count": 5,
     "metadata": {},
     "output_type": "execute_result"
    },
    {
     "data": {
      "image/png": "[encoded data removed]",
      "text/plain": [
       "<Figure size 432x288 with 1 Axes>"
      ]
     },
     "metadata": {
      "needs_background": "light"
     },
     "output_type": "display_data"
    }
   ],
   "source": [
    "%matplotlib inline \n",
    "prediction_df['score_7'].hist()"
   ]
  },
  {
   "cell_type": "markdown",
   "metadata": {},
   "source": [
    "## Simulating Out-of-Distribution Samples using MNIST-C: Corrupted MNIST\n",
    "\n",
    "MNIST-C is a benchmark dataset derived from MNIST that has synthetic corruptions.  For example, in MNIST-C, digits are rotated, blurred, speckled, etc.  We will take the normal MNIST model we trained above, run inference on MNIST-C examples, and examine how well the corruption-unaware network generalizes.  This scenario simulates a common situation in production where one has a trained model, lots of unlabeled data, and little tooling for measuring or inspecting error in the wild.  We'll see how `HistogramWithExamplesPlotter` can be a useful tool for quick exploration. \n",
    "\n",
    "First, let's get the code for using MNIST-C:"
   ]
  },
  {
   "cell_type": "code",
   "execution_count": 6,
   "metadata": {},
   "outputs": [
    {
     "name": "stdout",
     "output_type": "stream",
     "text": [
      "Cloning into 'oarphpy-mirror-mnist-c'...\n",
      "remote: Enumerating objects: 22, done.\u001b[K\n",
      "remote: Total 22 (delta 0), reused 0 (delta 0), pack-reused 22\u001b[K\n",
      "Receiving objects: 100% (22/22), 1.91 MiB | 5.01 MiB/s, done.\n",
      "Resolving deltas: 100% (4/4), done.\n",
      "Note: switching to 'bba57e4ccc282f106907c5239958e72298451ea7'.\n",
      "\n",
      "You are in 'detached HEAD' state. You can look around, make experimental\n",
      "changes and commit them, and you can discard any commits you make in this\n",
      "state without impacting any branches by switching back to a branch.\n",
      "\n",
      "If you want to create a new branch to retain commits you create, you may\n",
      "do so (now or later) by using -c with the switch command. Example:\n",
      "\n",
      "  git switch -c <new-branch-name>\n",
      "\n",
      "Or undo this operation with:\n",
      "\n",
      "  git switch -\n",
      "\n",
      "Turn off this advice by setting config variable advice.detachedHead to false\n",
      "\n",
      "HEAD is now at bba57e4 updated readme\n",
      "Collecting scikit-image==0.19.3\n",
      "  Downloading scikit_image-0.19.3-cp310-cp310-manylinux_2_17_x86_64.manylinux2014_x86_64.whl (13.9 MB)\n",
      "\u001b[2K     \u001b[90m━━━━━━━━━━━━━━━━━━━━━━━━━━━━━━━━━━━━━━━━\u001b[0m \u001b[32m13.9/13.9 MB\u001b[0m \u001b[31m10.5 MB/s\u001b[0m eta \u001b[36m0:00:00\u001b[0m00:01\u001b[0m00:01\u001b[0m\n",
      "\u001b[?25hCollecting tifffile>=2019.7.26\n",
      "  Downloading tifffile-2023.2.28-py3-none-any.whl (216 kB)\n",
      "\u001b[2K     \u001b[90m━━━━━━━━━━━━━━━━━━━━━━━━━━━━━━━━━━━━━━\u001b[0m \u001b[32m216.4/216.4 kB\u001b[0m \u001b[31m10.2 MB/s\u001b[0m eta \u001b[36m0:00:00\u001b[0m\n",
      "\u001b[?25hCollecting PyWavelets>=1.1.1\n",
      "  Downloading PyWavelets-1.4.1-cp310-cp310-manylinux_2_17_x86_64.manylinux2014_x86_64.whl (6.8 MB)\n",
      "\u001b[2K     \u001b[90m━━━━━━━━━━━━━━━━━━━━━━━━━━━━━━━━━━━━━━━━\u001b[0m \u001b[32m6.8/6.8 MB\u001b[0m \u001b[31m10.7 MB/s\u001b[0m eta \u001b[36m0:00:00\u001b[0m00:01\u001b[0m00:01\u001b[0m\n",
      "\u001b[?25hRequirement already satisfied: imageio>=2.4.1 in /usr/local/lib/python3.10/dist-packages (from scikit-image==0.19.3) (2.22.4)\n",
      "Collecting networkx>=2.2\n",
      "  Downloading networkx-3.0-py3-none-any.whl (2.0 MB)\n",
      "\u001b[2K     \u001b[90m━━━━━━━━━━━━━━━━━━━━━━━━━━━━━━━━━━━━━━━━\u001b[0m \u001b[32m2.0/2.0 MB\u001b[0m \u001b[31m11.2 MB/s\u001b[0m eta \u001b[36m0:00:00\u001b[0ma \u001b[36m0:00:01\u001b[0m\n",
      "\u001b[?25hRequirement already satisfied: numpy>=1.17.0 in /usr/lib/python3/dist-packages (from scikit-image==0.19.3) (1.21.5)\n",
      "Requirement already satisfied: scipy>=1.4.1 in /usr/lib/python3/dist-packages (from scikit-image==0.19.3) (1.8.0)\n",
      "Requirement already satisfied: pillow!=7.1.0,!=7.1.1,!=8.3.0,>=6.1.0 in /usr/lib/python3/dist-packages (from scikit-image==0.19.3) (9.0.1)\n",
      "Requirement already satisfied: packaging>=20.0 in /usr/lib/python3/dist-packages (from scikit-image==0.19.3) (21.3)\n",
      "Installing collected packages: tifffile, PyWavelets, networkx, scikit-image\n",
      "Successfully installed PyWavelets-1.4.1 networkx-3.0 scikit-image-0.19.3 tifffile-2023.2.28\n",
      "\u001b[33mWARNING: Running pip as the 'root' user can result in broken permissions and conflicting behaviour with the system package manager. It is recommended to use a virtual environment instead: https://pip.pypa.io/warnings/venv\u001b[0m\u001b[33m\n",
      "\u001b[0mCollecting wand\n",
      "  Downloading Wand-0.6.11-py2.py3-none-any.whl (143 kB)\n",
      "\u001b[2K     \u001b[90m━━━━━━━━━━━━━━━━━━━━━━━━━━━━━━━━━━━━━━━\u001b[0m \u001b[32m143.6/143.6 kB\u001b[0m \u001b[31m3.2 MB/s\u001b[0m eta \u001b[36m0:00:00\u001b[0m00:01\u001b[0m\n",
      "\u001b[?25hRequirement already satisfied: scipy in /usr/lib/python3/dist-packages (1.8.0)\n",
      "Installing collected packages: wand\n",
      "Successfully installed wand-0.6.11\n",
      "\u001b[33mWARNING: Running pip as the 'root' user can result in broken permissions and conflicting behaviour with the system package manager. It is recommended to use a virtual environment instead: https://pip.pypa.io/warnings/venv\u001b[0m\u001b[33m\n",
      "\u001b[0mln: failed to create symbolic link './pessimal_noise_matrix': File exists\n",
      "symlink placed\n",
      "Reading package lists... Done\n",
      "Building dependency tree... Done\n",
      "Reading state information... Done\n",
      "The following additional packages will be installed:\n",
      "  autoconf automake autotools-dev bzip2-doc file fonts-droid-fallback\n",
      "  fonts-noto-mono fonts-urw-base35 ghostscript gir1.2-freedesktop\n",
      "  gir1.2-gdkpixbuf-2.0 gir1.2-rsvg-2.0 gsfonts icu-devtools\n",
      "  imagemagick-6-common libblkid-dev libbrotli-dev libbz2-dev\n",
      "  libcairo-script-interpreter2 libcairo2-dev libdeflate-dev libdjvulibre-dev\n",
      "  libdjvulibre-text libdjvulibre21 libexif-dev libexif-doc libffi-dev\n",
      "  libfftw3-double3 libfontconfig-dev libfontconfig1-dev libfreetype-dev\n",
      "  libfreetype6-dev libgdk-pixbuf-2.0-dev libgdk-pixbuf2.0-bin libglib2.0-dev\n",
      "  libglib2.0-dev-bin libgs9 libgs9-common libicu-dev libidn12 libijs-0.35\n",
      "  libilmbase-dev libjbig-dev libjbig2dec0 libjpeg-dev libjpeg-turbo8-dev\n",
      "  libjpeg8-dev libjxr-tools libjxr0 liblcms2-dev liblqr-1-0 liblqr-1-0-dev\n",
      "  libltdl-dev liblzma-dev liblzo2-2 libmagic-mgc libmagic1\n",
      "  libmagickcore-6-arch-config libmagickcore-6-headers libmagickcore-6.q16-6\n",
      "  libmagickcore-6.q16-6-extra libmagickcore-6.q16-dev libmagickwand-6-headers\n",
      "  libmagickwand-6.q16-6 libmagickwand-6.q16-dev libmount-dev libopenexr-dev\n",
      "  libopenjp2-7-dev libpaper-utils libpaper1 libpcre16-3 libpcre2-16-0\n",
      "  libpcre2-32-0 libpcre2-dev libpcre2-posix3 libpcre3-dev libpcre32-3\n",
      "  libpcrecpp0v5 libpixman-1-dev libpng-dev libpng-tools librsvg2-common\n",
      "  librsvg2-dev libselinux1-dev libsepol-dev libsigsegv2 libtiff-dev libtiffxx5\n",
      "  libtool libwmf-0.2-7 libwmf-dev libwmflite-0.2-7 libxcb-render0-dev\n",
      "  libxcb-shm0-dev libxext-dev libxml2-dev libxrender-dev m4 pkg-config\n",
      "  poppler-data uuid-dev\n",
      "Suggested packages:\n",
      "  autoconf-archive gnu-standards autoconf-doc gettext fonts-noto\n",
      "  fonts-freefont-otf | fonts-freefont-ttf fonts-texgyre ghostscript-x\n",
      "  libcairo2-doc libfftw3-bin libfftw3-dev freetype2-doc libgirepository1.0-dev\n",
      "  libglib2.0-doc libxml2-utils icu-doc libtool-doc liblzma-doc inkscape\n",
      "  librsvg2-doc gcj-jdk libwmf-0.2-7-gtk libwmf-doc libxext-doc m4-doc\n",
      "  poppler-utils fonts-japanese-mincho | fonts-ipafont-mincho\n",
      "  fonts-japanese-gothic | fonts-ipafont-gothic fonts-arphic-ukai\n",
      "  fonts-arphic-uming fonts-nanum\n",
      "The following NEW packages will be installed:\n",
      "  autoconf automake autotools-dev bzip2-doc file fonts-droid-fallback\n",
      "  fonts-noto-mono fonts-urw-base35 ghostscript gir1.2-freedesktop\n",
      "  gir1.2-gdkpixbuf-2.0 gir1.2-rsvg-2.0 gsfonts icu-devtools\n",
      "  imagemagick-6-common libblkid-dev libbrotli-dev libbz2-dev\n",
      "  libcairo-script-interpreter2 libcairo2-dev libdeflate-dev libdjvulibre-dev\n",
      "  libdjvulibre-text libdjvulibre21 libexif-dev libexif-doc libffi-dev\n",
      "  libfftw3-double3 libfontconfig-dev libfontconfig1-dev libfreetype-dev\n",
      "  libfreetype6-dev libgdk-pixbuf-2.0-dev libgdk-pixbuf2.0-bin libglib2.0-dev\n",
      "  libglib2.0-dev-bin libgs9 libgs9-common libicu-dev libidn12 libijs-0.35\n",
      "  libilmbase-dev libjbig-dev libjbig2dec0 libjpeg-dev libjpeg-turbo8-dev\n",
      "  libjpeg8-dev libjxr-tools libjxr0 liblcms2-dev liblqr-1-0 liblqr-1-0-dev\n",
      "  libltdl-dev liblzma-dev liblzo2-2 libmagic-mgc libmagic1\n",
      "  libmagickcore-6-arch-config libmagickcore-6-headers libmagickcore-6.q16-6\n",
      "  libmagickcore-6.q16-6-extra libmagickcore-6.q16-dev libmagickwand-6-headers\n",
      "  libmagickwand-6.q16-6 libmagickwand-6.q16-dev libmagickwand-dev libmount-dev\n",
      "  libopenexr-dev libopenjp2-7-dev libpaper-utils libpaper1 libpcre16-3\n",
      "  libpcre2-16-0 libpcre2-32-0 libpcre2-dev libpcre2-posix3 libpcre3-dev\n",
      "  libpcre32-3 libpcrecpp0v5 libpixman-1-dev libpng-dev libpng-tools\n",
      "  librsvg2-common librsvg2-dev libselinux1-dev libsepol-dev libsigsegv2\n",
      "  libtiff-dev libtiffxx5 libtool libwmf-0.2-7 libwmf-dev libwmflite-0.2-7\n",
      "  libxcb-render0-dev libxcb-shm0-dev libxext-dev libxml2-dev libxrender-dev m4\n",
      "  pkg-config poppler-data uuid-dev\n",
      "0 upgraded, 102 newly installed, 0 to remove and 1 not upgraded.\n",
      "Need to get 54.3 MB of archives.\n",
      "After this operation, 208 MB of additional disk space will be used.\n",
      "Get:1 http://archive.ubuntu.com/ubuntu jammy/main amd64 fonts-droid-fallback all 1:6.0.1r16-1.1build1 [1805 kB]\n",
      "Get:2 http://archive.ubuntu.com/ubuntu jammy-updates/universe amd64 imagemagick-6-common all 8:6.9.11.60+dfsg-1.3ubuntu0.22.04.1 [64.5 kB]\n",
      "Get:3 http://archive.ubuntu.com/ubuntu jammy-updates/universe amd64 libmagickcore-6-headers all 8:6.9.11.60+dfsg-1.3ubuntu0.22.04.1 [52.8 kB]\n",
      "Get:4 http://archive.ubuntu.com/ubuntu jammy-updates/universe amd64 libmagickcore-6-arch-config amd64 8:6.9.11.60+dfsg-1.3ubuntu0.22.04.1 [26.5 kB]\n",
      "Get:5 http://archive.ubuntu.com/ubuntu jammy/main amd64 libfftw3-double3 amd64 3.3.8-2ubuntu8 [770 kB]\n"
     ]
    },
    {
     "name": "stdout",
     "output_type": "stream",
     "text": [
      "Get:6 http://archive.ubuntu.com/ubuntu jammy/universe amd64 liblqr-1-0 amd64 0.4.2-2.1 [27.7 kB]\n",
      "Get:7 http://archive.ubuntu.com/ubuntu jammy-updates/universe amd64 libmagickcore-6.q16-6 amd64 8:6.9.11.60+dfsg-1.3ubuntu0.22.04.1 [1789 kB]\n",
      "Get:8 http://archive.ubuntu.com/ubuntu jammy/main amd64 libdjvulibre-text all 3.5.28-2build2 [50.9 kB]\n",
      "Get:9 http://archive.ubuntu.com/ubuntu jammy/main amd64 libdjvulibre21 amd64 3.5.28-2build2 [624 kB]\n",
      "Get:10 http://archive.ubuntu.com/ubuntu jammy-updates/universe amd64 libmagickwand-6.q16-6 amd64 8:6.9.11.60+dfsg-1.3ubuntu0.22.04.1 [328 kB]\n",
      "Get:11 http://archive.ubuntu.com/ubuntu jammy/main amd64 libwmflite-0.2-7 amd64 0.2.12-5ubuntu1 [68.9 kB]\n",
      "Get:12 http://archive.ubuntu.com/ubuntu jammy-updates/universe amd64 libmagickcore-6.q16-6-extra amd64 8:6.9.11.60+dfsg-1.3ubuntu0.22.04.1 [70.1 kB]\n",
      "Get:13 http://archive.ubuntu.com/ubuntu jammy/main amd64 libbz2-dev amd64 1.0.8-5build1 [32.5 kB]\n",
      "Get:14 http://archive.ubuntu.com/ubuntu jammy/main amd64 libjpeg-turbo8-dev amd64 2.1.2-0ubuntu1 [257 kB]\n",
      "Get:15 http://archive.ubuntu.com/ubuntu jammy/main amd64 libjpeg8-dev amd64 8c-2ubuntu10 [1476 B]\n",
      "Get:16 http://archive.ubuntu.com/ubuntu jammy/main amd64 libjpeg-dev amd64 8c-2ubuntu10 [1472 B]\n",
      "Get:17 http://archive.ubuntu.com/ubuntu jammy/main amd64 libdjvulibre-dev amd64 3.5.28-2build2 [2463 kB]\n",
      "Get:18 http://archive.ubuntu.com/ubuntu jammy/main amd64 libexif-dev amd64 0.6.24-1build1 [113 kB]\n",
      "Get:19 http://archive.ubuntu.com/ubuntu jammy/main amd64 libbrotli-dev amd64 1.0.9-2build6 [337 kB]\n",
      "Get:20 http://archive.ubuntu.com/ubuntu jammy/main amd64 libpng-dev amd64 1.6.37-3build5 [192 kB]\n",
      "Get:21 http://archive.ubuntu.com/ubuntu jammy-updates/main amd64 libfreetype-dev amd64 2.11.1+dfsg-1ubuntu0.1 [555 kB]\n",
      "Get:22 http://archive.ubuntu.com/ubuntu jammy-updates/main amd64 libfreetype6-dev amd64 2.11.1+dfsg-1ubuntu0.1 [8298 B]\n",
      "Get:23 http://archive.ubuntu.com/ubuntu jammy/main amd64 libopenjp2-7-dev amd64 2.4.0-6 [245 kB]\n",
      "Get:24 http://archive.ubuntu.com/ubuntu jammy/main amd64 liblcms2-dev amd64 2.12~rc1-2build2 [1887 kB]\n",
      "Get:25 http://archive.ubuntu.com/ubuntu jammy/universe amd64 liblqr-1-0-dev amd64 0.4.2-2.1 [69.1 kB]\n",
      "Get:26 http://archive.ubuntu.com/ubuntu jammy/main amd64 libsigsegv2 amd64 2.13-1ubuntu3 [14.6 kB]\n",
      "Get:27 http://archive.ubuntu.com/ubuntu jammy/main amd64 m4 amd64 1.4.18-5ubuntu2 [199 kB]\n",
      "Get:28 http://archive.ubuntu.com/ubuntu jammy/main amd64 autoconf all 2.71-2 [338 kB]\n",
      "Get:29 http://archive.ubuntu.com/ubuntu jammy/main amd64 autotools-dev all 20220109.1 [44.9 kB]\n",
      "Get:30 http://archive.ubuntu.com/ubuntu jammy/main amd64 automake all 1:1.16.5-1.3 [558 kB]\n",
      "Get:31 http://archive.ubuntu.com/ubuntu jammy/main amd64 libltdl-dev amd64 2.4.6-15build2 [169 kB]\n",
      "Get:32 http://archive.ubuntu.com/ubuntu jammy/universe amd64 libilmbase-dev amd64 2.5.7-2 [78.4 kB]\n",
      "Get:33 http://archive.ubuntu.com/ubuntu jammy/universe amd64 libopenexr-dev amd64 2.5.7-1 [73.3 kB]\n",
      "Get:34 http://archive.ubuntu.com/ubuntu jammy/main amd64 gir1.2-freedesktop amd64 1.72.0-1 [22.3 kB]\n",
      "Get:35 http://archive.ubuntu.com/ubuntu jammy-updates/main amd64 gir1.2-gdkpixbuf-2.0 amd64 2.42.8+dfsg-1ubuntu0.2 [9482 B]\n",
      "Get:36 http://archive.ubuntu.com/ubuntu jammy/main amd64 gir1.2-rsvg-2.0 amd64 2.52.5+dfsg-3 [16.5 kB]\n",
      "Get:37 http://archive.ubuntu.com/ubuntu jammy/main amd64 liblzo2-2 amd64 2.10-2build3 [53.7 kB]\n",
      "Get:38 http://archive.ubuntu.com/ubuntu jammy/main amd64 libcairo-script-interpreter2 amd64 1.16.0-5ubuntu2 [62.0 kB]\n",
      "Get:39 http://archive.ubuntu.com/ubuntu jammy/main amd64 uuid-dev amd64 2.37.2-4ubuntu3 [33.1 kB]\n",
      "Get:40 http://archive.ubuntu.com/ubuntu jammy/main amd64 pkg-config amd64 0.29.2-1ubuntu3 [48.2 kB]\n",
      "Get:41 http://archive.ubuntu.com/ubuntu jammy/main amd64 libfontconfig-dev amd64 2.13.1-4.2ubuntu5 [151 kB]\n",
      "Get:42 http://archive.ubuntu.com/ubuntu jammy/main amd64 libfontconfig1-dev amd64 2.13.1-4.2ubuntu5 [1836 B]\n",
      "Get:43 http://archive.ubuntu.com/ubuntu jammy/main amd64 libxrender-dev amd64 1:0.9.10-1build4 [26.7 kB]\n",
      "Get:44 http://archive.ubuntu.com/ubuntu jammy/main amd64 libxext-dev amd64 2:1.3.4-1build1 [84.7 kB]\n",
      "Get:45 http://archive.ubuntu.com/ubuntu jammy-updates/main amd64 libpixman-1-dev amd64 0.40.0-1ubuntu0.22.04.1 [280 kB]\n",
      "Get:46 http://archive.ubuntu.com/ubuntu jammy/main amd64 libxcb-render0-dev amd64 1.14-3ubuntu3 [19.6 kB]\n",
      "Get:47 http://archive.ubuntu.com/ubuntu jammy/main amd64 libxcb-shm0-dev amd64 1.14-3ubuntu3 [6848 B]\n",
      "Get:48 http://archive.ubuntu.com/ubuntu jammy/main amd64 libffi-dev amd64 3.4.2-4 [63.7 kB]\n",
      "Get:49 http://archive.ubuntu.com/ubuntu jammy-updates/main amd64 libglib2.0-dev-bin amd64 2.72.4-0ubuntu1 [117 kB]\n",
      "Get:50 http://archive.ubuntu.com/ubuntu jammy/main amd64 libblkid-dev amd64 2.37.2-4ubuntu3 [185 kB]\n",
      "Get:51 http://archive.ubuntu.com/ubuntu jammy/main amd64 libsepol-dev amd64 3.3-1build1 [378 kB]\n",
      "Get:52 http://archive.ubuntu.com/ubuntu jammy-updates/main amd64 libpcre2-16-0 amd64 10.39-3ubuntu0.1 [203 kB]\n",
      "Get:53 http://archive.ubuntu.com/ubuntu jammy-updates/main amd64 libpcre2-32-0 amd64 10.39-3ubuntu0.1 [194 kB]\n",
      "Get:54 http://archive.ubuntu.com/ubuntu jammy-updates/main amd64 libpcre2-posix3 amd64 10.39-3ubuntu0.1 [6130 B]\n",
      "Get:55 http://archive.ubuntu.com/ubuntu jammy-updates/main amd64 libpcre2-dev amd64 10.39-3ubuntu0.1 [730 kB]\n",
      "Get:56 http://archive.ubuntu.com/ubuntu jammy/main amd64 libselinux1-dev amd64 3.3-1build2 [158 kB]\n",
      "Get:57 http://archive.ubuntu.com/ubuntu jammy/main amd64 libmount-dev amd64 2.37.2-4ubuntu3 [14.5 kB]\n",
      "Get:58 http://archive.ubuntu.com/ubuntu jammy-updates/main amd64 libpcre16-3 amd64 2:8.39-13ubuntu0.22.04.1 [164 kB]\n",
      "Get:59 http://archive.ubuntu.com/ubuntu jammy-updates/main amd64 libpcre32-3 amd64 2:8.39-13ubuntu0.22.04.1 [155 kB]\n",
      "Get:60 http://archive.ubuntu.com/ubuntu jammy-updates/main amd64 libpcrecpp0v5 amd64 2:8.39-13ubuntu0.22.04.1 [16.5 kB]\n",
      "Get:61 http://archive.ubuntu.com/ubuntu jammy-updates/main amd64 libpcre3-dev amd64 2:8.39-13ubuntu0.22.04.1 [579 kB]\n",
      "Get:62 http://archive.ubuntu.com/ubuntu jammy-updates/main amd64 libglib2.0-dev amd64 2.72.4-0ubuntu1 [1735 kB]\n",
      "Get:63 http://archive.ubuntu.com/ubuntu jammy/main amd64 libcairo2-dev amd64 1.16.0-5ubuntu2 [692 kB]\n",
      "Get:64 http://archive.ubuntu.com/ubuntu jammy-updates/main amd64 libgdk-pixbuf2.0-bin amd64 2.42.8+dfsg-1ubuntu0.2 [14.2 kB]\n",
      "Get:65 http://archive.ubuntu.com/ubuntu jammy-updates/main amd64 libjbig-dev amd64 2.1-3.1ubuntu0.22.04.1 [27.4 kB]\n",
      "Get:66 http://archive.ubuntu.com/ubuntu jammy/main amd64 liblzma-dev amd64 5.2.5-2ubuntu1 [159 kB]\n",
      "Get:67 http://archive.ubuntu.com/ubuntu jammy-updates/main amd64 libtiffxx5 amd64 4.3.0-6ubuntu0.3 [5738 B]\n",
      "Get:68 http://archive.ubuntu.com/ubuntu jammy/main amd64 libdeflate-dev amd64 1.10-2 [59.2 kB]\n",
      "Get:69 http://archive.ubuntu.com/ubuntu jammy-updates/main amd64 libtiff-dev amd64 4.3.0-6ubuntu0.3 [314 kB]\n",
      "Get:70 http://archive.ubuntu.com/ubuntu jammy-updates/main amd64 libgdk-pixbuf-2.0-dev amd64 2.42.8+dfsg-1ubuntu0.2 [47.8 kB]\n",
      "Get:71 http://archive.ubuntu.com/ubuntu jammy/main amd64 librsvg2-common amd64 2.52.5+dfsg-3 [17.7 kB]\n",
      "Get:72 http://archive.ubuntu.com/ubuntu jammy/main amd64 librsvg2-dev amd64 2.52.5+dfsg-3 [49.7 kB]\n",
      "Get:73 http://archive.ubuntu.com/ubuntu jammy/main amd64 libwmf-0.2-7 amd64 0.2.12-5ubuntu1 [94.2 kB]\n",
      "Get:74 http://archive.ubuntu.com/ubuntu jammy/main amd64 libwmf-dev amd64 0.2.12-5ubuntu1 [236 kB]\n",
      "Get:75 http://archive.ubuntu.com/ubuntu jammy/main amd64 icu-devtools amd64 70.1-2 [197 kB]\n",
      "Get:76 http://archive.ubuntu.com/ubuntu jammy/main amd64 libicu-dev amd64 70.1-2 [11.6 MB]\n",
      "Get:77 http://archive.ubuntu.com/ubuntu jammy-updates/main amd64 libxml2-dev amd64 2.9.13+dfsg-1ubuntu0.2 [804 kB]\n",
      "Get:78 http://archive.ubuntu.com/ubuntu jammy-updates/universe amd64 libmagickcore-6.q16-dev amd64 8:6.9.11.60+dfsg-1.3ubuntu0.22.04.1 [1115 kB]\n",
      "Get:79 http://archive.ubuntu.com/ubuntu jammy-updates/universe amd64 libmagickwand-6-headers all 8:6.9.11.60+dfsg-1.3ubuntu0.22.04.1 [10.4 kB]\n",
      "Get:80 http://archive.ubuntu.com/ubuntu jammy-updates/universe amd64 libmagickwand-6.q16-dev amd64 8:6.9.11.60+dfsg-1.3ubuntu0.22.04.1 [357 kB]\n",
      "Get:81 http://archive.ubuntu.com/ubuntu jammy-updates/universe amd64 libmagickwand-dev all 8:6.9.11.60+dfsg-1.3ubuntu0.22.04.1 [1176 B]\n",
      "Get:82 http://archive.ubuntu.com/ubuntu jammy/main amd64 poppler-data all 0.4.11-1 [2171 kB]\n"
     ]
    },
    {
     "name": "stdout",
     "output_type": "stream",
     "text": [
      "Get:83 http://archive.ubuntu.com/ubuntu jammy/main amd64 libmagic-mgc amd64 1:5.41-3 [257 kB]\n",
      "Get:84 http://archive.ubuntu.com/ubuntu jammy/main amd64 libmagic1 amd64 1:5.41-3 [87.2 kB]\n",
      "Get:85 http://archive.ubuntu.com/ubuntu jammy/main amd64 file amd64 1:5.41-3 [21.5 kB]\n",
      "Get:86 http://archive.ubuntu.com/ubuntu jammy/main amd64 bzip2-doc all 1.0.8-5build1 [500 kB]\n",
      "Get:87 http://archive.ubuntu.com/ubuntu jammy/main amd64 fonts-noto-mono all 20201225-1build1 [397 kB]\n",
      "Get:88 http://archive.ubuntu.com/ubuntu jammy/main amd64 fonts-urw-base35 all 20200910-1 [6367 kB]\n",
      "Get:89 http://archive.ubuntu.com/ubuntu jammy-updates/main amd64 libgs9-common all 9.55.0~dfsg1-0ubuntu5.1 [751 kB]\n",
      "Get:90 http://archive.ubuntu.com/ubuntu jammy/main amd64 libidn12 amd64 1.38-4build1 [60.6 kB]\n",
      "Get:91 http://archive.ubuntu.com/ubuntu jammy/main amd64 libijs-0.35 amd64 0.35-15build2 [16.5 kB]\n",
      "Get:92 http://archive.ubuntu.com/ubuntu jammy/main amd64 libjbig2dec0 amd64 0.19-3build2 [64.7 kB]\n",
      "Get:93 http://archive.ubuntu.com/ubuntu jammy/main amd64 libpaper1 amd64 1.1.28build2 [13.8 kB]\n",
      "Get:94 http://archive.ubuntu.com/ubuntu jammy-updates/main amd64 libgs9 amd64 9.55.0~dfsg1-0ubuntu5.1 [5037 kB]\n",
      "Get:95 http://archive.ubuntu.com/ubuntu jammy-updates/main amd64 ghostscript amd64 9.55.0~dfsg1-0ubuntu5.1 [49.5 kB]\n",
      "Get:96 http://archive.ubuntu.com/ubuntu jammy/universe amd64 gsfonts all 1:8.11+urwcyr1.0.7~pre44-4.5 [3120 kB]\n",
      "Get:97 http://archive.ubuntu.com/ubuntu jammy/main amd64 libexif-doc all 0.6.24-1build1 [317 kB]\n",
      "Get:98 http://archive.ubuntu.com/ubuntu jammy/universe amd64 libjxr0 amd64 1.2~git20170615.f752187-5 [174 kB]\n",
      "Get:99 http://archive.ubuntu.com/ubuntu jammy/universe amd64 libjxr-tools amd64 1.2~git20170615.f752187-5 [16.0 kB]\n",
      "Get:100 http://archive.ubuntu.com/ubuntu jammy/main amd64 libpaper-utils amd64 1.1.28build2 [8674 B]\n",
      "Get:101 http://archive.ubuntu.com/ubuntu jammy/main amd64 libpng-tools amd64 1.6.37-3build5 [28.7 kB]\n",
      "Get:102 http://archive.ubuntu.com/ubuntu jammy/main amd64 libtool all 2.4.6-15build2 [164 kB]\n",
      "Fetched 54.3 MB in 18s (3044 kB/s)                                             \n",
      "debconf: delaying package configuration, since apt-utils is not installed\n",
      "Selecting previously unselected package fonts-droid-fallback.\n",
      "(Reading database ... 99724 files and directories currently installed.)\n",
      "Preparing to unpack .../000-fonts-droid-fallback_1%3a6.0.1r16-1.1build1_all.deb ...\n",
      "Unpacking fonts-droid-fallback (1:6.0.1r16-1.1build1) ...\n",
      "Selecting previously unselected package imagemagick-6-common.\n",
      "Preparing to unpack .../001-imagemagick-6-common_8%3a6.9.11.60+dfsg-1.3ubuntu0.22.04.1_all.deb ...\n",
      "Unpacking imagemagick-6-common (8:6.9.11.60+dfsg-1.3ubuntu0.22.04.1) ...\n",
      "Selecting previously unselected package libmagickcore-6-headers.\n",
      "Preparing to unpack .../002-libmagickcore-6-headers_8%3a6.9.11.60+dfsg-1.3ubuntu0.22.04.1_all.deb ...\n",
      "Unpacking libmagickcore-6-headers (8:6.9.11.60+dfsg-1.3ubuntu0.22.04.1) ...\n",
      "Selecting previously unselected package libmagickcore-6-arch-config:amd64.\n",
      "Preparing to unpack .../003-libmagickcore-6-arch-config_8%3a6.9.11.60+dfsg-1.3ubuntu0.22.04.1_amd64.deb ...\n",
      "Unpacking libmagickcore-6-arch-config:amd64 (8:6.9.11.60+dfsg-1.3ubuntu0.22.04.1) ...\n",
      "Selecting previously unselected package libfftw3-double3:amd64.\n",
      "Preparing to unpack .../004-libfftw3-double3_3.3.8-2ubuntu8_amd64.deb ...\n",
      "Unpacking libfftw3-double3:amd64 (3.3.8-2ubuntu8) ...\n",
      "Selecting previously unselected package liblqr-1-0:amd64.\n",
      "Preparing to unpack .../005-liblqr-1-0_0.4.2-2.1_amd64.deb ...\n",
      "Unpacking liblqr-1-0:amd64 (0.4.2-2.1) ...\n",
      "Selecting previously unselected package libmagickcore-6.q16-6:amd64.\n",
      "Preparing to unpack .../006-libmagickcore-6.q16-6_8%3a6.9.11.60+dfsg-1.3ubuntu0.22.04.1_amd64.deb ...\n",
      "Unpacking libmagickcore-6.q16-6:amd64 (8:6.9.11.60+dfsg-1.3ubuntu0.22.04.1) ...\n",
      "Selecting previously unselected package libdjvulibre-text.\n",
      "Preparing to unpack .../007-libdjvulibre-text_3.5.28-2build2_all.deb ...\n",
      "Unpacking libdjvulibre-text (3.5.28-2build2) ...\n",
      "Selecting previously unselected package libdjvulibre21:amd64.\n",
      "Preparing to unpack .../008-libdjvulibre21_3.5.28-2build2_amd64.deb ...\n",
      "Unpacking libdjvulibre21:amd64 (3.5.28-2build2) ...\n",
      "Selecting previously unselected package libmagickwand-6.q16-6:amd64.\n",
      "Preparing to unpack .../009-libmagickwand-6.q16-6_8%3a6.9.11.60+dfsg-1.3ubuntu0.22.04.1_amd64.deb ...\n",
      "Unpacking libmagickwand-6.q16-6:amd64 (8:6.9.11.60+dfsg-1.3ubuntu0.22.04.1) ...\n",
      "Selecting previously unselected package libwmflite-0.2-7:amd64.\n",
      "Preparing to unpack .../010-libwmflite-0.2-7_0.2.12-5ubuntu1_amd64.deb ...\n",
      "Unpacking libwmflite-0.2-7:amd64 (0.2.12-5ubuntu1) ...\n",
      "Selecting previously unselected package libmagickcore-6.q16-6-extra:amd64.\n",
      "Preparing to unpack .../011-libmagickcore-6.q16-6-extra_8%3a6.9.11.60+dfsg-1.3ubuntu0.22.04.1_amd64.deb ...\n",
      "Unpacking libmagickcore-6.q16-6-extra:amd64 (8:6.9.11.60+dfsg-1.3ubuntu0.22.04.1) ...\n",
      "Selecting previously unselected package libbz2-dev:amd64.\n",
      "Preparing to unpack .../012-libbz2-dev_1.0.8-5build1_amd64.deb ...\n",
      "Unpacking libbz2-dev:amd64 (1.0.8-5build1) ...\n",
      "Selecting previously unselected package libjpeg-turbo8-dev:amd64.\n",
      "Preparing to unpack .../013-libjpeg-turbo8-dev_2.1.2-0ubuntu1_amd64.deb ...\n",
      "Unpacking libjpeg-turbo8-dev:amd64 (2.1.2-0ubuntu1) ...\n",
      "Selecting previously unselected package libjpeg8-dev:amd64.\n",
      "Preparing to unpack .../014-libjpeg8-dev_8c-2ubuntu10_amd64.deb ...\n",
      "Unpacking libjpeg8-dev:amd64 (8c-2ubuntu10) ...\n",
      "Selecting previously unselected package libjpeg-dev:amd64.\n",
      "Preparing to unpack .../015-libjpeg-dev_8c-2ubuntu10_amd64.deb ...\n",
      "Unpacking libjpeg-dev:amd64 (8c-2ubuntu10) ...\n",
      "Selecting previously unselected package libdjvulibre-dev:amd64.\n",
      "Preparing to unpack .../016-libdjvulibre-dev_3.5.28-2build2_amd64.deb ...\n",
      "Unpacking libdjvulibre-dev:amd64 (3.5.28-2build2) ...\n",
      "Selecting previously unselected package libexif-dev:amd64.\n",
      "Preparing to unpack .../017-libexif-dev_0.6.24-1build1_amd64.deb ...\n",
      "Unpacking libexif-dev:amd64 (0.6.24-1build1) ...\n",
      "Selecting previously unselected package libbrotli-dev:amd64.\n",
      "Preparing to unpack .../018-libbrotli-dev_1.0.9-2build6_amd64.deb ...\n",
      "Unpacking libbrotli-dev:amd64 (1.0.9-2build6) ...\n",
      "Selecting previously unselected package libpng-dev:amd64.\n",
      "Preparing to unpack .../019-libpng-dev_1.6.37-3build5_amd64.deb ...\n",
      "Unpacking libpng-dev:amd64 (1.6.37-3build5) ...\n",
      "Selecting previously unselected package libfreetype-dev:amd64.\n",
      "Preparing to unpack .../020-libfreetype-dev_2.11.1+dfsg-1ubuntu0.1_amd64.deb ...\n",
      "Unpacking libfreetype-dev:amd64 (2.11.1+dfsg-1ubuntu0.1) ...\n",
      "Selecting previously unselected package libfreetype6-dev:amd64.\n",
      "Preparing to unpack .../021-libfreetype6-dev_2.11.1+dfsg-1ubuntu0.1_amd64.deb ...\n",
      "Unpacking libfreetype6-dev:amd64 (2.11.1+dfsg-1ubuntu0.1) ...\n",
      "Selecting previously unselected package libopenjp2-7-dev:amd64.\n",
      "Preparing to unpack .../022-libopenjp2-7-dev_2.4.0-6_amd64.deb ...\n",
      "Unpacking libopenjp2-7-dev:amd64 (2.4.0-6) ...\n",
      "Selecting previously unselected package liblcms2-dev:amd64.\n",
      "Preparing to unpack .../023-liblcms2-dev_2.12~rc1-2build2_amd64.deb ...\n",
      "Unpacking liblcms2-dev:amd64 (2.12~rc1-2build2) ...\n",
      "Selecting previously unselected package liblqr-1-0-dev:amd64.\n",
      "Preparing to unpack .../024-liblqr-1-0-dev_0.4.2-2.1_amd64.deb ...\n",
      "Unpacking liblqr-1-0-dev:amd64 (0.4.2-2.1) ...\n",
      "Selecting previously unselected package libsigsegv2:amd64.\n",
      "Preparing to unpack .../025-libsigsegv2_2.13-1ubuntu3_amd64.deb ...\n",
      "Unpacking libsigsegv2:amd64 (2.13-1ubuntu3) ...\n",
      "Selecting previously unselected package m4.\n",
      "Preparing to unpack .../026-m4_1.4.18-5ubuntu2_amd64.deb ...\n",
      "Unpacking m4 (1.4.18-5ubuntu2) ...\n",
      "Selecting previously unselected package autoconf.\n",
      "Preparing to unpack .../027-autoconf_2.71-2_all.deb ...\n",
      "Unpacking autoconf (2.71-2) ...\n",
      "Selecting previously unselected package autotools-dev.\n",
      "Preparing to unpack .../028-autotools-dev_20220109.1_all.deb ...\n",
      "Unpacking autotools-dev (20220109.1) ...\n",
      "Selecting previously unselected package automake.\n",
      "Preparing to unpack .../029-automake_1%3a1.16.5-1.3_all.deb ...\n",
      "Unpacking automake (1:1.16.5-1.3) ...\n",
      "Selecting previously unselected package libltdl-dev:amd64.\n",
      "Preparing to unpack .../030-libltdl-dev_2.4.6-15build2_amd64.deb ...\n",
      "Unpacking libltdl-dev:amd64 (2.4.6-15build2) ...\n"
     ]
    },
    {
     "name": "stdout",
     "output_type": "stream",
     "text": [
      "Selecting previously unselected package libilmbase-dev:amd64.\n",
      "Preparing to unpack .../031-libilmbase-dev_2.5.7-2_amd64.deb ...\n",
      "Unpacking libilmbase-dev:amd64 (2.5.7-2) ...\n",
      "Selecting previously unselected package libopenexr-dev.\n",
      "Preparing to unpack .../032-libopenexr-dev_2.5.7-1_amd64.deb ...\n",
      "Unpacking libopenexr-dev (2.5.7-1) ...\n",
      "Selecting previously unselected package gir1.2-freedesktop:amd64.\n",
      "Preparing to unpack .../033-gir1.2-freedesktop_1.72.0-1_amd64.deb ...\n",
      "Unpacking gir1.2-freedesktop:amd64 (1.72.0-1) ...\n",
      "Selecting previously unselected package gir1.2-gdkpixbuf-2.0:amd64.\n",
      "Preparing to unpack .../034-gir1.2-gdkpixbuf-2.0_2.42.8+dfsg-1ubuntu0.2_amd64.deb ...\n",
      "Unpacking gir1.2-gdkpixbuf-2.0:amd64 (2.42.8+dfsg-1ubuntu0.2) ...\n",
      "Selecting previously unselected package gir1.2-rsvg-2.0:amd64.\n",
      "Preparing to unpack .../035-gir1.2-rsvg-2.0_2.52.5+dfsg-3_amd64.deb ...\n",
      "Unpacking gir1.2-rsvg-2.0:amd64 (2.52.5+dfsg-3) ...\n",
      "Selecting previously unselected package liblzo2-2:amd64.\n",
      "Preparing to unpack .../036-liblzo2-2_2.10-2build3_amd64.deb ...\n",
      "Unpacking liblzo2-2:amd64 (2.10-2build3) ...\n",
      "Selecting previously unselected package libcairo-script-interpreter2:amd64.\n",
      "Preparing to unpack .../037-libcairo-script-interpreter2_1.16.0-5ubuntu2_amd64.deb ...\n",
      "Unpacking libcairo-script-interpreter2:amd64 (1.16.0-5ubuntu2) ...\n",
      "Selecting previously unselected package uuid-dev:amd64.\n",
      "Preparing to unpack .../038-uuid-dev_2.37.2-4ubuntu3_amd64.deb ...\n",
      "Unpacking uuid-dev:amd64 (2.37.2-4ubuntu3) ...\n",
      "Selecting previously unselected package pkg-config.\n",
      "Preparing to unpack .../039-pkg-config_0.29.2-1ubuntu3_amd64.deb ...\n",
      "Unpacking pkg-config (0.29.2-1ubuntu3) ...\n",
      "Selecting previously unselected package libfontconfig-dev:amd64.\n",
      "Preparing to unpack .../040-libfontconfig-dev_2.13.1-4.2ubuntu5_amd64.deb ...\n",
      "Unpacking libfontconfig-dev:amd64 (2.13.1-4.2ubuntu5) ...\n",
      "Selecting previously unselected package libfontconfig1-dev:amd64.\n",
      "Preparing to unpack .../041-libfontconfig1-dev_2.13.1-4.2ubuntu5_amd64.deb ...\n",
      "Unpacking libfontconfig1-dev:amd64 (2.13.1-4.2ubuntu5) ...\n",
      "Selecting previously unselected package libxrender-dev:amd64.\n",
      "Preparing to unpack .../042-libxrender-dev_1%3a0.9.10-1build4_amd64.deb ...\n",
      "Unpacking libxrender-dev:amd64 (1:0.9.10-1build4) ...\n",
      "Selecting previously unselected package libxext-dev:amd64.\n",
      "Preparing to unpack .../043-libxext-dev_2%3a1.3.4-1build1_amd64.deb ...\n",
      "Unpacking libxext-dev:amd64 (2:1.3.4-1build1) ...\n",
      "Selecting previously unselected package libpixman-1-dev:amd64.\n",
      "Preparing to unpack .../044-libpixman-1-dev_0.40.0-1ubuntu0.22.04.1_amd64.deb ...\n",
      "Unpacking libpixman-1-dev:amd64 (0.40.0-1ubuntu0.22.04.1) ...\n",
      "Selecting previously unselected package libxcb-render0-dev:amd64.\n",
      "Preparing to unpack .../045-libxcb-render0-dev_1.14-3ubuntu3_amd64.deb ...\n",
      "Unpacking libxcb-render0-dev:amd64 (1.14-3ubuntu3) ...\n",
      "Selecting previously unselected package libxcb-shm0-dev:amd64.\n",
      "Preparing to unpack .../046-libxcb-shm0-dev_1.14-3ubuntu3_amd64.deb ...\n",
      "Unpacking libxcb-shm0-dev:amd64 (1.14-3ubuntu3) ...\n",
      "Selecting previously unselected package libffi-dev:amd64.\n",
      "Preparing to unpack .../047-libffi-dev_3.4.2-4_amd64.deb ...\n",
      "Unpacking libffi-dev:amd64 (3.4.2-4) ...\n",
      "Selecting previously unselected package libglib2.0-dev-bin.\n",
      "Preparing to unpack .../048-libglib2.0-dev-bin_2.72.4-0ubuntu1_amd64.deb ...\n",
      "Unpacking libglib2.0-dev-bin (2.72.4-0ubuntu1) ...\n",
      "Selecting previously unselected package libblkid-dev:amd64.\n",
      "Preparing to unpack .../049-libblkid-dev_2.37.2-4ubuntu3_amd64.deb ...\n",
      "Unpacking libblkid-dev:amd64 (2.37.2-4ubuntu3) ...\n",
      "Selecting previously unselected package libsepol-dev:amd64.\n",
      "Preparing to unpack .../050-libsepol-dev_3.3-1build1_amd64.deb ...\n",
      "Unpacking libsepol-dev:amd64 (3.3-1build1) ...\n",
      "Selecting previously unselected package libpcre2-16-0:amd64.\n",
      "Preparing to unpack .../051-libpcre2-16-0_10.39-3ubuntu0.1_amd64.deb ...\n",
      "Unpacking libpcre2-16-0:amd64 (10.39-3ubuntu0.1) ...\n",
      "Selecting previously unselected package libpcre2-32-0:amd64.\n",
      "Preparing to unpack .../052-libpcre2-32-0_10.39-3ubuntu0.1_amd64.deb ...\n",
      "Unpacking libpcre2-32-0:amd64 (10.39-3ubuntu0.1) ...\n",
      "Selecting previously unselected package libpcre2-posix3:amd64.\n",
      "Preparing to unpack .../053-libpcre2-posix3_10.39-3ubuntu0.1_amd64.deb ...\n",
      "Unpacking libpcre2-posix3:amd64 (10.39-3ubuntu0.1) ...\n",
      "Selecting previously unselected package libpcre2-dev:amd64.\n",
      "Preparing to unpack .../054-libpcre2-dev_10.39-3ubuntu0.1_amd64.deb ...\n",
      "Unpacking libpcre2-dev:amd64 (10.39-3ubuntu0.1) ...\n",
      "Selecting previously unselected package libselinux1-dev:amd64.\n",
      "Preparing to unpack .../055-libselinux1-dev_3.3-1build2_amd64.deb ...\n",
      "Unpacking libselinux1-dev:amd64 (3.3-1build2) ...\n",
      "Selecting previously unselected package libmount-dev:amd64.\n",
      "Preparing to unpack .../056-libmount-dev_2.37.2-4ubuntu3_amd64.deb ...\n",
      "Unpacking libmount-dev:amd64 (2.37.2-4ubuntu3) ...\n",
      "Selecting previously unselected package libpcre16-3:amd64.\n",
      "Preparing to unpack .../057-libpcre16-3_2%3a8.39-13ubuntu0.22.04.1_amd64.deb ...\n",
      "Unpacking libpcre16-3:amd64 (2:8.39-13ubuntu0.22.04.1) ...\n",
      "Selecting previously unselected package libpcre32-3:amd64.\n",
      "Preparing to unpack .../058-libpcre32-3_2%3a8.39-13ubuntu0.22.04.1_amd64.deb ...\n",
      "Unpacking libpcre32-3:amd64 (2:8.39-13ubuntu0.22.04.1) ...\n",
      "Selecting previously unselected package libpcrecpp0v5:amd64.\n",
      "Preparing to unpack .../059-libpcrecpp0v5_2%3a8.39-13ubuntu0.22.04.1_amd64.deb ...\n",
      "Unpacking libpcrecpp0v5:amd64 (2:8.39-13ubuntu0.22.04.1) ...\n",
      "Selecting previously unselected package libpcre3-dev:amd64.\n",
      "Preparing to unpack .../060-libpcre3-dev_2%3a8.39-13ubuntu0.22.04.1_amd64.deb ...\n",
      "Unpacking libpcre3-dev:amd64 (2:8.39-13ubuntu0.22.04.1) ...\n",
      "Selecting previously unselected package libglib2.0-dev:amd64.\n",
      "Preparing to unpack .../061-libglib2.0-dev_2.72.4-0ubuntu1_amd64.deb ...\n",
      "Unpacking libglib2.0-dev:amd64 (2.72.4-0ubuntu1) ...\n",
      "Selecting previously unselected package libcairo2-dev:amd64.\n",
      "Preparing to unpack .../062-libcairo2-dev_1.16.0-5ubuntu2_amd64.deb ...\n",
      "Unpacking libcairo2-dev:amd64 (1.16.0-5ubuntu2) ...\n",
      "Selecting previously unselected package libgdk-pixbuf2.0-bin.\n",
      "Preparing to unpack .../063-libgdk-pixbuf2.0-bin_2.42.8+dfsg-1ubuntu0.2_amd64.deb ...\n",
      "Unpacking libgdk-pixbuf2.0-bin (2.42.8+dfsg-1ubuntu0.2) ...\n",
      "Selecting previously unselected package libjbig-dev:amd64.\n",
      "Preparing to unpack .../064-libjbig-dev_2.1-3.1ubuntu0.22.04.1_amd64.deb ...\n",
      "Unpacking libjbig-dev:amd64 (2.1-3.1ubuntu0.22.04.1) ...\n",
      "Selecting previously unselected package liblzma-dev:amd64.\n",
      "Preparing to unpack .../065-liblzma-dev_5.2.5-2ubuntu1_amd64.deb ...\n",
      "Unpacking liblzma-dev:amd64 (5.2.5-2ubuntu1) ...\n",
      "Selecting previously unselected package libtiffxx5:amd64.\n",
      "Preparing to unpack .../066-libtiffxx5_4.3.0-6ubuntu0.3_amd64.deb ...\n",
      "Unpacking libtiffxx5:amd64 (4.3.0-6ubuntu0.3) ...\n",
      "Selecting previously unselected package libdeflate-dev:amd64.\n",
      "Preparing to unpack .../067-libdeflate-dev_1.10-2_amd64.deb ...\n",
      "Unpacking libdeflate-dev:amd64 (1.10-2) ...\n",
      "Selecting previously unselected package libtiff-dev:amd64.\n",
      "Preparing to unpack .../068-libtiff-dev_4.3.0-6ubuntu0.3_amd64.deb ...\n",
      "Unpacking libtiff-dev:amd64 (4.3.0-6ubuntu0.3) ...\n",
      "Selecting previously unselected package libgdk-pixbuf-2.0-dev:amd64.\n",
      "Preparing to unpack .../069-libgdk-pixbuf-2.0-dev_2.42.8+dfsg-1ubuntu0.2_amd64.deb ...\n",
      "Unpacking libgdk-pixbuf-2.0-dev:amd64 (2.42.8+dfsg-1ubuntu0.2) ...\n",
      "Selecting previously unselected package librsvg2-common:amd64.\n",
      "Preparing to unpack .../070-librsvg2-common_2.52.5+dfsg-3_amd64.deb ...\n",
      "Unpacking librsvg2-common:amd64 (2.52.5+dfsg-3) ...\n",
      "Selecting previously unselected package librsvg2-dev:amd64.\n",
      "Preparing to unpack .../071-librsvg2-dev_2.52.5+dfsg-3_amd64.deb ...\n",
      "Unpacking librsvg2-dev:amd64 (2.52.5+dfsg-3) ...\n",
      "Selecting previously unselected package libwmf-0.2-7:amd64.\n",
      "Preparing to unpack .../072-libwmf-0.2-7_0.2.12-5ubuntu1_amd64.deb ...\n",
      "Unpacking libwmf-0.2-7:amd64 (0.2.12-5ubuntu1) ...\n",
      "Selecting previously unselected package libwmf-dev.\n",
      "Preparing to unpack .../073-libwmf-dev_0.2.12-5ubuntu1_amd64.deb ...\n",
      "Unpacking libwmf-dev (0.2.12-5ubuntu1) ...\n",
      "Selecting previously unselected package icu-devtools.\n",
      "Preparing to unpack .../074-icu-devtools_70.1-2_amd64.deb ...\n",
      "Unpacking icu-devtools (70.1-2) ...\n"
     ]
    },
    {
     "name": "stdout",
     "output_type": "stream",
     "text": [
      "Selecting previously unselected package libicu-dev:amd64.\n",
      "Preparing to unpack .../075-libicu-dev_70.1-2_amd64.deb ...\n",
      "Unpacking libicu-dev:amd64 (70.1-2) ...\n",
      "Selecting previously unselected package libxml2-dev:amd64.\n",
      "Preparing to unpack .../076-libxml2-dev_2.9.13+dfsg-1ubuntu0.2_amd64.deb ...\n",
      "Unpacking libxml2-dev:amd64 (2.9.13+dfsg-1ubuntu0.2) ...\n",
      "Selecting previously unselected package libmagickcore-6.q16-dev:amd64.\n",
      "Preparing to unpack .../077-libmagickcore-6.q16-dev_8%3a6.9.11.60+dfsg-1.3ubuntu0.22.04.1_amd64.deb ...\n",
      "Unpacking libmagickcore-6.q16-dev:amd64 (8:6.9.11.60+dfsg-1.3ubuntu0.22.04.1) ...\n",
      "Selecting previously unselected package libmagickwand-6-headers.\n",
      "Preparing to unpack .../078-libmagickwand-6-headers_8%3a6.9.11.60+dfsg-1.3ubuntu0.22.04.1_all.deb ...\n",
      "Unpacking libmagickwand-6-headers (8:6.9.11.60+dfsg-1.3ubuntu0.22.04.1) ...\n",
      "Selecting previously unselected package libmagickwand-6.q16-dev:amd64.\n",
      "Preparing to unpack .../079-libmagickwand-6.q16-dev_8%3a6.9.11.60+dfsg-1.3ubuntu0.22.04.1_amd64.deb ...\n",
      "Unpacking libmagickwand-6.q16-dev:amd64 (8:6.9.11.60+dfsg-1.3ubuntu0.22.04.1) ...\n",
      "Selecting previously unselected package libmagickwand-dev.\n",
      "Preparing to unpack .../080-libmagickwand-dev_8%3a6.9.11.60+dfsg-1.3ubuntu0.22.04.1_all.deb ...\n",
      "Unpacking libmagickwand-dev (8:6.9.11.60+dfsg-1.3ubuntu0.22.04.1) ...\n",
      "Selecting previously unselected package poppler-data.\n",
      "Preparing to unpack .../081-poppler-data_0.4.11-1_all.deb ...\n",
      "Unpacking poppler-data (0.4.11-1) ...\n",
      "Selecting previously unselected package libmagic-mgc.\n",
      "Preparing to unpack .../082-libmagic-mgc_1%3a5.41-3_amd64.deb ...\n",
      "Unpacking libmagic-mgc (1:5.41-3) ...\n",
      "Selecting previously unselected package libmagic1:amd64.\n",
      "Preparing to unpack .../083-libmagic1_1%3a5.41-3_amd64.deb ...\n",
      "Unpacking libmagic1:amd64 (1:5.41-3) ...\n",
      "Selecting previously unselected package file.\n",
      "Preparing to unpack .../084-file_1%3a5.41-3_amd64.deb ...\n",
      "Unpacking file (1:5.41-3) ...\n",
      "Selecting previously unselected package bzip2-doc.\n",
      "Preparing to unpack .../085-bzip2-doc_1.0.8-5build1_all.deb ...\n",
      "Unpacking bzip2-doc (1.0.8-5build1) ...\n",
      "Selecting previously unselected package fonts-noto-mono.\n",
      "Preparing to unpack .../086-fonts-noto-mono_20201225-1build1_all.deb ...\n",
      "Unpacking fonts-noto-mono (20201225-1build1) ...\n",
      "Selecting previously unselected package fonts-urw-base35.\n",
      "Preparing to unpack .../087-fonts-urw-base35_20200910-1_all.deb ...\n",
      "Unpacking fonts-urw-base35 (20200910-1) ...\n",
      "Selecting previously unselected package libgs9-common.\n",
      "Preparing to unpack .../088-libgs9-common_9.55.0~dfsg1-0ubuntu5.1_all.deb ...\n",
      "Unpacking libgs9-common (9.55.0~dfsg1-0ubuntu5.1) ...\n",
      "Selecting previously unselected package libidn12:amd64.\n",
      "Preparing to unpack .../089-libidn12_1.38-4build1_amd64.deb ...\n",
      "Unpacking libidn12:amd64 (1.38-4build1) ...\n",
      "Selecting previously unselected package libijs-0.35:amd64.\n",
      "Preparing to unpack .../090-libijs-0.35_0.35-15build2_amd64.deb ...\n",
      "Unpacking libijs-0.35:amd64 (0.35-15build2) ...\n",
      "Selecting previously unselected package libjbig2dec0:amd64.\n",
      "Preparing to unpack .../091-libjbig2dec0_0.19-3build2_amd64.deb ...\n",
      "Unpacking libjbig2dec0:amd64 (0.19-3build2) ...\n",
      "Selecting previously unselected package libpaper1:amd64.\n",
      "Preparing to unpack .../092-libpaper1_1.1.28build2_amd64.deb ...\n",
      "Unpacking libpaper1:amd64 (1.1.28build2) ...\n",
      "Selecting previously unselected package libgs9:amd64.\n",
      "Preparing to unpack .../093-libgs9_9.55.0~dfsg1-0ubuntu5.1_amd64.deb ...\n",
      "Unpacking libgs9:amd64 (9.55.0~dfsg1-0ubuntu5.1) ...\n",
      "Selecting previously unselected package ghostscript.\n",
      "Preparing to unpack .../094-ghostscript_9.55.0~dfsg1-0ubuntu5.1_amd64.deb ...\n",
      "Unpacking ghostscript (9.55.0~dfsg1-0ubuntu5.1) ...\n",
      "Selecting previously unselected package gsfonts.\n",
      "Preparing to unpack .../095-gsfonts_1%3a8.11+urwcyr1.0.7~pre44-4.5_all.deb ...\n",
      "Unpacking gsfonts (1:8.11+urwcyr1.0.7~pre44-4.5) ...\n",
      "Selecting previously unselected package libexif-doc.\n",
      "Preparing to unpack .../096-libexif-doc_0.6.24-1build1_all.deb ...\n",
      "Unpacking libexif-doc (0.6.24-1build1) ...\n",
      "Selecting previously unselected package libjxr0:amd64.\n",
      "Preparing to unpack .../097-libjxr0_1.2~git20170615.f752187-5_amd64.deb ...\n",
      "Unpacking libjxr0:amd64 (1.2~git20170615.f752187-5) ...\n",
      "Selecting previously unselected package libjxr-tools.\n",
      "Preparing to unpack .../098-libjxr-tools_1.2~git20170615.f752187-5_amd64.deb ...\n",
      "Unpacking libjxr-tools (1.2~git20170615.f752187-5) ...\n",
      "Selecting previously unselected package libpaper-utils.\n",
      "Preparing to unpack .../099-libpaper-utils_1.1.28build2_amd64.deb ...\n",
      "Unpacking libpaper-utils (1.1.28build2) ...\n",
      "Selecting previously unselected package libpng-tools.\n",
      "Preparing to unpack .../100-libpng-tools_1.6.37-3build5_amd64.deb ...\n",
      "Unpacking libpng-tools (1.6.37-3build5) ...\n",
      "Selecting previously unselected package libtool.\n",
      "Preparing to unpack .../101-libtool_2.4.6-15build2_all.deb ...\n",
      "Unpacking libtool (2.4.6-15build2) ...\n",
      "Setting up libpcrecpp0v5:amd64 (2:8.39-13ubuntu0.22.04.1) ...\n",
      "Setting up libglib2.0-dev-bin (2.72.4-0ubuntu1) ...\n",
      "Setting up bzip2-doc (1.0.8-5build1) ...\n",
      "Setting up libpaper1:amd64 (1.1.28build2) ...\n",
      "debconf: unable to initialize frontend: Dialog\n",
      "debconf: (No usable dialog-like program is installed, so the dialog based frontend cannot be used. at /usr/share/perl5/Debconf/FrontEnd/Dialog.pm line 78.)\n",
      "debconf: falling back to frontend: Readline\n",
      "\n",
      "Creating config file /etc/papersize with new version\n",
      "Setting up libjpeg-turbo8-dev:amd64 (2.1.2-0ubuntu1) ...\n",
      "Setting up imagemagick-6-common (8:6.9.11.60+dfsg-1.3ubuntu0.22.04.1) ...\n",
      "Setting up libexif-dev:amd64 (0.6.24-1build1) ...\n",
      "Setting up gir1.2-freedesktop:amd64 (1.72.0-1) ...\n",
      "Setting up libpixman-1-dev:amd64 (0.40.0-1ubuntu0.22.04.1) ...\n",
      "Setting up fonts-noto-mono (20201225-1build1) ...\n",
      "Setting up libpcre16-3:amd64 (2:8.39-13ubuntu0.22.04.1) ...\n",
      "Setting up libwmflite-0.2-7:amd64 (0.2.12-5ubuntu1) ...\n",
      "Setting up gir1.2-gdkpixbuf-2.0:amd64 (2.42.8+dfsg-1ubuntu0.2) ...\n",
      "Setting up libpng-tools (1.6.37-3build5) ...\n",
      "Setting up libmagic-mgc (1:5.41-3) ...\n",
      "Setting up libijs-0.35:amd64 (0.35-15build2) ...\n",
      "Setting up libjxr0:amd64 (1.2~git20170615.f752187-5) ...\n",
      "Setting up libpng-dev:amd64 (1.6.37-3build5) ...\n",
      "Setting up libmagic1:amd64 (1:5.41-3) ...\n",
      "Setting up libjbig-dev:amd64 (2.1-3.1ubuntu0.22.04.1) ...\n",
      "Setting up liblzo2-2:amd64 (2.10-2build3) ...\n",
      "Setting up file (1:5.41-3) ...\n",
      "Setting up libpaper-utils (1.1.28build2) ...\n",
      "Setting up fonts-urw-base35 (20200910-1) ...\n",
      "Setting up libffi-dev:amd64 (3.4.2-4) ...\n",
      "Setting up libpcre2-16-0:amd64 (10.39-3ubuntu0.1) ...\n",
      "Setting up poppler-data (0.4.11-1) ...\n",
      "Setting up libxcb-shm0-dev:amd64 (1.14-3ubuntu3) ...\n",
      "Setting up autotools-dev (20220109.1) ...\n",
      "Setting up libpcre2-32-0:amd64 (10.39-3ubuntu0.1) ...\n",
      "Setting up libwmf-0.2-7:amd64 (0.2.12-5ubuntu1) ...\n",
      "Setting up libopenjp2-7-dev:amd64 (2.4.0-6) ...\n",
      "Setting up libjbig2dec0:amd64 (0.19-3build2) ...\n",
      "Setting up uuid-dev:amd64 (2.37.2-4ubuntu3) ...\n",
      "Setting up gsfonts (1:8.11+urwcyr1.0.7~pre44-4.5) ...\n",
      "Setting up libsigsegv2:amd64 (2.13-1ubuntu3) ...\n",
      "Setting up libpcre32-3:amd64 (2:8.39-13ubuntu0.22.04.1) ...\n",
      "Setting up libidn12:amd64 (1.38-4build1) ...\n",
      "Setting up icu-devtools (70.1-2) ...\n",
      "Setting up pkg-config (0.29.2-1ubuntu3) ...\n",
      "Setting up libsepol-dev:amd64 (3.3-1build1) ...\n",
      "Setting up libxcb-render0-dev:amd64 (1.14-3ubuntu3) ...\n",
      "Setting up librsvg2-common:amd64 (2.52.5+dfsg-3) ...\n",
      "Setting up libfftw3-double3:amd64 (3.3.8-2ubuntu8) ...\n",
      "Setting up libxext-dev:amd64 (2:1.3.4-1build1) ...\n",
      "Setting up liblcms2-dev:amd64 (2.12~rc1-2build2) ...\n",
      "Setting up liblzma-dev:amd64 (5.2.5-2ubuntu1) ...\n",
      "Setting up libpcre2-posix3:amd64 (10.39-3ubuntu0.1) ...\n",
      "Setting up liblqr-1-0:amd64 (0.4.2-2.1) ...\n",
      "Setting up libexif-doc (0.6.24-1build1) ...\n",
      "Setting up libgdk-pixbuf2.0-bin (2.42.8+dfsg-1ubuntu0.2) ...\n",
      "Setting up fonts-droid-fallback (1:6.0.1r16-1.1build1) ...\n",
      "Setting up libmagickcore-6-headers (8:6.9.11.60+dfsg-1.3ubuntu0.22.04.1) ...\n",
      "Setting up libdjvulibre-text (3.5.28-2build2) ...\n",
      "Setting up libjpeg8-dev:amd64 (8c-2ubuntu10) ...\n",
      "Setting up gir1.2-rsvg-2.0:amd64 (2.52.5+dfsg-3) ...\n",
      "Setting up libdeflate-dev:amd64 (1.10-2) ...\n",
      "Setting up libxrender-dev:amd64 (1:0.9.10-1build4) ...\n",
      "Setting up libicu-dev:amd64 (70.1-2) ...\n",
      "Setting up libbrotli-dev:amd64 (1.0.9-2build6) ...\n",
      "Setting up libilmbase-dev:amd64 (2.5.7-2) ...\n"
     ]
    },
    {
     "name": "stdout",
     "output_type": "stream",
     "text": [
      "Setting up libtiffxx5:amd64 (4.3.0-6ubuntu0.3) ...\n",
      "Setting up libbz2-dev:amd64 (1.0.8-5build1) ...\n",
      "Setting up libgs9-common (9.55.0~dfsg1-0ubuntu5.1) ...\n",
      "Setting up libcairo-script-interpreter2:amd64 (1.16.0-5ubuntu2) ...\n",
      "Setting up libblkid-dev:amd64 (2.37.2-4ubuntu3) ...\n",
      "Setting up libmagickcore-6-arch-config:amd64 (8:6.9.11.60+dfsg-1.3ubuntu0.22.04.1) ...\n",
      "Setting up libjxr-tools (1.2~git20170615.f752187-5) ...\n",
      "Setting up libgs9:amd64 (9.55.0~dfsg1-0ubuntu5.1) ...\n",
      "Setting up libpcre2-dev:amd64 (10.39-3ubuntu0.1) ...\n",
      "Setting up libtool (2.4.6-15build2) ...\n",
      "Setting up libselinux1-dev:amd64 (3.3-1build2) ...\n",
      "Setting up libpcre3-dev:amd64 (2:8.39-13ubuntu0.22.04.1) ...\n",
      "Setting up libmagickwand-6-headers (8:6.9.11.60+dfsg-1.3ubuntu0.22.04.1) ...\n",
      "Setting up libdjvulibre21:amd64 (3.5.28-2build2) ...\n",
      "Setting up libjpeg-dev:amd64 (8c-2ubuntu10) ...\n",
      "Setting up liblqr-1-0-dev:amd64 (0.4.2-2.1) ...\n",
      "Setting up m4 (1.4.18-5ubuntu2) ...\n",
      "Setting up ghostscript (9.55.0~dfsg1-0ubuntu5.1) ...\n",
      "Setting up libdjvulibre-dev:amd64 (3.5.28-2build2) ...\n",
      "Setting up libfreetype-dev:amd64 (2.11.1+dfsg-1ubuntu0.1) ...\n",
      "Setting up libwmf-dev (0.2.12-5ubuntu1) ...\n",
      "Setting up libmagickcore-6.q16-6:amd64 (8:6.9.11.60+dfsg-1.3ubuntu0.22.04.1) ...\n",
      "Setting up libxml2-dev:amd64 (2.9.13+dfsg-1ubuntu0.2) ...\n",
      "Setting up libopenexr-dev (2.5.7-1) ...\n",
      "Setting up libtiff-dev:amd64 (4.3.0-6ubuntu0.3) ...\n",
      "Setting up autoconf (2.71-2) ...\n",
      "Setting up libmagickwand-6.q16-6:amd64 (8:6.9.11.60+dfsg-1.3ubuntu0.22.04.1) ...\n",
      "Setting up libmount-dev:amd64 (2.37.2-4ubuntu3) ...\n",
      "Setting up automake (1:1.16.5-1.3) ...\n",
      "update-alternatives: using /usr/bin/automake-1.16 to provide /usr/bin/automake (automake) in auto mode\n",
      "update-alternatives: warning: skip creation of /usr/share/man/man1/automake.1.gz because associated file /usr/share/man/man1/automake-1.16.1.gz (of link group automake) doesn't exist\n",
      "update-alternatives: warning: skip creation of /usr/share/man/man1/aclocal.1.gz because associated file /usr/share/man/man1/aclocal-1.16.1.gz (of link group automake) doesn't exist\n",
      "Setting up libmagickcore-6.q16-6-extra:amd64 (8:6.9.11.60+dfsg-1.3ubuntu0.22.04.1) ...\n",
      "Setting up libfontconfig-dev:amd64 (2.13.1-4.2ubuntu5) ...\n",
      "Setting up libfreetype6-dev:amd64 (2.11.1+dfsg-1ubuntu0.1) ...\n",
      "Setting up libltdl-dev:amd64 (2.4.6-15build2) ...\n",
      "Setting up libglib2.0-dev:amd64 (2.72.4-0ubuntu1) ...\n",
      "Setting up libfontconfig1-dev:amd64 (2.13.1-4.2ubuntu5) ...\n",
      "Processing triggers for libgdk-pixbuf-2.0-0:amd64 (2.42.8+dfsg-1ubuntu0.2) ...\n",
      "Processing triggers for install-info (6.8-4build1) ...\n",
      "Processing triggers for fontconfig (2.13.1-4.2ubuntu5) ...\n",
      "Processing triggers for libglib2.0-0:amd64 (2.72.4-0ubuntu1) ...\n",
      "Processing triggers for libc-bin (2.35-0ubuntu3.1) ...\n",
      "Setting up libcairo2-dev:amd64 (1.16.0-5ubuntu2) ...\n",
      "Setting up libgdk-pixbuf-2.0-dev:amd64 (2.42.8+dfsg-1ubuntu0.2) ...\n",
      "Setting up librsvg2-dev:amd64 (2.52.5+dfsg-3) ...\n",
      "Setting up libmagickcore-6.q16-dev:amd64 (8:6.9.11.60+dfsg-1.3ubuntu0.22.04.1) ...\n",
      "Setting up libmagickwand-6.q16-dev:amd64 (8:6.9.11.60+dfsg-1.3ubuntu0.22.04.1) ...\n",
      "Setting up libmagickwand-dev (8:6.9.11.60+dfsg-1.3ubuntu0.22.04.1) ...\n"
     ]
    }
   ],
   "source": [
    "!cd /opt && ((git clone https://github.com/pwais/oarphpy-mirror-mnist-c && \\\n",
    "              cd oarphpy-mirror-mnist-c && git checkout bba57e4ccc282f106907c5239958e72298451ea7) || echo \"have mnist-c\")\n",
    "import sys\n",
    "sys.path.append('/opt/oarphpy-mirror-mnist-c')\n",
    "\n",
    "# These are hard requirements of the package we need from above\n",
    "!pip3 install scikit-image==0.19.3\n",
    "!pip3 install wand scipy\n",
    "!ln -s /opt/oarphpy-mirror-mnist-c/pessimal_noise_matrix ./pessimal_noise_matrix || echo \"symlink placed\"\n",
    "!apt-get install -y libmagickwand-dev\n"
   ]
  },
  {
   "cell_type": "markdown",
   "metadata": {},
   "source": [
    "Let's take a look at a single corrupted example:"
   ]
  },
  {
   "cell_type": "code",
   "execution_count": 7,
   "metadata": {},
   "outputs": [
    {
     "data": {
      "text/plain": [
       "(28, 28)"
      ]
     },
     "execution_count": 7,
     "metadata": {},
     "output_type": "execute_result"
    }
   ],
   "source": [
    "import corruptions\n",
    "\n",
    "# See more corruptions here: \n",
    "# https://github.com/google-research/mnist-c/blob/bba57e4ccc282f106907c5239958e72298451ea7/corruptions.py#L57 \n",
    "\n",
    "x_to_corrupt = x_test[100].squeeze() * 255\n",
    "# x_corrupted = corruptions.speckle_noise(x_to_corrupt)\n",
    "# x_corrupted = corruptions.glass_blur(x_to_corrupt, severity=4)\n",
    "x_corrupted = corruptions.rotate(x_to_corrupt, severity=4)\n",
    "\n",
    "x_corrupted.shape"
   ]
  },
  {
   "cell_type": "code",
   "execution_count": 8,
   "metadata": {},
   "outputs": [
    {
     "name": "stderr",
     "output_type": "stream",
     "text": [
      "Lossy conversion from float32 to uint8. Range [0.0, 255.0]. Convert image to uint8 prior to saving to suppress this warning.\n",
      "Lossy conversion from float32 to uint8. Range [0.0, 233.87545776367188]. Convert image to uint8 prior to saving to suppress this warning.\n"
     ]
    },
    {
     "data": {
      "text/html": [
       "<b>Original:</b><img src=\"data:image/png;base64,/9j/4AAQSkZJRgABAQAAAQABAAD/2wBDAAgGBgcGBQgHBwcJCQgKDBQNDAsLDBkSEw8UHRofHh0aHBwgJC4nICIsIxwcKDcpLDAxNDQ0Hyc5PTgyPC4zNDL/wAALCAAcABwBAREA/8QAHwAAAQUBAQEBAQEAAAAAAAAAAAECAwQFBgcICQoL/8QAtRAAAgEDAwIEAwUFBAQAAAF9AQIDAAQRBRIhMUEGE1FhByJxFDKBkaEII0KxwRVS0fAkM2JyggkKFhcYGRolJicoKSo0NTY3ODk6Q0RFRkdISUpTVFVWV1hZWmNkZWZnaGlqc3R1dnd4eXqDhIWGh4iJipKTlJWWl5iZmqKjpKWmp6ipqrKztLW2t7i5usLDxMXGx8jJytLT1NXW19jZ2uHi4%2BTl5ufo6erx8vP09fb3%2BPn6/9oACAEBAAA/APn%2Bun/s7TNK8Ew3%2BoWz3Oo6vv8AsO2UottHG20yED7xZgy7T2UnuK5iiivQfEWkS614q0bQo3S2t7DQ7YyzspKxRCDz5ZDjry7n3PFVYrfwjrdxNo2j6XfxTrbzPb6jPdBmleNC/wA0QXaobaRgHjI5ODniKK9I0Hxbo12ulT6ndf2dq2m2jaeZ5IHlt7y1KsmxwnzowViNy57elZmoaz4b0RZD4YheW/mgaB7qRGVIFYEN5YZixYqSNxAwCcDPI4qiiiiv/9k%3D\" height=\"28\" width=\"28\" />"
      ],
      "text/plain": [
       "<IPython.core.display.HTML object>"
      ]
     },
     "metadata": {},
     "output_type": "display_data"
    },
    {
     "data": {
      "text/html": [
       "<b>Corrupted:</b><img src=\"data:image/png;base64,/9j/4AAQSkZJRgABAQAAAQABAAD/2wBDAAgGBgcGBQgHBwcJCQgKDBQNDAsLDBkSEw8UHRofHh0aHBwgJC4nICIsIxwcKDcpLDAxNDQ0Hyc5PTgyPC4zNDL/wAALCAAcABwBAREA/8QAHwAAAQUBAQEBAQEAAAAAAAAAAAECAwQFBgcICQoL/8QAtRAAAgEDAwIEAwUFBAQAAAF9AQIDAAQRBRIhMUEGE1FhByJxFDKBkaEII0KxwRVS0fAkM2JyggkKFhcYGRolJicoKSo0NTY3ODk6Q0RFRkdISUpTVFVWV1hZWmNkZWZnaGlqc3R1dnd4eXqDhIWGh4iJipKTlJWWl5iZmqKjpKWmp6ipqrKztLW2t7i5usLDxMXGx8jJytLT1NXW19jZ2uHi4%2BTl5ufo6erx8vP09fb3%2BPn6/9oACAEBAAA/APD9N0W%2B1aC%2BntI1aKxg8%2BdmcLtTIHc88npVO3t5rq4jggjaSaRgqIoyWJ7CtPVvC%2BtaHEk2o2EkMTkqJOGXIxkEjIB5HB55FZFdJ4K1OysdZktNU403UoWs7l8gGNWIw/P90gHtwDyK3PC2kXHhj4nNptyU%2B1xxTpaSA4V3MbeUyk4GDkEE460/w1o%2BvWdv4i/ta2mSxNnObqK6JXMgB2vz3D4Ge5OO5rzyiuw0vxbpk%2Bnwad4o0mS/itk2Wt3bzeXcQrnIXd0ZRzgHpzjGaf4l8cJqWmf2XpUF3Davt86e9uTPPKB0Ut0VfYD0988ZRRRRX//Z\" height=\"28\" width=\"28\" />"
      ],
      "text/plain": [
       "<IPython.core.display.HTML object>"
      ]
     },
     "metadata": {},
     "output_type": "display_data"
    }
   ],
   "source": [
    "sys.path.append('/opt/oarphpy')\n",
    "from oarphpy.plotting import img_to_img_tag\n",
    "\n",
    "img_html = img_to_img_tag(x_to_corrupt)\n",
    "img_html_c = img_to_img_tag(x_corrupted)\n",
    "\n",
    "def show_html(html):\n",
    "    from IPython.core.display import display, HTML\n",
    "    display(HTML(html))\n",
    "show_html('<b>Original:</b>' + img_html)\n",
    "show_html('<b>Corrupted:</b>' + img_html_c)"
   ]
  },
  {
   "cell_type": "markdown",
   "metadata": {},
   "source": [
    "Now, let's generated corrupted versions for the entire MNIST test set, and run inference of our earlier model on these corrupted examples:"
   ]
  },
  {
   "cell_type": "code",
   "execution_count": 9,
   "metadata": {},
   "outputs": [
    {
     "data": {
      "application/vnd.jupyter.widget-view+json": {
       "model_id": "f4b40ed3839b4f9195fe2c919c3229ed",
       "version_major": 2,
       "version_minor": 0
      },
      "text/plain": [
       "  0%|          | 0/10000 [00:00<?, ?it/s]"
      ]
     },
     "metadata": {},
     "output_type": "display_data"
    }
   ],
   "source": [
    "import numpy as np\n",
    "x_test_c = np.zeros_like(x_test)\n",
    "for i in tqdm(range(len(x_test_c)), total=len(x_test_c)):\n",
    "    # xform = corruptions.glass_blur\n",
    "    xform = corruptions.rotate\n",
    "    x_test_c[i][0] = (1. / 255) * xform(x_test[i].squeeze() * 255, severity=4)\n"
   ]
  },
  {
   "cell_type": "markdown",
   "metadata": {},
   "source": [
    "Let's make sure that worked and also declare a utility function for visualizing digits:"
   ]
  },
  {
   "cell_type": "code",
   "execution_count": 10,
   "metadata": {},
   "outputs": [
    {
     "data": {
      "text/html": [
       "<img src=\"data:image/png;base64,/9j/4AAQSkZJRgABAQAAAQABAAD/2wBDAAgGBgcGBQgHBwcJCQgKDBQNDAsLDBkSEw8UHRofHh0aHBwgJC4nICIsIxwcKDcpLDAxNDQ0Hyc5PTgyPC4zNDL/wAALCAAcABwBAREA/8QAHwAAAQUBAQEBAQEAAAAAAAAAAAECAwQFBgcICQoL/8QAtRAAAgEDAwIEAwUFBAQAAAF9AQIDAAQRBRIhMUEGE1FhByJxFDKBkaEII0KxwRVS0fAkM2JyggkKFhcYGRolJicoKSo0NTY3ODk6Q0RFRkdISUpTVFVWV1hZWmNkZWZnaGlqc3R1dnd4eXqDhIWGh4iJipKTlJWWl5iZmqKjpKWmp6ipqrKztLW2t7i5usLDxMXGx8jJytLT1NXW19jZ2uHi4%2BTl5ufo6erx8vP09fb3%2BPn6/9oACAEBAAA/APn%2Bt/wp4O1fxjqDWmlxKdgzJLIdqJ6An1PYVk6hY3GmahcWN0my4t5GjkX0IODVaui8J%2BFx4imupbm/hsdPskElzcSclQegA7k1s6542tbS0tdC8KRyW2j2sqzNK4AlupFOd7/iAQP8h3xXhhudfs/ENoMWutWiXK/LjD4w46dcjP41wVKGZQQCQDwcHrSV6hcWEnib4GWN9HJEJPD1xJHKp%2B80bkEfqeleX0UVZi1G9gsZ7GK6lS1nIMsKuQrkdMjvVav/2Q%3D%3D\" height=\"28\" width=\"28\" />"
      ],
      "text/plain": [
       "<IPython.core.display.HTML object>"
      ]
     },
     "metadata": {},
     "output_type": "display_data"
    },
    {
     "data": {
      "text/html": [
       "<img src=\"data:image/png;base64,/9j/4AAQSkZJRgABAQAAAQABAAD/2wBDAAgGBgcGBQgHBwcJCQgKDBQNDAsLDBkSEw8UHRofHh0aHBwgJC4nICIsIxwcKDcpLDAxNDQ0Hyc5PTgyPC4zNDL/wAALCAAcABwBAREA/8QAHwAAAQUBAQEBAQEAAAAAAAAAAAECAwQFBgcICQoL/8QAtRAAAgEDAwIEAwUFBAQAAAF9AQIDAAQRBRIhMUEGE1FhByJxFDKBkaEII0KxwRVS0fAkM2JyggkKFhcYGRolJicoKSo0NTY3ODk6Q0RFRkdISUpTVFVWV1hZWmNkZWZnaGlqc3R1dnd4eXqDhIWGh4iJipKTlJWWl5iZmqKjpKWmp6ipqrKztLW2t7i5usLDxMXGx8jJytLT1NXW19jZ2uHi4%2BTl5ufo6erx8vP09fb3%2BPn6/9oACAEBAAA/APFPDvhzUvFOsR6ZpUHm3DgsSThUUdWJPQVe8W%2BCtX8GXkUGppGyTLuimhbcjj2PrXOUV33gTxVYeHPC3iqKSXyNUu7ZY7OQR5OTkMAe3Bz%2BHritx5ZPEf7POXzLPot/jexGVRv/ANqvP/Cnhq88WeIbbSrQAGRsySMcLGg5Zie2BXSeKNb8M6XrT6boOi2d1ZWiiH7TKvzTuPvPz7/y/E8DXp/wh1nSwNa8L61erZ2ms2/lxzP91ZMEDnscHjpnGM9KveI/FOgeBvDk/hLwiiXN9KoW81nIy2fvBMfkOcAZ6k5ryIkkkk5Joooor//Z\" height=\"28\" width=\"28\" />"
      ],
      "text/plain": [
       "<IPython.core.display.HTML object>"
      ]
     },
     "metadata": {},
     "output_type": "display_data"
    },
    {
     "data": {
      "text/html": [
       "<img src=\"data:image/png;base64,/9j/4AAQSkZJRgABAQAAAQABAAD/2wBDAAgGBgcGBQgHBwcJCQgKDBQNDAsLDBkSEw8UHRofHh0aHBwgJC4nICIsIxwcKDcpLDAxNDQ0Hyc5PTgyPC4zNDL/wAALCAAcABwBAREA/8QAHwAAAQUBAQEBAQEAAAAAAAAAAAECAwQFBgcICQoL/8QAtRAAAgEDAwIEAwUFBAQAAAF9AQIDAAQRBRIhMUEGE1FhByJxFDKBkaEII0KxwRVS0fAkM2JyggkKFhcYGRolJicoKSo0NTY3ODk6Q0RFRkdISUpTVFVWV1hZWmNkZWZnaGlqc3R1dnd4eXqDhIWGh4iJipKTlJWWl5iZmqKjpKWmp6ipqrKztLW2t7i5usLDxMXGx8jJytLT1NXW19jZ2uHi4%2BTl5ufo6erx8vP09fb3%2BPn6/9oACAEBAAA/APn%2Biiiiul8P%2BBdc8RRm4gtxb2Kjc15ct5cQH%2B8etal0fB3hRjDbr/wkmohPmmclLVGPUAdXx%2BA/UVw5OSSAB7DtWt4b1az0TV1vb3SYNTjVSFgnYhQ3ZuOuPSrninxvrHiy5DXkqw2qcQ2duNkUY6YCiucooooor//Z\" height=\"28\" width=\"28\" />"
      ],
      "text/plain": [
       "<IPython.core.display.HTML object>"
      ]
     },
     "metadata": {},
     "output_type": "display_data"
    },
    {
     "data": {
      "text/html": [
       "<img src=\"data:image/png;base64,/9j/4AAQSkZJRgABAQAAAQABAAD/2wBDAAgGBgcGBQgHBwcJCQgKDBQNDAsLDBkSEw8UHRofHh0aHBwgJC4nICIsIxwcKDcpLDAxNDQ0Hyc5PTgyPC4zNDL/wAALCAAcABwBAREA/8QAHwAAAQUBAQEBAQEAAAAAAAAAAAECAwQFBgcICQoL/8QAtRAAAgEDAwIEAwUFBAQAAAF9AQIDAAQRBRIhMUEGE1FhByJxFDKBkaEII0KxwRVS0fAkM2JyggkKFhcYGRolJicoKSo0NTY3ODk6Q0RFRkdISUpTVFVWV1hZWmNkZWZnaGlqc3R1dnd4eXqDhIWGh4iJipKTlJWWl5iZmqKjpKWmp6ipqrKztLW2t7i5usLDxMXGx8jJytLT1NXW19jZ2uHi4%2BTl5ufo6erx8vP09fb3%2BPn6/9oACAEBAAA/APBrKzudRvYbOzhaa5ncRxxr1Zj0FdJJ8NfGMd1c239gXbyWwzIEXcMYzwe/4Vg6lpGo6POIdRsZ7SUgMFmjKkg9%2BfofyqlWt4WuUtPFmk3EsrxRx3cTNIh5UbhzXu/x38ZatoNzo1ro9/NatIjTs8XG7BAHP58Vn609745/Z8XWtTMcuo2UpkE5wCyhtp/HBP5V4FSqxVgynBByDXsel3Wj/Fjwtb6Xr2qpZeKNOG21vJzhZ4yR8rf3j%2Bo4PPNbHxP8ReG/D/w2tPBWg3NvcSHasgt5CQgX5mZiM5LN2z614HRRQTk5NFf/2Q%3D%3D\" height=\"28\" width=\"28\" />"
      ],
      "text/plain": [
       "<IPython.core.display.HTML object>"
      ]
     },
     "metadata": {},
     "output_type": "display_data"
    },
    {
     "data": {
      "text/html": [
       "<img src=\"data:image/png;base64,/9j/4AAQSkZJRgABAQAAAQABAAD/2wBDAAgGBgcGBQgHBwcJCQgKDBQNDAsLDBkSEw8UHRofHh0aHBwgJC4nICIsIxwcKDcpLDAxNDQ0Hyc5PTgyPC4zNDL/wAALCAAcABwBAREA/8QAHwAAAQUBAQEBAQEAAAAAAAAAAAECAwQFBgcICQoL/8QAtRAAAgEDAwIEAwUFBAQAAAF9AQIDAAQRBRIhMUEGE1FhByJxFDKBkaEII0KxwRVS0fAkM2JyggkKFhcYGRolJicoKSo0NTY3ODk6Q0RFRkdISUpTVFVWV1hZWmNkZWZnaGlqc3R1dnd4eXqDhIWGh4iJipKTlJWWl5iZmqKjpKWmp6ipqrKztLW2t7i5usLDxMXGx8jJytLT1NXW19jZ2uHi4%2BTl5ufo6erx8vP09fb3%2BPn6/9oACAEBAAA/APn%2Br9homqaqcafp11dZOP3MTN/IUaxo15oV99iv0SO5CBmjVwxTPZsdD7H1FUKnsfs/2%2B3%2B17vs3mL5u3rtzz%2BlejfEXXfEOmXsdlp101n4bdAdP%2Bw/u45I8cEsvJPXOfT2rlNF8I6xr7S3jwyw2EeZLm/nUiNB3JY9T19659wqyMEbcoJAb1FIAWIAGSeBXteiPZfDnwK83iuW21a4u2WSw0RnWVY2XneTyFHTPrgDnFedeJ/H2veKS0V5dtHY5Gyzh%2BWJQOnA6/jXMUUpJPUk49aSiv/Z\" height=\"28\" width=\"28\" />"
      ],
      "text/plain": [
       "<IPython.core.display.HTML object>"
      ]
     },
     "metadata": {},
     "output_type": "display_data"
    },
    {
     "data": {
      "text/html": [
       "<img src=\"data:image/png;base64,/9j/4AAQSkZJRgABAQAAAQABAAD/2wBDAAgGBgcGBQgHBwcJCQgKDBQNDAsLDBkSEw8UHRofHh0aHBwgJC4nICIsIxwcKDcpLDAxNDQ0Hyc5PTgyPC4zNDL/wAALCAAcABwBAREA/8QAHwAAAQUBAQEBAQEAAAAAAAAAAAECAwQFBgcICQoL/8QAtRAAAgEDAwIEAwUFBAQAAAF9AQIDAAQRBRIhMUEGE1FhByJxFDKBkaEII0KxwRVS0fAkM2JyggkKFhcYGRolJicoKSo0NTY3ODk6Q0RFRkdISUpTVFVWV1hZWmNkZWZnaGlqc3R1dnd4eXqDhIWGh4iJipKTlJWWl5iZmqKjpKWmp6ipqrKztLW2t7i5usLDxMXGx8jJytLT1NXW19jZ2uHi4%2BTl5ufo6erx8vP09fb3%2BPn6/9oACAEBAAA/APn%2BuivvBuoWPgzTvFBkglsL2RowIyS0TAkYbjHOD0rnaKK9c%2BE%2Bp2/iDQdX%2BHupPtj1CNpLJ/7soGcfoD36V5bqWn3Gk6nc6fdpsuLeQxyL6EHFVaKtabqFxpWpW9/auUngkEiEeoOa7z4lX2g%2BKYLLxZpt5DFqN0qx32n/AMSOBjcPbj%2BX4%2Bc0UUUV/9k%3D\" height=\"28\" width=\"28\" />"
      ],
      "text/plain": [
       "<IPython.core.display.HTML object>"
      ]
     },
     "metadata": {},
     "output_type": "display_data"
    },
    {
     "data": {
      "text/html": [
       "<img src=\"data:image/png;base64,/9j/4AAQSkZJRgABAQAAAQABAAD/2wBDAAgGBgcGBQgHBwcJCQgKDBQNDAsLDBkSEw8UHRofHh0aHBwgJC4nICIsIxwcKDcpLDAxNDQ0Hyc5PTgyPC4zNDL/wAALCAAcABwBAREA/8QAHwAAAQUBAQEBAQEAAAAAAAAAAAECAwQFBgcICQoL/8QAtRAAAgEDAwIEAwUFBAQAAAF9AQIDAAQRBRIhMUEGE1FhByJxFDKBkaEII0KxwRVS0fAkM2JyggkKFhcYGRolJicoKSo0NTY3ODk6Q0RFRkdISUpTVFVWV1hZWmNkZWZnaGlqc3R1dnd4eXqDhIWGh4iJipKTlJWWl5iZmqKjpKWmp6ipqrKztLW2t7i5usLDxMXGx8jJytLT1NXW19jZ2uHi4%2BTl5ufo6erx8vP09fb3%2BPn6/9oACAEBAAA/APn%2Bus0T4c%2BINb06PUkjt7TT5N225vJ1iQ4HXnnFYmuaO%2Bh6k9lJd2l0VAPm2svmIcj1rOor07S9Rs/Hngax8JXM/wBm1zTnP9nySMBHOp6R57Nk8Z9vw58fDDxl58kTaFcR%2BWcM8hCIPfcTjFc7qmmXGj6hLY3fl%2BdEcN5cgdfwIJBqbw/a6de6/ZW%2BrXZtbCSUCeYDJVa9H8SeK7bwTOlh4P0fTrWFv3kWp71uZpOfvBudvbj0/DHn2r%2BK9f16Uyanq13cE5%2BVpDtGevA4rH60UUUV/9k%3D\" height=\"28\" width=\"28\" />"
      ],
      "text/plain": [
       "<IPython.core.display.HTML object>"
      ]
     },
     "metadata": {},
     "output_type": "display_data"
    },
    {
     "data": {
      "text/html": [
       "<img src=\"data:image/png;base64,/9j/4AAQSkZJRgABAQAAAQABAAD/2wBDAAgGBgcGBQgHBwcJCQgKDBQNDAsLDBkSEw8UHRofHh0aHBwgJC4nICIsIxwcKDcpLDAxNDQ0Hyc5PTgyPC4zNDL/wAALCAAcABwBAREA/8QAHwAAAQUBAQEBAQEAAAAAAAAAAAECAwQFBgcICQoL/8QAtRAAAgEDAwIEAwUFBAQAAAF9AQIDAAQRBRIhMUEGE1FhByJxFDKBkaEII0KxwRVS0fAkM2JyggkKFhcYGRolJicoKSo0NTY3ODk6Q0RFRkdISUpTVFVWV1hZWmNkZWZnaGlqc3R1dnd4eXqDhIWGh4iJipKTlJWWl5iZmqKjpKWmp6ipqrKztLW2t7i5usLDxMXGx8jJytLT1NXW19jZ2uHi4%2BTl5ufo6erx8vP09fb3%2BPn6/9oACAEBAAA/APn%2BrFpY3eoTiCztpriU9EiQsfyFJeWV1p85gvLaW3lHVJUKn8jUFFfQXhKx1Ox8PeFj4JuNMElzh9VZ5E85/myVIIzgDI4/wrj/AI%2BXK3HxE2pcmVY7WMFAciM85Ary2iu/%2BFCpY6zqPiKcZg0aykuOgPzn5VHPua4e8upb69mup2LSzOXYk9STmoKK7XTpWs/hFrEkJKvd6nDbzHJ%2BZAjMB%2BdcVRX/2Q%3D%3D\" height=\"28\" width=\"28\" />"
      ],
      "text/plain": [
       "<IPython.core.display.HTML object>"
      ]
     },
     "metadata": {},
     "output_type": "display_data"
    },
    {
     "data": {
      "text/html": [
       "<img src=\"data:image/png;base64,/9j/4AAQSkZJRgABAQAAAQABAAD/2wBDAAgGBgcGBQgHBwcJCQgKDBQNDAsLDBkSEw8UHRofHh0aHBwgJC4nICIsIxwcKDcpLDAxNDQ0Hyc5PTgyPC4zNDL/wAALCAAcABwBAREA/8QAHwAAAQUBAQEBAQEAAAAAAAAAAAECAwQFBgcICQoL/8QAtRAAAgEDAwIEAwUFBAQAAAF9AQIDAAQRBRIhMUEGE1FhByJxFDKBkaEII0KxwRVS0fAkM2JyggkKFhcYGRolJicoKSo0NTY3ODk6Q0RFRkdISUpTVFVWV1hZWmNkZWZnaGlqc3R1dnd4eXqDhIWGh4iJipKTlJWWl5iZmqKjpKWmp6ipqrKztLW2t7i5usLDxMXGx8jJytLT1NXW19jZ2uHi4%2BTl5ufo6erx8vP09fb3%2BPn6/9oACAEBAAA/APn%2BvavCmk6b8NvAY8b6tGlzq96m3T7R1BAB6NyPTnPYeua8auZzc3U05jjjMrl9ka7VXJzgDsKiq/omlz61rdnptsUE9zKI03/dyfWt7xX4j8Q%2BMdXttPvU8yWyH2WG2t04yvBOO5OK3tb%2BCmv6F4SfXLi4t2eKPzZ7Vc7ok9SehP8A9evNK0NC1RtF16x1NE3tazLLtzjODnFeyXXxF%2BHvhqWXWfC%2BkPea7duZWkuFYCIty3X8enr14rN8V/Gu11/wxqFha6LJbX2oxrHczGXcuB6D0xn8/wAa8doooor/2Q%3D%3D\" height=\"28\" width=\"28\" />"
      ],
      "text/plain": [
       "<IPython.core.display.HTML object>"
      ]
     },
     "metadata": {},
     "output_type": "display_data"
    },
    {
     "data": {
      "text/html": [
       "<img src=\"data:image/png;base64,/9j/4AAQSkZJRgABAQAAAQABAAD/2wBDAAgGBgcGBQgHBwcJCQgKDBQNDAsLDBkSEw8UHRofHh0aHBwgJC4nICIsIxwcKDcpLDAxNDQ0Hyc5PTgyPC4zNDL/wAALCAAcABwBAREA/8QAHwAAAQUBAQEBAQEAAAAAAAAAAAECAwQFBgcICQoL/8QAtRAAAgEDAwIEAwUFBAQAAAF9AQIDAAQRBRIhMUEGE1FhByJxFDKBkaEII0KxwRVS0fAkM2JyggkKFhcYGRolJicoKSo0NTY3ODk6Q0RFRkdISUpTVFVWV1hZWmNkZWZnaGlqc3R1dnd4eXqDhIWGh4iJipKTlJWWl5iZmqKjpKWmp6ipqrKztLW2t7i5usLDxMXGx8jJytLT1NXW19jZ2uHi4%2BTl5ufo6erx8vP09fb3%2BPn6/9oACAEBAAA/APn%2Bur8I/D3XPGLGWyiWGyVir3c52xg%2Bg9T7Cq3jLwdqPgnWV03UXikd4llSSI5VlP1565H4VztSQQvcTxwxjLyMEUepJwK%2Bgzo18mvaT4Usp0tNA0i0R9XkcAxyO43EHPBbpj04PpXK/tCbh4z09VUi3WwQREfdIyeleRVJBM9vcRzx43xsHXPqDmuz8VfFPxD4stBaXRgt7Y7TKlum0yle7Hqfp0rr/jGRrngzwd4nhHyS23kSAHO1sA4z06huP8K8ZoorVl8R6vP4ei0GW9kfTIZfNjgOMK3PQ9ccnjpWVX//2Q%3D%3D\" height=\"28\" width=\"28\" />"
      ],
      "text/plain": [
       "<IPython.core.display.HTML object>"
      ]
     },
     "metadata": {},
     "output_type": "display_data"
    }
   ],
   "source": [
    "NUM_TO_SHOW = 10\n",
    "\n",
    "def unit_digit_to_img_tag(x):\n",
    "    img_char = (255 * x).astype('uint8')\n",
    "    return img_to_img_tag(img_char)\n",
    "\n",
    "for r in x_test_c[:NUM_TO_SHOW, ...]:\n",
    "    x_i = r.squeeze()\n",
    "    show_html(unit_digit_to_img_tag(x_i))"
   ]
  },
  {
   "cell_type": "markdown",
   "metadata": {},
   "source": [
    "Now let's run inference on the corrupted data!"
   ]
  },
  {
   "cell_type": "code",
   "execution_count": 11,
   "metadata": {},
   "outputs": [],
   "source": [
    "prob_c, pred_c = model_predict(torch.from_numpy(x_test_c))"
   ]
  },
  {
   "cell_type": "code",
   "execution_count": 12,
   "metadata": {},
   "outputs": [
    {
     "data": {
      "text/html": [
       "<div>\n",
       "<style scoped>\n",
       "    .dataframe tbody tr th:only-of-type {\n",
       "        vertical-align: middle;\n",
       "    }\n",
       "\n",
       "    .dataframe tbody tr th {\n",
       "        vertical-align: top;\n",
       "    }\n",
       "\n",
       "    .dataframe thead th {\n",
       "        text-align: right;\n",
       "    }\n",
       "</style>\n",
       "<table border=\"1\" class=\"dataframe\">\n",
       "  <thead>\n",
       "    <tr style=\"text-align: right;\">\n",
       "      <th></th>\n",
       "      <th>score_0</th>\n",
       "      <th>score_1</th>\n",
       "      <th>score_2</th>\n",
       "      <th>score_3</th>\n",
       "      <th>score_4</th>\n",
       "      <th>score_5</th>\n",
       "      <th>score_6</th>\n",
       "      <th>score_7</th>\n",
       "      <th>score_8</th>\n",
       "      <th>score_9</th>\n",
       "      <th>x_i</th>\n",
       "    </tr>\n",
       "  </thead>\n",
       "  <tbody>\n",
       "    <tr>\n",
       "      <th>0</th>\n",
       "      <td>0.023189</td>\n",
       "      <td>3.499873e-02</td>\n",
       "      <td>7.924204e-02</td>\n",
       "      <td>2.462936e-03</td>\n",
       "      <td>7.328708e-01</td>\n",
       "      <td>2.511773e-03</td>\n",
       "      <td>0.000694</td>\n",
       "      <td>5.893948e-02</td>\n",
       "      <td>0.004421</td>\n",
       "      <td>0.060670</td>\n",
       "      <td>[[0.0, 0.0, 0.0, 0.0, 0.0, 0.0, 0.0, 0.0, 0.0,...</td>\n",
       "    </tr>\n",
       "    <tr>\n",
       "      <th>1</th>\n",
       "      <td>0.136875</td>\n",
       "      <td>1.656399e-01</td>\n",
       "      <td>1.804453e-02</td>\n",
       "      <td>8.661019e-04</td>\n",
       "      <td>2.014344e-02</td>\n",
       "      <td>1.060956e-02</td>\n",
       "      <td>0.185269</td>\n",
       "      <td>3.871693e-02</td>\n",
       "      <td>0.423418</td>\n",
       "      <td>0.000418</td>\n",
       "      <td>[[0.0, 0.0, 0.0, 0.0, 0.0, 0.0, 0.0, 0.0, 0.0,...</td>\n",
       "    </tr>\n",
       "    <tr>\n",
       "      <th>2</th>\n",
       "      <td>0.000057</td>\n",
       "      <td>2.777056e-02</td>\n",
       "      <td>4.605581e-01</td>\n",
       "      <td>4.355606e-02</td>\n",
       "      <td>1.046089e-03</td>\n",
       "      <td>8.797347e-03</td>\n",
       "      <td>0.001094</td>\n",
       "      <td>1.946782e-02</td>\n",
       "      <td>0.437414</td>\n",
       "      <td>0.000240</td>\n",
       "      <td>[[0.0, 0.0, 0.0, 0.0, 0.0, 0.0, 0.0, 0.0, 0.0,...</td>\n",
       "    </tr>\n",
       "    <tr>\n",
       "      <th>3</th>\n",
       "      <td>0.999870</td>\n",
       "      <td>4.705473e-07</td>\n",
       "      <td>1.019485e-05</td>\n",
       "      <td>6.493735e-08</td>\n",
       "      <td>1.318491e-06</td>\n",
       "      <td>8.314926e-06</td>\n",
       "      <td>0.000059</td>\n",
       "      <td>3.484946e-05</td>\n",
       "      <td>0.000013</td>\n",
       "      <td>0.000002</td>\n",
       "      <td>[[0.0, 0.0, 0.0, 0.0, 0.0, 0.0, 0.0, 0.0, 0.0,...</td>\n",
       "    </tr>\n",
       "    <tr>\n",
       "      <th>4</th>\n",
       "      <td>0.002216</td>\n",
       "      <td>1.544213e-05</td>\n",
       "      <td>2.452351e-03</td>\n",
       "      <td>3.282306e-04</td>\n",
       "      <td>8.513890e-03</td>\n",
       "      <td>5.292688e-01</td>\n",
       "      <td>0.022211</td>\n",
       "      <td>1.086944e-03</td>\n",
       "      <td>0.264774</td>\n",
       "      <td>0.169133</td>\n",
       "      <td>[[0.0, 0.0, 0.0, 0.0, 0.0, 0.0, 0.0, 0.0, 0.0,...</td>\n",
       "    </tr>\n",
       "    <tr>\n",
       "      <th>...</th>\n",
       "      <td>...</td>\n",
       "      <td>...</td>\n",
       "      <td>...</td>\n",
       "      <td>...</td>\n",
       "      <td>...</td>\n",
       "      <td>...</td>\n",
       "      <td>...</td>\n",
       "      <td>...</td>\n",
       "      <td>...</td>\n",
       "      <td>...</td>\n",
       "      <td>...</td>\n",
       "    </tr>\n",
       "    <tr>\n",
       "      <th>9995</th>\n",
       "      <td>0.000160</td>\n",
       "      <td>2.077016e-06</td>\n",
       "      <td>9.966429e-01</td>\n",
       "      <td>1.492914e-04</td>\n",
       "      <td>7.414887e-07</td>\n",
       "      <td>9.567250e-07</td>\n",
       "      <td>0.000006</td>\n",
       "      <td>4.912279e-05</td>\n",
       "      <td>0.002986</td>\n",
       "      <td>0.000003</td>\n",
       "      <td>[[0.0, 0.0, 0.0, 0.0, 0.0, 0.0, 0.0, 0.0, 0.0,...</td>\n",
       "    </tr>\n",
       "    <tr>\n",
       "      <th>9996</th>\n",
       "      <td>0.002529</td>\n",
       "      <td>5.961329e-05</td>\n",
       "      <td>8.055447e-04</td>\n",
       "      <td>9.899822e-01</td>\n",
       "      <td>2.514886e-06</td>\n",
       "      <td>6.705057e-04</td>\n",
       "      <td>0.000006</td>\n",
       "      <td>3.017469e-04</td>\n",
       "      <td>0.000128</td>\n",
       "      <td>0.005515</td>\n",
       "      <td>[[0.0, 0.0, 0.0, 0.0, 0.0, 0.0, 0.0, 0.0, 0.0,...</td>\n",
       "    </tr>\n",
       "    <tr>\n",
       "      <th>9997</th>\n",
       "      <td>0.001643</td>\n",
       "      <td>2.136260e-04</td>\n",
       "      <td>8.218874e-01</td>\n",
       "      <td>5.305554e-03</td>\n",
       "      <td>7.188972e-04</td>\n",
       "      <td>1.871666e-02</td>\n",
       "      <td>0.063834</td>\n",
       "      <td>5.108909e-04</td>\n",
       "      <td>0.086146</td>\n",
       "      <td>0.001024</td>\n",
       "      <td>[[0.0, 0.0, 0.0, 0.0, 0.0, 0.0, 0.0, 0.0, 0.0,...</td>\n",
       "    </tr>\n",
       "    <tr>\n",
       "      <th>9998</th>\n",
       "      <td>0.000001</td>\n",
       "      <td>3.017144e-07</td>\n",
       "      <td>2.192112e-08</td>\n",
       "      <td>1.729715e-04</td>\n",
       "      <td>4.796895e-05</td>\n",
       "      <td>3.358821e-01</td>\n",
       "      <td>0.663164</td>\n",
       "      <td>5.775211e-09</td>\n",
       "      <td>0.000685</td>\n",
       "      <td>0.000047</td>\n",
       "      <td>[[0.0, 0.0, 0.0, 0.0, 0.0, 0.0, 0.0, 0.0, 0.0,...</td>\n",
       "    </tr>\n",
       "    <tr>\n",
       "      <th>9999</th>\n",
       "      <td>0.000223</td>\n",
       "      <td>1.686272e-07</td>\n",
       "      <td>4.811619e-07</td>\n",
       "      <td>7.268485e-06</td>\n",
       "      <td>6.574192e-08</td>\n",
       "      <td>9.839876e-01</td>\n",
       "      <td>0.001034</td>\n",
       "      <td>5.640553e-08</td>\n",
       "      <td>0.014691</td>\n",
       "      <td>0.000057</td>\n",
       "      <td>[[0.0, 0.0, 0.0, 0.0, 0.0, 0.0, 0.0, 0.0, 0.0,...</td>\n",
       "    </tr>\n",
       "  </tbody>\n",
       "</table>\n",
       "<p>10000 rows × 11 columns</p>\n",
       "</div>"
      ],
      "text/plain": [
       "       score_0       score_1       score_2       score_3       score_4  \\\n",
       "0     0.023189  3.499873e-02  7.924204e-02  2.462936e-03  7.328708e-01   \n",
       "1     0.136875  1.656399e-01  1.804453e-02  8.661019e-04  2.014344e-02   \n",
       "2     0.000057  2.777056e-02  4.605581e-01  4.355606e-02  1.046089e-03   \n",
       "3     0.999870  4.705473e-07  1.019485e-05  6.493735e-08  1.318491e-06   \n",
       "4     0.002216  1.544213e-05  2.452351e-03  3.282306e-04  8.513890e-03   \n",
       "...        ...           ...           ...           ...           ...   \n",
       "9995  0.000160  2.077016e-06  9.966429e-01  1.492914e-04  7.414887e-07   \n",
       "9996  0.002529  5.961329e-05  8.055447e-04  9.899822e-01  2.514886e-06   \n",
       "9997  0.001643  2.136260e-04  8.218874e-01  5.305554e-03  7.188972e-04   \n",
       "9998  0.000001  3.017144e-07  2.192112e-08  1.729715e-04  4.796895e-05   \n",
       "9999  0.000223  1.686272e-07  4.811619e-07  7.268485e-06  6.574192e-08   \n",
       "\n",
       "           score_5   score_6       score_7   score_8   score_9  \\\n",
       "0     2.511773e-03  0.000694  5.893948e-02  0.004421  0.060670   \n",
       "1     1.060956e-02  0.185269  3.871693e-02  0.423418  0.000418   \n",
       "2     8.797347e-03  0.001094  1.946782e-02  0.437414  0.000240   \n",
       "3     8.314926e-06  0.000059  3.484946e-05  0.000013  0.000002   \n",
       "4     5.292688e-01  0.022211  1.086944e-03  0.264774  0.169133   \n",
       "...            ...       ...           ...       ...       ...   \n",
       "9995  9.567250e-07  0.000006  4.912279e-05  0.002986  0.000003   \n",
       "9996  6.705057e-04  0.000006  3.017469e-04  0.000128  0.005515   \n",
       "9997  1.871666e-02  0.063834  5.108909e-04  0.086146  0.001024   \n",
       "9998  3.358821e-01  0.663164  5.775211e-09  0.000685  0.000047   \n",
       "9999  9.839876e-01  0.001034  5.640553e-08  0.014691  0.000057   \n",
       "\n",
       "                                                    x_i  \n",
       "0     [[0.0, 0.0, 0.0, 0.0, 0.0, 0.0, 0.0, 0.0, 0.0,...  \n",
       "1     [[0.0, 0.0, 0.0, 0.0, 0.0, 0.0, 0.0, 0.0, 0.0,...  \n",
       "2     [[0.0, 0.0, 0.0, 0.0, 0.0, 0.0, 0.0, 0.0, 0.0,...  \n",
       "3     [[0.0, 0.0, 0.0, 0.0, 0.0, 0.0, 0.0, 0.0, 0.0,...  \n",
       "4     [[0.0, 0.0, 0.0, 0.0, 0.0, 0.0, 0.0, 0.0, 0.0,...  \n",
       "...                                                 ...  \n",
       "9995  [[0.0, 0.0, 0.0, 0.0, 0.0, 0.0, 0.0, 0.0, 0.0,...  \n",
       "9996  [[0.0, 0.0, 0.0, 0.0, 0.0, 0.0, 0.0, 0.0, 0.0,...  \n",
       "9997  [[0.0, 0.0, 0.0, 0.0, 0.0, 0.0, 0.0, 0.0, 0.0,...  \n",
       "9998  [[0.0, 0.0, 0.0, 0.0, 0.0, 0.0, 0.0, 0.0, 0.0,...  \n",
       "9999  [[0.0, 0.0, 0.0, 0.0, 0.0, 0.0, 0.0, 0.0, 0.0,...  \n",
       "\n",
       "[10000 rows x 11 columns]"
      ]
     },
     "execution_count": 12,
     "metadata": {},
     "output_type": "execute_result"
    }
   ],
   "source": [
    "# Aggregate inference results into a dataframe\n",
    "rows = []\n",
    "for i, (x_i, score_i, pred_i) in enumerate(zip(x_test_c, prob_c, pred_c)):\n",
    "    row = {}\n",
    "    for classname, score in enumerate(score_i):\n",
    "        row[f'score_{classname}'] = score.item()\n",
    "    row['x_i'] = x_i.squeeze().tolist()\n",
    "    rows.append(row)\n",
    "\n",
    "import pandas as pd\n",
    "prediction_c_df = pd.DataFrame(rows)\n",
    "prediction_c_df"
   ]
  },
  {
   "cell_type": "markdown",
   "metadata": {},
   "source": [
    "Ok, so how did the network score the `7` class in the corrupted data?"
   ]
  },
  {
   "cell_type": "code",
   "execution_count": 13,
   "metadata": {},
   "outputs": [
    {
     "data": {
      "text/plain": [
       "<Axes: >"
      ]
     },
     "execution_count": 13,
     "metadata": {},
     "output_type": "execute_result"
    },
    {
     "data": {
      "image/png": "[encoded data removed]",
      "text/plain": [
       "<Figure size 432x288 with 1 Axes>"
      ]
     },
     "metadata": {
      "needs_background": "light"
     },
     "output_type": "display_data"
    }
   ],
   "source": [
    "prediction_c_df['score_7'].hist()"
   ]
  },
  {
   "cell_type": "markdown",
   "metadata": {},
   "source": [
    "Huh, that score distribution is still bi-modal, but is *much more uniform* than the plot we saw earlier.  Clearly the model is making mistakes due to the corruptions.  But what sorts of mistakes?  If we needed to select some of these examples to label, which would we choose?  Let's use `HistogramWithExamplesPlotter` to \"peer inside\" the histogram buckets of the plot above."
   ]
  },
  {
   "cell_type": "code",
   "execution_count": 14,
   "metadata": {},
   "outputs": [
    {
     "name": "stderr",
     "output_type": "stream",
     "text": [
      "2023-03-06 08:13:58,093\toarph 195 : Using source root /usr/lib/python3/dist-packages/IPython/core \n",
      "2023-03-06 08:13:58,094\toarph 195 : Using source root /usr/lib/python3/dist-packages/IPython \n",
      "2023-03-06 08:13:58,127\toarph 195 : Generating egg to /tmp/tmp6gziyi2u_oarphpy_eggbuild ...\n",
      "2023-03-06 08:13:58,366\toarph 195 : ... done.  Egg at /tmp/tmp6gziyi2u_oarphpy_eggbuild/core-0.0.0-py3.10.egg\n",
      "23/03/06 08:14:00 WARN Utils: Your hostname, mrskylake resolves to a loopback address: 127.0.1.1; using 192.168.0.202 instead (on interface enp59s0)\n",
      "23/03/06 08:14:00 WARN Utils: Set SPARK_LOCAL_IP if you need to bind to another address\n",
      "23/03/06 08:14:01 WARN NativeCodeLoader: Unable to load native-hadoop library for your platform... using builtin-java classes where applicable\n",
      "INFO:SparkMonitorKernel:Client Connected ('127.0.0.1', 49758)\n"
     ]
    }
   ],
   "source": [
    "from oarphpy.spark import NBSpark\n",
    "spark = NBSpark.getOrCreate()\n"
   ]
  },
  {
   "cell_type": "code",
   "execution_count": 15,
   "metadata": {},
   "outputs": [
    {
     "data": {
      "text/html": [
       "<style>\n",
       "        .bk-notebook-logo {\n",
       "            display: block;\n",
       "            width: 20px;\n",
       "            height: 20px;\n",
       "            background-image: url(data:image/png;base64,iVBORw0KGgoAAAANSUhEUgAAABQAAAAUCAYAAACNiR0NAAAABHNCSVQICAgIfAhkiAAAAAlwSFlzAAALEgAACxIB0t1+/AAAABx0RVh0U29mdHdhcmUAQWRvYmUgRmlyZXdvcmtzIENTNui8sowAAAOkSURBVDiNjZRtaJVlGMd/1/08zzln5zjP1LWcU9N0NkN8m2CYjpgQYQXqSs0I84OLIC0hkEKoPtiH3gmKoiJDU7QpLgoLjLIQCpEsNJ1vqUOdO7ppbuec5+V+rj4ctwzd8IIbbi6u+8f1539dt3A78eXC7QizUF7gyV1fD1Yqg4JWz84yffhm0qkFqBogB9rM8tZdtwVsPUhWhGcFJngGeWrPzHm5oaMmkfEg1usvLFyc8jLRqDOMru7AyC8saQr7GG7f5fvDeH7Ej8CM66nIF+8yngt6HWaKh7k49Soy9nXurCi1o3qUbS3zWfrYeQDTB/Qj6kX6Ybhw4B+bOYoLKCC9H3Nu/leUTZ1JdRWkkn2ldcCamzrcf47KKXdAJllSlxAOkRgyHsGC/zRday5Qld9DyoM4/q/rUoy/CXh3jzOu3bHUVZeU+DEn8FInkPBFlu3+nW3Nw0mk6vCDiWg8CeJaxEwuHS3+z5RgY+YBR6V1Z1nxSOfoaPa4LASWxxdNp+VWTk7+4vzaou8v8PN+xo+KY2xsw6une2frhw05CTYOmQvsEhjhWjn0bmXPjpE1+kplmmkP3suftwTubK9Vq22qKmrBhpY4jvd5afdRA3wGjFAgcnTK2s4hY0/GPNIb0nErGMCRxWOOX64Z8RAC4oCXdklmEvcL8o0BfkNK4lUg9HTl+oPlQxdNo3Mg4Nv175e/1LDGzZen30MEjRUtmXSfiTVu1kK8W4txyV6BMKlbgk3lMwYCiusNy9fVfvvwMxv8Ynl6vxoByANLTWplvuj/nF9m2+PDtt1eiHPBr1oIfhCChQMBw6Aw0UulqTKZdfVvfG7VcfIqLG9bcldL/+pdWTLxLUy8Qq38heUIjh4XlzZxzQm19lLFlr8vdQ97rjZVOLf8nclzckbcD4wxXMidpX30sFd37Fv/GtwwhzhxGVAprjbg0gCAEeIgwCZyTV2Z1REEW8O4py0wsjeloKoMr6iCY6dP92H6Vw/oTyICIthibxjm/DfN9lVz8IqtqKYLUXfoKVMVQVVJOElGjrnnUt9T9wbgp8AyYKaGlqingHZU/uG2NTZSVqwHQTWkx9hxjkpWDaCg6Ckj5qebgBVbT3V3NNXMSiWSDdGV3hrtzla7J+duwPOToIg42ChPQOQjspnSlp1V+Gjdged7+8UN5CRAV7a5EdFNwCjEaBR27b3W890TE7g24NAP/mMDXRWrGoFPQI9ls/MWO2dWFAar/xcOIImbbpA3zgAAAABJRU5ErkJggg==);\n",
       "        }\n",
       "    </style>\n",
       "    <div>\n",
       "        <a href=\"https://bokeh.org\" target=\"_blank\" class=\"bk-notebook-logo\"></a>\n",
       "        <span id=\"p1001\">Loading BokehJS ...</span>\n",
       "    </div>\n"
      ]
     },
     "metadata": {},
     "output_type": "display_data"
    },
    {
     "data": {
      "application/javascript": [
       "(function(root) {\n",
       "  function now() {\n",
       "    return new Date();\n",
       "  }\n",
       "\n",
       "  const force = true;\n",
       "\n",
       "  if (typeof root._bokeh_onload_callbacks === \"undefined\" || force === true) {\n",
       "    root._bokeh_onload_callbacks = [];\n",
       "    root._bokeh_is_loading = undefined;\n",
       "  }\n",
       "\n",
       "const JS_MIME_TYPE = 'application/javascript';\n",
       "  const HTML_MIME_TYPE = 'text/html';\n",
       "  const EXEC_MIME_TYPE = 'application/vnd.bokehjs_exec.v0+json';\n",
       "  const CLASS_NAME = 'output_bokeh rendered_html';\n",
       "\n",
       "  /**\n",
       "   * Render data to the DOM node\n",
       "   */\n",
       "  function render(props, node) {\n",
       "    const script = document.createElement(\"script\");\n",
       "    node.appendChild(script);\n",
       "  }\n",
       "\n",
       "  /**\n",
       "   * Handle when an output is cleared or removed\n",
       "   */\n",
       "  function handleClearOutput(event, handle) {\n",
       "    const cell = handle.cell;\n",
       "\n",
       "    const id = cell.output_area._bokeh_element_id;\n",
       "    const server_id = cell.output_area._bokeh_server_id;\n",
       "    // Clean up Bokeh references\n",
       "    if (id != null && id in Bokeh.index) {\n",
       "      Bokeh.index[id].model.document.clear();\n",
       "      delete Bokeh.index[id];\n",
       "    }\n",
       "\n",
       "    if (server_id !== undefined) {\n",
       "      // Clean up Bokeh references\n",
       "      const cmd_clean = \"from bokeh.io.state import curstate; print(curstate().uuid_to_server['\" + server_id + \"'].get_sessions()[0].document.roots[0]._id)\";\n",
       "      cell.notebook.kernel.execute(cmd_clean, {\n",
       "        iopub: {\n",
       "          output: function(msg) {\n",
       "            const id = msg.content.text.trim();\n",
       "            if (id in Bokeh.index) {\n",
       "              Bokeh.index[id].model.document.clear();\n",
       "              delete Bokeh.index[id];\n",
       "            }\n",
       "          }\n",
       "        }\n",
       "      });\n",
       "      // Destroy server and session\n",
       "      const cmd_destroy = \"import bokeh.io.notebook as ion; ion.destroy_server('\" + server_id + \"')\";\n",
       "      cell.notebook.kernel.execute(cmd_destroy);\n",
       "    }\n",
       "  }\n",
       "\n",
       "  /**\n",
       "   * Handle when a new output is added\n",
       "   */\n",
       "  function handleAddOutput(event, handle) {\n",
       "    const output_area = handle.output_area;\n",
       "    const output = handle.output;\n",
       "\n",
       "    // limit handleAddOutput to display_data with EXEC_MIME_TYPE content only\n",
       "    if ((output.output_type != \"display_data\") || (!Object.prototype.hasOwnProperty.call(output.data, EXEC_MIME_TYPE))) {\n",
       "      return\n",
       "    }\n",
       "\n",
       "    const toinsert = output_area.element.find(\".\" + CLASS_NAME.split(' ')[0]);\n",
       "\n",
       "    if (output.metadata[EXEC_MIME_TYPE][\"id\"] !== undefined) {\n",
       "      toinsert[toinsert.length - 1].firstChild.textContent = output.data[JS_MIME_TYPE];\n",
       "      // store reference to embed id on output_area\n",
       "      output_area._bokeh_element_id = output.metadata[EXEC_MIME_TYPE][\"id\"];\n",
       "    }\n",
       "    if (output.metadata[EXEC_MIME_TYPE][\"server_id\"] !== undefined) {\n",
       "      const bk_div = document.createElement(\"div\");\n",
       "      bk_div.innerHTML = output.data[HTML_MIME_TYPE];\n",
       "      const script_attrs = bk_div.children[0].attributes;\n",
       "      for (let i = 0; i < script_attrs.length; i++) {\n",
       "        toinsert[toinsert.length - 1].firstChild.setAttribute(script_attrs[i].name, script_attrs[i].value);\n",
       "        toinsert[toinsert.length - 1].firstChild.textContent = bk_div.children[0].textContent\n",
       "      }\n",
       "      // store reference to server id on output_area\n",
       "      output_area._bokeh_server_id = output.metadata[EXEC_MIME_TYPE][\"server_id\"];\n",
       "    }\n",
       "  }\n",
       "\n",
       "  function register_renderer(events, OutputArea) {\n",
       "\n",
       "    function append_mime(data, metadata, element) {\n",
       "      // create a DOM node to render to\n",
       "      const toinsert = this.create_output_subarea(\n",
       "        metadata,\n",
       "        CLASS_NAME,\n",
       "        EXEC_MIME_TYPE\n",
       "      );\n",
       "      this.keyboard_manager.register_events(toinsert);\n",
       "      // Render to node\n",
       "      const props = {data: data, metadata: metadata[EXEC_MIME_TYPE]};\n",
       "      render(props, toinsert[toinsert.length - 1]);\n",
       "      element.append(toinsert);\n",
       "      return toinsert\n",
       "    }\n",
       "\n",
       "    /* Handle when an output is cleared or removed */\n",
       "    events.on('clear_output.CodeCell', handleClearOutput);\n",
       "    events.on('delete.Cell', handleClearOutput);\n",
       "\n",
       "    /* Handle when a new output is added */\n",
       "    events.on('output_added.OutputArea', handleAddOutput);\n",
       "\n",
       "    /**\n",
       "     * Register the mime type and append_mime function with output_area\n",
       "     */\n",
       "    OutputArea.prototype.register_mime_type(EXEC_MIME_TYPE, append_mime, {\n",
       "      /* Is output safe? */\n",
       "      safe: true,\n",
       "      /* Index of renderer in `output_area.display_order` */\n",
       "      index: 0\n",
       "    });\n",
       "  }\n",
       "\n",
       "  // register the mime type if in Jupyter Notebook environment and previously unregistered\n",
       "  if (root.Jupyter !== undefined) {\n",
       "    const events = require('base/js/events');\n",
       "    const OutputArea = require('notebook/js/outputarea').OutputArea;\n",
       "\n",
       "    if (OutputArea.prototype.mime_types().indexOf(EXEC_MIME_TYPE) == -1) {\n",
       "      register_renderer(events, OutputArea);\n",
       "    }\n",
       "  }\n",
       "  if (typeof (root._bokeh_timeout) === \"undefined\" || force === true) {\n",
       "    root._bokeh_timeout = Date.now() + 5000;\n",
       "    root._bokeh_failed_load = false;\n",
       "  }\n",
       "\n",
       "  const NB_LOAD_WARNING = {'data': {'text/html':\n",
       "     \"<div style='background-color: #fdd'>\\n\"+\n",
       "     \"<p>\\n\"+\n",
       "     \"BokehJS does not appear to have successfully loaded. If loading BokehJS from CDN, this \\n\"+\n",
       "     \"may be due to a slow or bad network connection. Possible fixes:\\n\"+\n",
       "     \"</p>\\n\"+\n",
       "     \"<ul>\\n\"+\n",
       "     \"<li>re-rerun `output_notebook()` to attempt to load from CDN again, or</li>\\n\"+\n",
       "     \"<li>use INLINE resources instead, as so:</li>\\n\"+\n",
       "     \"</ul>\\n\"+\n",
       "     \"<code>\\n\"+\n",
       "     \"from bokeh.resources import INLINE\\n\"+\n",
       "     \"output_notebook(resources=INLINE)\\n\"+\n",
       "     \"</code>\\n\"+\n",
       "     \"</div>\"}};\n",
       "\n",
       "  function display_loaded() {\n",
       "    const el = document.getElementById(\"p1001\");\n",
       "    if (el != null) {\n",
       "      el.textContent = \"BokehJS is loading...\";\n",
       "    }\n",
       "    if (root.Bokeh !== undefined) {\n",
       "      if (el != null) {\n",
       "        el.textContent = \"BokehJS \" + root.Bokeh.version + \" successfully loaded.\";\n",
       "      }\n",
       "    } else if (Date.now() < root._bokeh_timeout) {\n",
       "      setTimeout(display_loaded, 100)\n",
       "    }\n",
       "  }\n",
       "\n",
       "  function run_callbacks() {\n",
       "    try {\n",
       "      root._bokeh_onload_callbacks.forEach(function(callback) {\n",
       "        if (callback != null)\n",
       "          callback();\n",
       "      });\n",
       "    } finally {\n",
       "      delete root._bokeh_onload_callbacks\n",
       "    }\n",
       "    console.debug(\"Bokeh: all callbacks have finished\");\n",
       "  }\n",
       "\n",
       "  function load_libs(css_urls, js_urls, callback) {\n",
       "    if (css_urls == null) css_urls = [];\n",
       "    if (js_urls == null) js_urls = [];\n",
       "\n",
       "    root._bokeh_onload_callbacks.push(callback);\n",
       "    if (root._bokeh_is_loading > 0) {\n",
       "      console.debug(\"Bokeh: BokehJS is being loaded, scheduling callback at\", now());\n",
       "      return null;\n",
       "    }\n",
       "    if (js_urls == null || js_urls.length === 0) {\n",
       "      run_callbacks();\n",
       "      return null;\n",
       "    }\n",
       "    console.debug(\"Bokeh: BokehJS not loaded, scheduling load and callback at\", now());\n",
       "    root._bokeh_is_loading = css_urls.length + js_urls.length;\n",
       "\n",
       "    function on_load() {\n",
       "      root._bokeh_is_loading--;\n",
       "      if (root._bokeh_is_loading === 0) {\n",
       "        console.debug(\"Bokeh: all BokehJS libraries/stylesheets loaded\");\n",
       "        run_callbacks()\n",
       "      }\n",
       "    }\n",
       "\n",
       "    function on_error(url) {\n",
       "      console.error(\"failed to load \" + url);\n",
       "    }\n",
       "\n",
       "    for (let i = 0; i < css_urls.length; i++) {\n",
       "      const url = css_urls[i];\n",
       "      const element = document.createElement(\"link\");\n",
       "      element.onload = on_load;\n",
       "      element.onerror = on_error.bind(null, url);\n",
       "      element.rel = \"stylesheet\";\n",
       "      element.type = \"text/css\";\n",
       "      element.href = url;\n",
       "      console.debug(\"Bokeh: injecting link tag for BokehJS stylesheet: \", url);\n",
       "      document.body.appendChild(element);\n",
       "    }\n",
       "\n",
       "    for (let i = 0; i < js_urls.length; i++) {\n",
       "      const url = js_urls[i];\n",
       "      const element = document.createElement('script');\n",
       "      element.onload = on_load;\n",
       "      element.onerror = on_error.bind(null, url);\n",
       "      element.async = false;\n",
       "      element.src = url;\n",
       "      console.debug(\"Bokeh: injecting script tag for BokehJS library: \", url);\n",
       "      document.head.appendChild(element);\n",
       "    }\n",
       "  };\n",
       "\n",
       "  function inject_raw_css(css) {\n",
       "    const element = document.createElement(\"style\");\n",
       "    element.appendChild(document.createTextNode(css));\n",
       "    document.body.appendChild(element);\n",
       "  }\n",
       "\n",
       "  const js_urls = [\"https://cdn.bokeh.org/bokeh/release/bokeh-3.0.3.min.js\", \"https://cdn.bokeh.org/bokeh/release/bokeh-gl-3.0.3.min.js\", \"https://cdn.bokeh.org/bokeh/release/bokeh-widgets-3.0.3.min.js\", \"https://cdn.bokeh.org/bokeh/release/bokeh-tables-3.0.3.min.js\", \"https://cdn.bokeh.org/bokeh/release/bokeh-mathjax-3.0.3.min.js\"];\n",
       "  const css_urls = [];\n",
       "\n",
       "  const inline_js = [    function(Bokeh) {\n",
       "      Bokeh.set_log_level(\"info\");\n",
       "    },\n",
       "function(Bokeh) {\n",
       "    }\n",
       "  ];\n",
       "\n",
       "  function run_inline_js() {\n",
       "    if (root.Bokeh !== undefined || force === true) {\n",
       "          for (let i = 0; i < inline_js.length; i++) {\n",
       "      inline_js[i].call(root, root.Bokeh);\n",
       "    }\n",
       "if (force === true) {\n",
       "        display_loaded();\n",
       "      }} else if (Date.now() < root._bokeh_timeout) {\n",
       "      setTimeout(run_inline_js, 100);\n",
       "    } else if (!root._bokeh_failed_load) {\n",
       "      console.log(\"Bokeh: BokehJS failed to load within specified timeout.\");\n",
       "      root._bokeh_failed_load = true;\n",
       "    } else if (force !== true) {\n",
       "      const cell = $(document.getElementById(\"p1001\")).parents('.cell').data().cell;\n",
       "      cell.output_area.append_execute_result(NB_LOAD_WARNING)\n",
       "    }\n",
       "  }\n",
       "\n",
       "  if (root._bokeh_is_loading === 0) {\n",
       "    console.debug(\"Bokeh: BokehJS loaded, going straight to plotting\");\n",
       "    run_inline_js();\n",
       "  } else {\n",
       "    load_libs(css_urls, js_urls, function() {\n",
       "      console.debug(\"Bokeh: BokehJS plotting callback run at\", now());\n",
       "      run_inline_js();\n",
       "    });\n",
       "  }\n",
       "}(window));"
      ],
      "application/vnd.bokehjs_load.v0+json": "(function(root) {\n  function now() {\n    return new Date();\n  }\n\n  const force = true;\n\n  if (typeof root._bokeh_onload_callbacks === \"undefined\" || force === true) {\n    root._bokeh_onload_callbacks = [];\n    root._bokeh_is_loading = undefined;\n  }\n\n\n  if (typeof (root._bokeh_timeout) === \"undefined\" || force === true) {\n    root._bokeh_timeout = Date.now() + 5000;\n    root._bokeh_failed_load = false;\n  }\n\n  const NB_LOAD_WARNING = {'data': {'text/html':\n     \"<div style='background-color: #fdd'>\\n\"+\n     \"<p>\\n\"+\n     \"BokehJS does not appear to have successfully loaded. If loading BokehJS from CDN, this \\n\"+\n     \"may be due to a slow or bad network connection. Possible fixes:\\n\"+\n     \"</p>\\n\"+\n     \"<ul>\\n\"+\n     \"<li>re-rerun `output_notebook()` to attempt to load from CDN again, or</li>\\n\"+\n     \"<li>use INLINE resources instead, as so:</li>\\n\"+\n     \"</ul>\\n\"+\n     \"<code>\\n\"+\n     \"from bokeh.resources import INLINE\\n\"+\n     \"output_notebook(resources=INLINE)\\n\"+\n     \"</code>\\n\"+\n     \"</div>\"}};\n\n  function display_loaded() {\n    const el = document.getElementById(\"p1001\");\n    if (el != null) {\n      el.textContent = \"BokehJS is loading...\";\n    }\n    if (root.Bokeh !== undefined) {\n      if (el != null) {\n        el.textContent = \"BokehJS \" + root.Bokeh.version + \" successfully loaded.\";\n      }\n    } else if (Date.now() < root._bokeh_timeout) {\n      setTimeout(display_loaded, 100)\n    }\n  }\n\n  function run_callbacks() {\n    try {\n      root._bokeh_onload_callbacks.forEach(function(callback) {\n        if (callback != null)\n          callback();\n      });\n    } finally {\n      delete root._bokeh_onload_callbacks\n    }\n    console.debug(\"Bokeh: all callbacks have finished\");\n  }\n\n  function load_libs(css_urls, js_urls, callback) {\n    if (css_urls == null) css_urls = [];\n    if (js_urls == null) js_urls = [];\n\n    root._bokeh_onload_callbacks.push(callback);\n    if (root._bokeh_is_loading > 0) {\n      console.debug(\"Bokeh: BokehJS is being loaded, scheduling callback at\", now());\n      return null;\n    }\n    if (js_urls == null || js_urls.length === 0) {\n      run_callbacks();\n      return null;\n    }\n    console.debug(\"Bokeh: BokehJS not loaded, scheduling load and callback at\", now());\n    root._bokeh_is_loading = css_urls.length + js_urls.length;\n\n    function on_load() {\n      root._bokeh_is_loading--;\n      if (root._bokeh_is_loading === 0) {\n        console.debug(\"Bokeh: all BokehJS libraries/stylesheets loaded\");\n        run_callbacks()\n      }\n    }\n\n    function on_error(url) {\n      console.error(\"failed to load \" + url);\n    }\n\n    for (let i = 0; i < css_urls.length; i++) {\n      const url = css_urls[i];\n      const element = document.createElement(\"link\");\n      element.onload = on_load;\n      element.onerror = on_error.bind(null, url);\n      element.rel = \"stylesheet\";\n      element.type = \"text/css\";\n      element.href = url;\n      console.debug(\"Bokeh: injecting link tag for BokehJS stylesheet: \", url);\n      document.body.appendChild(element);\n    }\n\n    for (let i = 0; i < js_urls.length; i++) {\n      const url = js_urls[i];\n      const element = document.createElement('script');\n      element.onload = on_load;\n      element.onerror = on_error.bind(null, url);\n      element.async = false;\n      element.src = url;\n      console.debug(\"Bokeh: injecting script tag for BokehJS library: \", url);\n      document.head.appendChild(element);\n    }\n  };\n\n  function inject_raw_css(css) {\n    const element = document.createElement(\"style\");\n    element.appendChild(document.createTextNode(css));\n    document.body.appendChild(element);\n  }\n\n  const js_urls = [\"https://cdn.bokeh.org/bokeh/release/bokeh-3.0.3.min.js\", \"https://cdn.bokeh.org/bokeh/release/bokeh-gl-3.0.3.min.js\", \"https://cdn.bokeh.org/bokeh/release/bokeh-widgets-3.0.3.min.js\", \"https://cdn.bokeh.org/bokeh/release/bokeh-tables-3.0.3.min.js\", \"https://cdn.bokeh.org/bokeh/release/bokeh-mathjax-3.0.3.min.js\"];\n  const css_urls = [];\n\n  const inline_js = [    function(Bokeh) {\n      Bokeh.set_log_level(\"info\");\n    },\nfunction(Bokeh) {\n    }\n  ];\n\n  function run_inline_js() {\n    if (root.Bokeh !== undefined || force === true) {\n          for (let i = 0; i < inline_js.length; i++) {\n      inline_js[i].call(root, root.Bokeh);\n    }\nif (force === true) {\n        display_loaded();\n      }} else if (Date.now() < root._bokeh_timeout) {\n      setTimeout(run_inline_js, 100);\n    } else if (!root._bokeh_failed_load) {\n      console.log(\"Bokeh: BokehJS failed to load within specified timeout.\");\n      root._bokeh_failed_load = true;\n    } else if (force !== true) {\n      const cell = $(document.getElementById(\"p1001\")).parents('.cell').data().cell;\n      cell.output_area.append_execute_result(NB_LOAD_WARNING)\n    }\n  }\n\n  if (root._bokeh_is_loading === 0) {\n    console.debug(\"Bokeh: BokehJS loaded, going straight to plotting\");\n    run_inline_js();\n  } else {\n    load_libs(css_urls, js_urls, function() {\n      console.debug(\"Bokeh: BokehJS plotting callback run at\", now());\n      run_inline_js();\n    });\n  }\n}(window));"
     },
     "metadata": {},
     "output_type": "display_data"
    }
   ],
   "source": [
    "from bokeh.plotting import figure\n",
    "from bokeh.io import output_notebook\n",
    "from bokeh.io import show as bokeh_show\n",
    "output_notebook()\n"
   ]
  },
  {
   "cell_type": "code",
   "execution_count": 16,
   "metadata": {},
   "outputs": [],
   "source": [
    "prediction_c_sdf = spark.createDataFrame(prediction_c_df)\n",
    "\n",
    "# To see the text representation of a Spark Dataframe try:\n",
    "# prediction_c_sdf.show()"
   ]
  },
  {
   "cell_type": "code",
   "execution_count": null,
   "metadata": {
    "scrolled": false
   },
   "outputs": [],
   "source": [
    "from oarphpy import plotting as pl\n",
    "class MyPlotter(pl.HistogramWithExamplesPlotter):\n",
    "    NUM_BINS = 20\n",
    "    def display_bucket(self, sub_pivot, bucket_id, irows):\n",
    "        MAX_TO_VIZ = 50\n",
    "        \n",
    "        from oarphpy.plotting import img_to_img_tag\n",
    "        htmls = []\n",
    "        for row in irows:\n",
    "            htmls.append(unit_digit_to_img_tag(np.array(row['x_i'])))\n",
    "            \n",
    "            if len(htmls) > MAX_TO_VIZ:\n",
    "                break\n",
    "        \n",
    "        # Make a nice table\n",
    "        N_COLS = 25\n",
    "        from oarphpy.util import ichunked\n",
    "        trs = [\n",
    "            \"<tr>%s</tr>\" % ''.join(\"<td>%s</td>\" % ihtml for ihtml in row)\n",
    "            for row in ichunked(htmls, n=N_COLS) \n",
    "        ]\n",
    "        table_html = \"<table>%s</table>\" % ''.join(trs)\n",
    "        \n",
    "        return bucket_id, table_html\n",
    "\n",
    "plotter = MyPlotter()\n",
    "fig = plotter.run(prediction_c_sdf, 'score_7')\n",
    "bokeh_show(fig)"
   ]
  },
  {
   "cell_type": "code",
   "execution_count": null,
   "metadata": {},
   "outputs": [],
   "source": [
    "fig = plotter.run(spark.createDataFrame(prediction_c_df), 'score_1')\n",
    "bokeh_show(fig)"
   ]
  },
  {
   "cell_type": "markdown",
   "metadata": {},
   "source": [
    "The two figures above examine the model's inferences on the _corrupted_ dataset.  Let's use `HistogramWithExamplesPlotter` to visualize the inference results on the original MNIST dataset to compare:"
   ]
  },
  {
   "cell_type": "code",
   "execution_count": null,
   "metadata": {
    "scrolled": false
   },
   "outputs": [],
   "source": [
    "fig = plotter.run(spark.createDataFrame(prediction_df), 'score_7')\n",
    "bokeh_show(fig)"
   ]
  },
  {
   "cell_type": "markdown",
   "metadata": {},
   "source": [
    "For more examples of `HistogramWithExamplesPlotter`, see these rendered HTML pages: https://drive.google.com/drive/folders/1dOmkPvdFiGBMaYEddx1KK5vmCeYl2CyV?usp=sharing "
   ]
  },
  {
   "cell_type": "code",
   "execution_count": null,
   "metadata": {},
   "outputs": [],
   "source": []
  },
  {
   "cell_type": "code",
   "execution_count": null,
   "metadata": {},
   "outputs": [],
   "source": []
  }
 ],
 "metadata": {
  "kernelspec": {
   "display_name": "Python 3 (ipykernel)",
   "language": "python",
   "name": "python3"
  },
  "language_info": {
   "codemirror_mode": {
    "name": "ipython",
    "version": 3
   },
   "file_extension": ".py",
   "mimetype": "text/x-python",
   "name": "python",
   "nbconvert_exporter": "python",
   "pygments_lexer": "ipython3",
   "version": "3.10.6"
  }
 },
 "nbformat": 4,
 "nbformat_minor": 4
}
