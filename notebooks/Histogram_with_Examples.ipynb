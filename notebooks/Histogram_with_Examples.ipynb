{
 "cells": [
  {
   "cell_type": "markdown",
   "metadata": {},
   "source": [
    "# Histograms with Examples\n",
    "_Peering inside Histogram Bins with Spark and Bokeh_\n",
    "\n",
    "<img src=\"https://github.com/pwais/oarphpy/blob/master/notebooks/hist-with-examples-diag.jpg?raw=true\" alt=\"hist-with-examples\" />\n",
    "\n",
    "A histogram is one of the most effective tools for exploring a new dataset.  In one graph, a histogram displays key information about the data's mean, variance, outliers, and periodic features.  Histograms are so important than several libraries make histogramming extremely easy:\n",
    " * In [Pandas](https://pandas.pydata.org/docs/reference/api/pandas.DataFrame.hist.html), the user can immediately plot a histogram from a Dataframe in a Jupyter notebook with a single function call.\n",
    " * [Tensorboard](https://github.com/tensorflow/tensorboard/blob/master/docs/r1/histograms.md) features a powerful temporal histogramming tool that can be critical for monitoring the weights of neural networks during training and debugging high-dimensional optimization problems.\n",
    " * [Bokeh](https://demo.bokeh.org/selection_histogram) provides a web-based histogram plotter with interactive tools and a nice Python API.\n",
    "\n",
    "Histogram plots are often both surprising and boring: some bins have more items than expected, some bins have fewer, and a lot of bins are empty.  It's not unreasonable to immediately want to ask: can we peer inside a bin?  Which examples from my dataset are actually in there?  And, since this histogram only shows one dimension of the data, what might be some other dimensions or factors that are common among most of the things in that bin?\n",
    "\n",
    "This tutorial will show you how OarphPy's `HistogramWithExamplesPlotter` helps you do exactly that!  What do you need?\n",
    " 1. A DataFrame (Pandas or Spark) with at least one numeric or categorical column.\n",
    " 2. A Python function for visualizing a row (or some portion of a row).  For example, a function to convert a row to a pretty string or HTML visualization.\n",
    " 3. A Jupyter Notebook (like this one!) or a Python script to render the Bokeh HTML plot and display and/or save it to disk.\n",
    "\n",
    "Why `HistogramWithExamplesPlotter` ?\n",
    " * We'll use Spark to compute the actual histogram.  Spark provides multi-cpu (and even multi-machine) processing to make histogramming scale linearly.\n",
    " * We'll also use Spark to render visualizations for the bucket items.  Spark's RDD API helps accomodate arbitrary user visualization functions and runs computation in parallel (even across many machines).\n",
    " * We use Bokeh's Histogram tool because it supports the simple interactivity we need (click on a bucket to view examples) and plots work in any modern browser with no extra dependencies.\n",
    "\n"
   ]
  },
  {
   "cell_type": "markdown",
   "metadata": {},
   "source": [
    "## Notebook Setup\n",
    "\n",
    "To run this notebook locally, try using the `oarphpy/full` dockerized environment:\n",
    "\n",
    "```docker run -it --rm --net=host oarphpy/full:0.1.1 jupyter notebook --allow-root --ip=\"*\"```\n",
    "\n",
    "If you can't run the notebook locally, find an HTML-rendered copy [here](https://drive.google.com/file/d/1-uWxGQ7mrcY8aZMmBDc5AlV4kQAPLntR/view?usp=sharing)."
   ]
  },
  {
   "cell_type": "code",
   "execution_count": 1,
   "metadata": {},
   "outputs": [],
   "source": [
    "import os\n",
    "import sys\n",
    "if 'google.colab' in sys.modules:\n",
    "    !pip install oarphpy[spark]==0.1.1\n",
    "    !pip install pyspark==3.3.2\n",
    "    !apt-get update && apt-get install -y openjdk-11-jdk\n",
    "    os.environ['JAVA_HOME'] = '/usr/lib/jvm/java-11-openjdk-amd64'"
   ]
  },
  {
   "cell_type": "markdown",
   "metadata": {},
   "source": [
    "## A Motivating Example: Exploring Out-of-Distribution Robustness in MNIST\n",
    "\n",
    "<img src=\"https://miro.medium.com/max/3744/1*SGPGG7oeSvVlV5sOSQ2iZw.png\" width=\"600\" />\n",
    "<center>An MNIST example input fed into a LeNet Network</center>\n",
    "\n",
    "\n",
    "The [MNIST](https://en.wikipedia.org/wiki/MNIST_database) dataset is well-studied in Computer Vision and consists of thousands of small pictures of hand-written digits.  (New to MNIST? Suppose you're the Post Office and you want to train a Computer Vision model that can read the zipcode digits that people write on their mail.  MNIST has a sample of such handwritten digits).  Today, it's easy to train a convolutional neural network on MNIST and achieve over 98% accuracy.  We're going to do exactly that in the next notebook cell!  \n",
    "\n",
    "But MNIST is a relatively small dataset versus all the digits people have ever written on paper.  How robust is a trained MNIST model to new data?  What if we don't have labels for that new data?  In this tutorial, we're going to use `HistogramWithExamplesPlotter` to examine the scores that an MNIST-trained model gives to \"corrupted\" data never seen at training time.\n",
    "\n",
    "First, let's train a basic MNIST model using Pytorch:"
   ]
  },
  {
   "cell_type": "code",
   "execution_count": 2,
   "metadata": {
    "scrolled": false
   },
   "outputs": [
    {
     "name": "stdout",
     "output_type": "stream",
     "text": [
      "Using pip 23.0.1 from /usr/local/lib/python3.10/dist-packages/pip (python 3.10)\n",
      "Requirement already satisfied: tqdm in /usr/local/lib/python3.10/dist-packages (4.65.0)\n",
      "Requirement already satisfied: torch in /usr/lib/python3/dist-packages (1.13.1)\n",
      "\u001b[33mWARNING: Running pip as the 'root' user can result in broken permissions and conflicting behaviour with the system package manager. It is recommended to use a virtual environment instead: https://pip.pypa.io/warnings/venv\u001b[0m\u001b[33m\n",
      "\u001b[0m"
     ]
    }
   ],
   "source": [
    "!pip install -v tqdm torch"
   ]
  },
  {
   "cell_type": "code",
   "execution_count": 3,
   "metadata": {
    "scrolled": false
   },
   "outputs": [
    {
     "name": "stdout",
     "output_type": "stream",
     "text": [
      "Resuming from existing checkpoint /opt/mnist_cnn.pt\n",
      "To re-train, delete the checkpoint: $ rm /opt/mnist_cnn.pt\n"
     ]
    }
   ],
   "source": [
    "# Basic MNIST ConvNet c/o Pytorch (with some small modifications noted)\n",
    "# https://github.com/pytorch/examples/blob/40289773aa4916fad0d50967917b3ae8aa534fd6/mnist/main.py#L1\n",
    "\n",
    "model_ckpt = '/opt/mnist_cnn.pt'\n",
    "\n",
    "import os\n",
    "import torch\n",
    "import torch.nn as nn\n",
    "import torch.nn.functional as F\n",
    "import torch.optim as optim\n",
    "from torchvision import datasets, transforms\n",
    "from torch.optim.lr_scheduler import StepLR\n",
    "from tqdm.notebook import tqdm\n",
    "\n",
    "torch.manual_seed(1337)\n",
    "if 'google.colab' in sys.modules:\n",
    "    DEVICE = 'cuda'\n",
    "else:\n",
    "    DEVICE = 'cpu'\n",
    "\n",
    "# We need this many epochs to get a nice bimodal score distribution for the 7 class\n",
    "N_EPOCHS = 15\n",
    "\n",
    "class Net(nn.Module):\n",
    "    def __init__(self):\n",
    "        super(Net, self).__init__()\n",
    "        self.conv1 = nn.Conv2d(1, 32, 3, 1)\n",
    "        self.conv2 = nn.Conv2d(32, 64, 3, 1)\n",
    "        self.dropout1 = nn.Dropout(0.25)\n",
    "        self.dropout2 = nn.Dropout(0.5)\n",
    "        self.fc1 = nn.Linear(9216, 128)\n",
    "        self.fc2 = nn.Linear(128, 10)\n",
    "\n",
    "    def forward(self, x):\n",
    "        x = self.conv1(x)\n",
    "        x = F.relu(x)\n",
    "        x = self.conv2(x)\n",
    "        x = F.relu(x)\n",
    "        x = F.max_pool2d(x, 2)\n",
    "        x = self.dropout1(x)\n",
    "        x = torch.flatten(x, 1)\n",
    "        x = self.fc1(x)\n",
    "        x = F.relu(x)\n",
    "        x = self.dropout2(x)\n",
    "        x = self.fc2(x)\n",
    "        \n",
    "        # Use softmax instead for easier interpretation of logits\n",
    "        # output = F.log_softmax(x, dim=1)\n",
    "        output = F.softmax(x, dim=1)\n",
    "\n",
    "        return output\n",
    "    \n",
    "def train(model, train_loader, optimizer, epoch):\n",
    "    model.train()\n",
    "    iter_train = tqdm(enumerate(train_loader), desc='train_batches', total=len(train_loader))\n",
    "    for batch_idx, (data, target) in iter_train:\n",
    "        data, target = data.to(DEVICE), target.to(DEVICE)\n",
    "        optimizer.zero_grad()\n",
    "        output = model(data)\n",
    "        \n",
    "        # Push log into the loss instead of net output\n",
    "        #loss = F.nll_loss(output, target)\n",
    "        loss = F.nll_loss(torch.log(output), target)\n",
    "        \n",
    "        loss.backward()\n",
    "        optimizer.step()\n",
    "    print('Train Epoch: {} [{}/{} ({:.0f}%)]\\tLoss: {:.6f}'.format(\n",
    "        epoch, batch_idx * len(data), len(train_loader.dataset),\n",
    "        100. * batch_idx / len(train_loader), loss.item()))\n",
    "\n",
    "def test(model, test_loader):\n",
    "    model.eval()\n",
    "    test_loss = 0\n",
    "    correct = 0\n",
    "    with torch.no_grad():\n",
    "        iter_test = tqdm(test_loader, desc='test_batches', total=len(test_loader))\n",
    "        for data, target in iter_test:\n",
    "            data, target = data.to(DEVICE), target.to(DEVICE)\n",
    "            output = model(data)\n",
    "            test_loss += F.nll_loss(output, target, reduction='sum').item()\n",
    "            pred = output.argmax(dim=1, keepdim=True)\n",
    "            correct += pred.eq(target.view_as(pred)).sum().item()\n",
    "\n",
    "    test_loss /= len(test_loader.dataset)\n",
    "\n",
    "    print('\\nTest set: Average loss: {:.4f}, Accuracy: {}/{} ({:.0f}%)\\n'.format(\n",
    "        test_loss, correct, len(test_loader.dataset),\n",
    "        100. * correct / len(test_loader.dataset)))\n",
    "\n",
    "\n",
    "train_kwargs = {'batch_size': 128}\n",
    "test_kwargs = {'batch_size': 1024}\n",
    "    \n",
    "transform = transforms.Compose([\n",
    "    transforms.ToTensor(),\n",
    "#     transforms.Normalize((0.1307,), (0.3081,))\n",
    "])\n",
    "dataset1 = datasets.MNIST('/opt/mnist-data', train=True, download=True, transform=transform)\n",
    "dataset2 = datasets.MNIST('/opt/mnist-data', train=False, transform=transform)\n",
    "train_loader = torch.utils.data.DataLoader(dataset1, **train_kwargs)\n",
    "test_loader = torch.utils.data.DataLoader(dataset2, **test_kwargs)\n",
    "\n",
    "model = Net().to(DEVICE)\n",
    "optimizer = optim.Adadelta(model.parameters(), lr=1.0)\n",
    "\n",
    "scheduler = StepLR(optimizer, step_size=1, gamma=0.7)\n",
    "\n",
    "if os.path.exists(model_ckpt):\n",
    "    print(f\"Resuming from existing checkpoint {model_ckpt}\")\n",
    "    print(f\"To re-train, delete the checkpoint: $ rm {model_ckpt}\")\n",
    "    model.load_state_dict(torch.load(model_ckpt))\n",
    "else:\n",
    "    print(f\"Training and saving to {model_ckpt}\")\n",
    "\n",
    "    for epoch in tqdm(range(1, N_EPOCHS + 1), desc='epoch'):\n",
    "        train(model, train_loader, optimizer, epoch)\n",
    "        test(model, test_loader)\n",
    "        scheduler.step()\n",
    "\n",
    "\n",
    "    torch.save(model.state_dict(), model_ckpt)\n",
    "\n",
    "x_test = torch.cat([xx[0] for xx in test_loader])\n",
    "\n",
    "def model_predict(x):\n",
    "    model.cpu().eval()\n",
    "    with torch.no_grad():\n",
    "        prob = model(x)\n",
    "        pred = prob.argmax(dim=1, keepdim=True)\n",
    "    return prob, pred\n",
    "\n"
   ]
  },
  {
   "cell_type": "markdown",
   "metadata": {},
   "source": [
    "Now, let's run the trained model on the test set and pack the predictions into a Pandas DataFrame.  For each input, the network outputs a score for each class (the numbers 0 through 9).  We'll take a look at the raw network scores for the class \"7,\" which is easy to confused for a \"1\". "
   ]
  },
  {
   "cell_type": "code",
   "execution_count": 4,
   "metadata": {},
   "outputs": [
    {
     "data": {
      "text/html": [
       "<div>\n",
       "<style scoped>\n",
       "    .dataframe tbody tr th:only-of-type {\n",
       "        vertical-align: middle;\n",
       "    }\n",
       "\n",
       "    .dataframe tbody tr th {\n",
       "        vertical-align: top;\n",
       "    }\n",
       "\n",
       "    .dataframe thead th {\n",
       "        text-align: right;\n",
       "    }\n",
       "</style>\n",
       "<table border=\"1\" class=\"dataframe\">\n",
       "  <thead>\n",
       "    <tr style=\"text-align: right;\">\n",
       "      <th></th>\n",
       "      <th>score_0</th>\n",
       "      <th>score_1</th>\n",
       "      <th>score_2</th>\n",
       "      <th>score_3</th>\n",
       "      <th>score_4</th>\n",
       "      <th>score_5</th>\n",
       "      <th>score_6</th>\n",
       "      <th>score_7</th>\n",
       "      <th>score_8</th>\n",
       "      <th>score_9</th>\n",
       "      <th>x_i</th>\n",
       "    </tr>\n",
       "  </thead>\n",
       "  <tbody>\n",
       "    <tr>\n",
       "      <th>0</th>\n",
       "      <td>1.666295e-12</td>\n",
       "      <td>9.708602e-11</td>\n",
       "      <td>1.020098e-08</td>\n",
       "      <td>1.268901e-09</td>\n",
       "      <td>4.895701e-12</td>\n",
       "      <td>1.794280e-12</td>\n",
       "      <td>4.720299e-15</td>\n",
       "      <td>1.000000e+00</td>\n",
       "      <td>9.185045e-12</td>\n",
       "      <td>4.956310e-09</td>\n",
       "      <td>[[0.0, 0.0, 0.0, 0.0, 0.0, 0.0, 0.0, 0.0, 0.0,...</td>\n",
       "    </tr>\n",
       "    <tr>\n",
       "      <th>1</th>\n",
       "      <td>6.385335e-08</td>\n",
       "      <td>1.281082e-06</td>\n",
       "      <td>9.999985e-01</td>\n",
       "      <td>4.398146e-10</td>\n",
       "      <td>7.451101e-12</td>\n",
       "      <td>7.687796e-13</td>\n",
       "      <td>1.296026e-07</td>\n",
       "      <td>7.235867e-11</td>\n",
       "      <td>1.650108e-09</td>\n",
       "      <td>9.231881e-14</td>\n",
       "      <td>[[0.0, 0.0, 0.0, 0.0, 0.0, 0.0, 0.0, 0.0, 0.0,...</td>\n",
       "    </tr>\n",
       "    <tr>\n",
       "      <th>2</th>\n",
       "      <td>2.790225e-08</td>\n",
       "      <td>9.999918e-01</td>\n",
       "      <td>2.045216e-07</td>\n",
       "      <td>6.124344e-09</td>\n",
       "      <td>3.181621e-06</td>\n",
       "      <td>9.231777e-08</td>\n",
       "      <td>5.492074e-07</td>\n",
       "      <td>4.090763e-06</td>\n",
       "      <td>1.358098e-07</td>\n",
       "      <td>4.678723e-08</td>\n",
       "      <td>[[0.0, 0.0, 0.0, 0.0, 0.0, 0.0, 0.0, 0.0, 0.0,...</td>\n",
       "    </tr>\n",
       "    <tr>\n",
       "      <th>3</th>\n",
       "      <td>9.999950e-01</td>\n",
       "      <td>3.951097e-08</td>\n",
       "      <td>1.086515e-06</td>\n",
       "      <td>3.036769e-09</td>\n",
       "      <td>1.050577e-08</td>\n",
       "      <td>1.097534e-08</td>\n",
       "      <td>3.404809e-06</td>\n",
       "      <td>1.830841e-07</td>\n",
       "      <td>6.096547e-08</td>\n",
       "      <td>9.567390e-08</td>\n",
       "      <td>[[0.0, 0.0, 0.0, 0.0, 0.0, 0.0, 0.0, 0.0, 0.0,...</td>\n",
       "    </tr>\n",
       "    <tr>\n",
       "      <th>4</th>\n",
       "      <td>2.000482e-08</td>\n",
       "      <td>2.379246e-08</td>\n",
       "      <td>4.107488e-08</td>\n",
       "      <td>1.893190e-10</td>\n",
       "      <td>9.999777e-01</td>\n",
       "      <td>7.419485e-10</td>\n",
       "      <td>4.249667e-08</td>\n",
       "      <td>1.387315e-08</td>\n",
       "      <td>3.220784e-08</td>\n",
       "      <td>2.214572e-05</td>\n",
       "      <td>[[0.0, 0.0, 0.0, 0.0, 0.0, 0.0, 0.0, 0.0, 0.0,...</td>\n",
       "    </tr>\n",
       "    <tr>\n",
       "      <th>...</th>\n",
       "      <td>...</td>\n",
       "      <td>...</td>\n",
       "      <td>...</td>\n",
       "      <td>...</td>\n",
       "      <td>...</td>\n",
       "      <td>...</td>\n",
       "      <td>...</td>\n",
       "      <td>...</td>\n",
       "      <td>...</td>\n",
       "      <td>...</td>\n",
       "      <td>...</td>\n",
       "    </tr>\n",
       "    <tr>\n",
       "      <th>9995</th>\n",
       "      <td>9.127882e-12</td>\n",
       "      <td>8.512246e-08</td>\n",
       "      <td>9.999999e-01</td>\n",
       "      <td>5.384519e-09</td>\n",
       "      <td>2.463138e-14</td>\n",
       "      <td>4.580554e-15</td>\n",
       "      <td>2.152786e-13</td>\n",
       "      <td>1.736553e-08</td>\n",
       "      <td>8.733217e-10</td>\n",
       "      <td>3.547919e-15</td>\n",
       "      <td>[[0.0, 0.0, 0.0, 0.0, 0.0, 0.0, 0.0, 0.0, 0.0,...</td>\n",
       "    </tr>\n",
       "    <tr>\n",
       "      <th>9996</th>\n",
       "      <td>6.531591e-10</td>\n",
       "      <td>2.936270e-09</td>\n",
       "      <td>1.257551e-08</td>\n",
       "      <td>9.999963e-01</td>\n",
       "      <td>1.990298e-11</td>\n",
       "      <td>3.600434e-06</td>\n",
       "      <td>3.078520e-11</td>\n",
       "      <td>4.383115e-09</td>\n",
       "      <td>1.216664e-09</td>\n",
       "      <td>6.073076e-08</td>\n",
       "      <td>[[0.0, 0.0, 0.0, 0.0, 0.0, 0.0, 0.0, 0.0, 0.0,...</td>\n",
       "    </tr>\n",
       "    <tr>\n",
       "      <th>9997</th>\n",
       "      <td>1.076957e-14</td>\n",
       "      <td>7.316457e-10</td>\n",
       "      <td>1.751892e-13</td>\n",
       "      <td>6.589362e-14</td>\n",
       "      <td>1.000000e+00</td>\n",
       "      <td>3.043836e-12</td>\n",
       "      <td>1.105804e-11</td>\n",
       "      <td>2.092271e-09</td>\n",
       "      <td>4.008249e-09</td>\n",
       "      <td>1.101974e-08</td>\n",
       "      <td>[[0.0, 0.0, 0.0, 0.0, 0.0, 0.0, 0.0, 0.0, 0.0,...</td>\n",
       "    </tr>\n",
       "    <tr>\n",
       "      <th>9998</th>\n",
       "      <td>7.055724e-13</td>\n",
       "      <td>8.388026e-13</td>\n",
       "      <td>3.064934e-14</td>\n",
       "      <td>2.192952e-09</td>\n",
       "      <td>2.058131e-14</td>\n",
       "      <td>9.999999e-01</td>\n",
       "      <td>2.026460e-09</td>\n",
       "      <td>2.115985e-13</td>\n",
       "      <td>8.733659e-08</td>\n",
       "      <td>2.399424e-11</td>\n",
       "      <td>[[0.0, 0.0, 0.0, 0.0, 0.0, 0.0, 0.0, 0.0, 0.0,...</td>\n",
       "    </tr>\n",
       "    <tr>\n",
       "      <th>9999</th>\n",
       "      <td>4.967735e-08</td>\n",
       "      <td>1.283627e-10</td>\n",
       "      <td>2.104551e-08</td>\n",
       "      <td>9.355691e-11</td>\n",
       "      <td>6.125577e-08</td>\n",
       "      <td>5.635767e-08</td>\n",
       "      <td>9.999999e-01</td>\n",
       "      <td>1.621125e-14</td>\n",
       "      <td>3.916712e-09</td>\n",
       "      <td>6.066733e-11</td>\n",
       "      <td>[[0.0, 0.0, 0.0, 0.0, 0.0, 0.0, 0.0, 0.0, 0.0,...</td>\n",
       "    </tr>\n",
       "  </tbody>\n",
       "</table>\n",
       "<p>10000 rows × 11 columns</p>\n",
       "</div>"
      ],
      "text/plain": [
       "           score_0       score_1       score_2       score_3       score_4  \\\n",
       "0     1.666295e-12  9.708602e-11  1.020098e-08  1.268901e-09  4.895701e-12   \n",
       "1     6.385335e-08  1.281082e-06  9.999985e-01  4.398146e-10  7.451101e-12   \n",
       "2     2.790225e-08  9.999918e-01  2.045216e-07  6.124344e-09  3.181621e-06   \n",
       "3     9.999950e-01  3.951097e-08  1.086515e-06  3.036769e-09  1.050577e-08   \n",
       "4     2.000482e-08  2.379246e-08  4.107488e-08  1.893190e-10  9.999777e-01   \n",
       "...            ...           ...           ...           ...           ...   \n",
       "9995  9.127882e-12  8.512246e-08  9.999999e-01  5.384519e-09  2.463138e-14   \n",
       "9996  6.531591e-10  2.936270e-09  1.257551e-08  9.999963e-01  1.990298e-11   \n",
       "9997  1.076957e-14  7.316457e-10  1.751892e-13  6.589362e-14  1.000000e+00   \n",
       "9998  7.055724e-13  8.388026e-13  3.064934e-14  2.192952e-09  2.058131e-14   \n",
       "9999  4.967735e-08  1.283627e-10  2.104551e-08  9.355691e-11  6.125577e-08   \n",
       "\n",
       "           score_5       score_6       score_7       score_8       score_9  \\\n",
       "0     1.794280e-12  4.720299e-15  1.000000e+00  9.185045e-12  4.956310e-09   \n",
       "1     7.687796e-13  1.296026e-07  7.235867e-11  1.650108e-09  9.231881e-14   \n",
       "2     9.231777e-08  5.492074e-07  4.090763e-06  1.358098e-07  4.678723e-08   \n",
       "3     1.097534e-08  3.404809e-06  1.830841e-07  6.096547e-08  9.567390e-08   \n",
       "4     7.419485e-10  4.249667e-08  1.387315e-08  3.220784e-08  2.214572e-05   \n",
       "...            ...           ...           ...           ...           ...   \n",
       "9995  4.580554e-15  2.152786e-13  1.736553e-08  8.733217e-10  3.547919e-15   \n",
       "9996  3.600434e-06  3.078520e-11  4.383115e-09  1.216664e-09  6.073076e-08   \n",
       "9997  3.043836e-12  1.105804e-11  2.092271e-09  4.008249e-09  1.101974e-08   \n",
       "9998  9.999999e-01  2.026460e-09  2.115985e-13  8.733659e-08  2.399424e-11   \n",
       "9999  5.635767e-08  9.999999e-01  1.621125e-14  3.916712e-09  6.066733e-11   \n",
       "\n",
       "                                                    x_i  \n",
       "0     [[0.0, 0.0, 0.0, 0.0, 0.0, 0.0, 0.0, 0.0, 0.0,...  \n",
       "1     [[0.0, 0.0, 0.0, 0.0, 0.0, 0.0, 0.0, 0.0, 0.0,...  \n",
       "2     [[0.0, 0.0, 0.0, 0.0, 0.0, 0.0, 0.0, 0.0, 0.0,...  \n",
       "3     [[0.0, 0.0, 0.0, 0.0, 0.0, 0.0, 0.0, 0.0, 0.0,...  \n",
       "4     [[0.0, 0.0, 0.0, 0.0, 0.0, 0.0, 0.0, 0.0, 0.0,...  \n",
       "...                                                 ...  \n",
       "9995  [[0.0, 0.0, 0.0, 0.0, 0.0, 0.0, 0.0, 0.0, 0.0,...  \n",
       "9996  [[0.0, 0.0, 0.0, 0.0, 0.0, 0.0, 0.0, 0.0, 0.0,...  \n",
       "9997  [[0.0, 0.0, 0.0, 0.0, 0.0, 0.0, 0.0, 0.0, 0.0,...  \n",
       "9998  [[0.0, 0.0, 0.0, 0.0, 0.0, 0.0, 0.0, 0.0, 0.0,...  \n",
       "9999  [[0.0, 0.0, 0.0, 0.0, 0.0, 0.0, 0.0, 0.0, 0.0,...  \n",
       "\n",
       "[10000 rows x 11 columns]"
      ]
     },
     "execution_count": 4,
     "metadata": {},
     "output_type": "execute_result"
    }
   ],
   "source": [
    "prob, pred = model_predict(x_test)\n",
    "\n",
    "rows = []\n",
    "for i, (x_i, score_i, pred_i) in enumerate(zip(x_test, prob, pred)):\n",
    "    row = {}\n",
    "    for classname, score in enumerate(score_i):\n",
    "        row[f'score_{classname}'] = score.item()\n",
    "    row['x_i'] = x_i.squeeze().tolist()\n",
    "    rows.append(row)\n",
    "\n",
    "import pandas as pd\n",
    "prediction_df = pd.DataFrame(rows)\n",
    "prediction_df"
   ]
  },
  {
   "cell_type": "markdown",
   "metadata": {},
   "source": [
    "Now let's histogram the network's scores for the 7 class.  Note that since the network has high accuracy, the scores are rather cleanly bi-modal.  For this stage, we'll use the `pandas` built-in `hist()` feature, which gives us a histogram (though without examples or other visualization)."
   ]
  },
  {
   "cell_type": "code",
   "execution_count": 5,
   "metadata": {},
   "outputs": [
    {
     "data": {
      "text/plain": [
       "<Axes: >"
      ]
     },
     "execution_count": 5,
     "metadata": {},
     "output_type": "execute_result"
    },
    {
     "data": {
      "image/png": "[encoded data removed]",
      "text/plain": [
       "<Figure size 432x288 with 1 Axes>"
      ]
     },
     "metadata": {
      "needs_background": "light"
     },
     "output_type": "display_data"
    }
   ],
   "source": [
    "%matplotlib inline \n",
    "prediction_df['score_7'].hist()"
   ]
  },
  {
   "cell_type": "markdown",
   "metadata": {},
   "source": [
    "## Simulating Out-of-Distribution Samples using MNIST-C: Corrupted MNIST\n",
    "\n",
    "MNIST-C is a benchmark dataset derived from MNIST that has synthetic corruptions.  For example, in MNIST-C, digits are rotated, blurred, speckled, etc.  We will take the normal MNIST model we trained above, run inference on MNIST-C examples, and examine how well the corruption-unaware network generalizes.  This scenario simulates a common situation in production where one has a trained model, lots of unlabeled data, and little tooling for measuring or inspecting error in the wild.  We'll see how `HistogramWithExamplesPlotter` can be a useful tool for quick exploration. \n",
    "\n",
    "First, let's get the code for using MNIST-C:"
   ]
  },
  {
   "cell_type": "code",
   "execution_count": 6,
   "metadata": {},
   "outputs": [
    {
     "name": "stdout",
     "output_type": "stream",
     "text": [
      "fatal: destination path 'oarphpy-mirror-mnist-c' already exists and is not an empty directory.\n",
      "have mnist-c\n",
      "Requirement already satisfied: scikit-image==0.19.3 in /usr/local/lib/python3.10/dist-packages (0.19.3)\n",
      "Requirement already satisfied: tifffile>=2019.7.26 in /usr/local/lib/python3.10/dist-packages (from scikit-image==0.19.3) (2023.2.28)\n",
      "Requirement already satisfied: PyWavelets>=1.1.1 in /usr/local/lib/python3.10/dist-packages (from scikit-image==0.19.3) (1.4.1)\n",
      "Requirement already satisfied: networkx>=2.2 in /usr/local/lib/python3.10/dist-packages (from scikit-image==0.19.3) (3.0)\n",
      "Requirement already satisfied: packaging>=20.0 in /usr/lib/python3/dist-packages (from scikit-image==0.19.3) (21.3)\n",
      "Requirement already satisfied: scipy>=1.4.1 in /usr/lib/python3/dist-packages (from scikit-image==0.19.3) (1.8.0)\n",
      "Requirement already satisfied: imageio>=2.4.1 in /usr/local/lib/python3.10/dist-packages (from scikit-image==0.19.3) (2.22.4)\n",
      "Requirement already satisfied: pillow!=7.1.0,!=7.1.1,!=8.3.0,>=6.1.0 in /usr/lib/python3/dist-packages (from scikit-image==0.19.3) (9.0.1)\n",
      "Requirement already satisfied: numpy>=1.17.0 in /usr/lib/python3/dist-packages (from scikit-image==0.19.3) (1.21.5)\n",
      "\u001b[33mWARNING: Running pip as the 'root' user can result in broken permissions and conflicting behaviour with the system package manager. It is recommended to use a virtual environment instead: https://pip.pypa.io/warnings/venv\u001b[0m\u001b[33m\n",
      "\u001b[0mRequirement already satisfied: wand in /usr/local/lib/python3.10/dist-packages (0.6.11)\n",
      "Requirement already satisfied: scipy in /usr/lib/python3/dist-packages (1.8.0)\n",
      "\u001b[33mWARNING: Running pip as the 'root' user can result in broken permissions and conflicting behaviour with the system package manager. It is recommended to use a virtual environment instead: https://pip.pypa.io/warnings/venv\u001b[0m\u001b[33m\n",
      "\u001b[0mln: failed to create symbolic link './pessimal_noise_matrix': File exists\n",
      "symlink placed\n",
      "Reading package lists... Done\n",
      "Building dependency tree... Done\n",
      "Reading state information... Done\n",
      "libmagickwand-dev is already the newest version (8:6.9.11.60+dfsg-1.3ubuntu0.22.04.1).\n",
      "0 upgraded, 0 newly installed, 0 to remove and 12 not upgraded.\n"
     ]
    }
   ],
   "source": [
    "!cd /opt && ((git clone https://github.com/pwais/oarphpy-mirror-mnist-c && \\\n",
    "              cd oarphpy-mirror-mnist-c && git checkout bba57e4ccc282f106907c5239958e72298451ea7) || echo \"have mnist-c\")\n",
    "import sys\n",
    "sys.path.append('/opt/oarphpy-mirror-mnist-c')\n",
    "\n",
    "# These are hard requirements of the package we need from above\n",
    "!pip3 install scikit-image==0.19.3\n",
    "!pip3 install wand scipy\n",
    "!ln -s /opt/oarphpy-mirror-mnist-c/pessimal_noise_matrix ./pessimal_noise_matrix || echo \"symlink placed\"\n",
    "!apt-get install -y libmagickwand-dev\n"
   ]
  },
  {
   "cell_type": "markdown",
   "metadata": {},
   "source": [
    "Let's take a look at a single corrupted example:"
   ]
  },
  {
   "cell_type": "code",
   "execution_count": 7,
   "metadata": {},
   "outputs": [
    {
     "data": {
      "text/plain": [
       "(28, 28)"
      ]
     },
     "execution_count": 7,
     "metadata": {},
     "output_type": "execute_result"
    }
   ],
   "source": [
    "import corruptions\n",
    "\n",
    "# See more corruptions here: \n",
    "# https://github.com/google-research/mnist-c/blob/bba57e4ccc282f106907c5239958e72298451ea7/corruptions.py#L57 \n",
    "\n",
    "x_to_corrupt = x_test[100].squeeze() * 255\n",
    "# x_corrupted = corruptions.speckle_noise(x_to_corrupt)\n",
    "# x_corrupted = corruptions.glass_blur(x_to_corrupt, severity=4)\n",
    "x_corrupted = corruptions.rotate(x_to_corrupt, severity=4)\n",
    "\n",
    "x_corrupted.shape"
   ]
  },
  {
   "cell_type": "code",
   "execution_count": 8,
   "metadata": {},
   "outputs": [
    {
     "name": "stderr",
     "output_type": "stream",
     "text": [
      "Lossy conversion from float32 to uint8. Range [0.0, 255.0]. Convert image to uint8 prior to saving to suppress this warning.\n",
      "Lossy conversion from float32 to uint8. Range [0.0, 233.87545776367188]. Convert image to uint8 prior to saving to suppress this warning.\n"
     ]
    },
    {
     "data": {
      "text/html": [
       "<b>Original:</b><img src=\"data:image/png;base64,/9j/4AAQSkZJRgABAQAAAQABAAD/2wBDAAgGBgcGBQgHBwcJCQgKDBQNDAsLDBkSEw8UHRofHh0aHBwgJC4nICIsIxwcKDcpLDAxNDQ0Hyc5PTgyPC4zNDL/wAALCAAcABwBAREA/8QAHwAAAQUBAQEBAQEAAAAAAAAAAAECAwQFBgcICQoL/8QAtRAAAgEDAwIEAwUFBAQAAAF9AQIDAAQRBRIhMUEGE1FhByJxFDKBkaEII0KxwRVS0fAkM2JyggkKFhcYGRolJicoKSo0NTY3ODk6Q0RFRkdISUpTVFVWV1hZWmNkZWZnaGlqc3R1dnd4eXqDhIWGh4iJipKTlJWWl5iZmqKjpKWmp6ipqrKztLW2t7i5usLDxMXGx8jJytLT1NXW19jZ2uHi4%2BTl5ufo6erx8vP09fb3%2BPn6/9oACAEBAAA/APn%2Bun/s7TNK8Ew3%2BoWz3Oo6vv8AsO2UottHG20yED7xZgy7T2UnuK5iiivQfEWkS614q0bQo3S2t7DQ7YyzspKxRCDz5ZDjry7n3PFVYrfwjrdxNo2j6XfxTrbzPb6jPdBmleNC/wA0QXaobaRgHjI5ODniKK9I0Hxbo12ulT6ndf2dq2m2jaeZ5IHlt7y1KsmxwnzowViNy57elZmoaz4b0RZD4YheW/mgaB7qRGVIFYEN5YZixYqSNxAwCcDPI4qiiiiv/9k%3D\" height=\"28\" width=\"28\" />"
      ],
      "text/plain": [
       "<IPython.core.display.HTML object>"
      ]
     },
     "metadata": {},
     "output_type": "display_data"
    },
    {
     "data": {
      "text/html": [
       "<b>Corrupted:</b><img src=\"data:image/png;base64,/9j/4AAQSkZJRgABAQAAAQABAAD/2wBDAAgGBgcGBQgHBwcJCQgKDBQNDAsLDBkSEw8UHRofHh0aHBwgJC4nICIsIxwcKDcpLDAxNDQ0Hyc5PTgyPC4zNDL/wAALCAAcABwBAREA/8QAHwAAAQUBAQEBAQEAAAAAAAAAAAECAwQFBgcICQoL/8QAtRAAAgEDAwIEAwUFBAQAAAF9AQIDAAQRBRIhMUEGE1FhByJxFDKBkaEII0KxwRVS0fAkM2JyggkKFhcYGRolJicoKSo0NTY3ODk6Q0RFRkdISUpTVFVWV1hZWmNkZWZnaGlqc3R1dnd4eXqDhIWGh4iJipKTlJWWl5iZmqKjpKWmp6ipqrKztLW2t7i5usLDxMXGx8jJytLT1NXW19jZ2uHi4%2BTl5ufo6erx8vP09fb3%2BPn6/9oACAEBAAA/APD9N0W%2B1aC%2BntI1aKxg8%2BdmcLtTIHc88npVO3t5rq4jggjaSaRgqIoyWJ7CtPVvC%2BtaHEk2o2EkMTkqJOGXIxkEjIB5HB55FZFdJ4K1OysdZktNU403UoWs7l8gGNWIw/P90gHtwDyK3PC2kXHhj4nNptyU%2B1xxTpaSA4V3MbeUyk4GDkEE460/w1o%2BvWdv4i/ta2mSxNnObqK6JXMgB2vz3D4Ge5OO5rzyiuw0vxbpk%2Bnwad4o0mS/itk2Wt3bzeXcQrnIXd0ZRzgHpzjGaf4l8cJqWmf2XpUF3Davt86e9uTPPKB0Ut0VfYD0988ZRRRRX//Z\" height=\"28\" width=\"28\" />"
      ],
      "text/plain": [
       "<IPython.core.display.HTML object>"
      ]
     },
     "metadata": {},
     "output_type": "display_data"
    }
   ],
   "source": [
    "sys.path.append('/opt/oarphpy')\n",
    "from oarphpy.plotting import img_to_img_tag\n",
    "\n",
    "img_html = img_to_img_tag(x_to_corrupt)\n",
    "img_html_c = img_to_img_tag(x_corrupted)\n",
    "\n",
    "def show_html(html):\n",
    "    from IPython.core.display import display, HTML\n",
    "    display(HTML(html))\n",
    "show_html('<b>Original:</b>' + img_html)\n",
    "show_html('<b>Corrupted:</b>' + img_html_c)"
   ]
  },
  {
   "cell_type": "markdown",
   "metadata": {},
   "source": [
    "Now, let's generated corrupted versions for the entire MNIST test set, and run inference of our earlier model on these corrupted examples:"
   ]
  },
  {
   "cell_type": "code",
   "execution_count": 9,
   "metadata": {},
   "outputs": [
    {
     "data": {
      "application/vnd.jupyter.widget-view+json": {
       "model_id": "e52c80fbe97247f2b806bb17ef887dc4",
       "version_major": 2,
       "version_minor": 0
      },
      "text/plain": [
       "  0%|          | 0/10000 [00:00<?, ?it/s]"
      ]
     },
     "metadata": {},
     "output_type": "display_data"
    }
   ],
   "source": [
    "import numpy as np\n",
    "x_test_c = np.zeros_like(x_test)\n",
    "for i in tqdm(range(len(x_test_c)), total=len(x_test_c)):\n",
    "    # xform = corruptions.glass_blur\n",
    "    xform = corruptions.rotate\n",
    "    x_test_c[i][0] = (1. / 255) * xform(x_test[i].squeeze() * 255, severity=4)\n"
   ]
  },
  {
   "cell_type": "markdown",
   "metadata": {},
   "source": [
    "Let's make sure that worked and also declare a utility function for visualizing digits:"
   ]
  },
  {
   "cell_type": "code",
   "execution_count": 10,
   "metadata": {},
   "outputs": [
    {
     "data": {
      "text/html": [
       "<img src=\"data:image/png;base64,/9j/4AAQSkZJRgABAQAAAQABAAD/2wBDAAgGBgcGBQgHBwcJCQgKDBQNDAsLDBkSEw8UHRofHh0aHBwgJC4nICIsIxwcKDcpLDAxNDQ0Hyc5PTgyPC4zNDL/wAALCAAcABwBAREA/8QAHwAAAQUBAQEBAQEAAAAAAAAAAAECAwQFBgcICQoL/8QAtRAAAgEDAwIEAwUFBAQAAAF9AQIDAAQRBRIhMUEGE1FhByJxFDKBkaEII0KxwRVS0fAkM2JyggkKFhcYGRolJicoKSo0NTY3ODk6Q0RFRkdISUpTVFVWV1hZWmNkZWZnaGlqc3R1dnd4eXqDhIWGh4iJipKTlJWWl5iZmqKjpKWmp6ipqrKztLW2t7i5usLDxMXGx8jJytLT1NXW19jZ2uHi4%2BTl5ufo6erx8vP09fb3%2BPn6/9oACAEBAAA/APn%2Bt/wp4O1fxjqDWmlxKdgzJLIdqJ6An1PYVk6hY3GmahcWN0my4t5GjkX0IODVaui8J%2BFx4imupbm/hsdPskElzcSclQegA7k1s6542tbS0tdC8KRyW2j2sqzNK4AlupFOd7/iAQP8h3xXhhudfs/ENoMWutWiXK/LjD4w46dcjP41wVKGZQQCQDwcHrSV6hcWEnib4GWN9HJEJPD1xJHKp%2B80bkEfqeleX0UVZi1G9gsZ7GK6lS1nIMsKuQrkdMjvVav/2Q%3D%3D\" height=\"28\" width=\"28\" />"
      ],
      "text/plain": [
       "<IPython.core.display.HTML object>"
      ]
     },
     "metadata": {},
     "output_type": "display_data"
    },
    {
     "data": {
      "text/html": [
       "<img src=\"data:image/png;base64,/9j/4AAQSkZJRgABAQAAAQABAAD/2wBDAAgGBgcGBQgHBwcJCQgKDBQNDAsLDBkSEw8UHRofHh0aHBwgJC4nICIsIxwcKDcpLDAxNDQ0Hyc5PTgyPC4zNDL/wAALCAAcABwBAREA/8QAHwAAAQUBAQEBAQEAAAAAAAAAAAECAwQFBgcICQoL/8QAtRAAAgEDAwIEAwUFBAQAAAF9AQIDAAQRBRIhMUEGE1FhByJxFDKBkaEII0KxwRVS0fAkM2JyggkKFhcYGRolJicoKSo0NTY3ODk6Q0RFRkdISUpTVFVWV1hZWmNkZWZnaGlqc3R1dnd4eXqDhIWGh4iJipKTlJWWl5iZmqKjpKWmp6ipqrKztLW2t7i5usLDxMXGx8jJytLT1NXW19jZ2uHi4%2BTl5ufo6erx8vP09fb3%2BPn6/9oACAEBAAA/APFPDvhzUvFOsR6ZpUHm3DgsSThUUdWJPQVe8W%2BCtX8GXkUGppGyTLuimhbcjj2PrXOUV33gTxVYeHPC3iqKSXyNUu7ZY7OQR5OTkMAe3Bz%2BHritx5ZPEf7POXzLPot/jexGVRv/ANqvP/Cnhq88WeIbbSrQAGRsySMcLGg5Zie2BXSeKNb8M6XrT6boOi2d1ZWiiH7TKvzTuPvPz7/y/E8DXp/wh1nSwNa8L61erZ2ms2/lxzP91ZMEDnscHjpnGM9KveI/FOgeBvDk/hLwiiXN9KoW81nIy2fvBMfkOcAZ6k5ryIkkkk5Joooor//Z\" height=\"28\" width=\"28\" />"
      ],
      "text/plain": [
       "<IPython.core.display.HTML object>"
      ]
     },
     "metadata": {},
     "output_type": "display_data"
    },
    {
     "data": {
      "text/html": [
       "<img src=\"data:image/png;base64,/9j/4AAQSkZJRgABAQAAAQABAAD/2wBDAAgGBgcGBQgHBwcJCQgKDBQNDAsLDBkSEw8UHRofHh0aHBwgJC4nICIsIxwcKDcpLDAxNDQ0Hyc5PTgyPC4zNDL/wAALCAAcABwBAREA/8QAHwAAAQUBAQEBAQEAAAAAAAAAAAECAwQFBgcICQoL/8QAtRAAAgEDAwIEAwUFBAQAAAF9AQIDAAQRBRIhMUEGE1FhByJxFDKBkaEII0KxwRVS0fAkM2JyggkKFhcYGRolJicoKSo0NTY3ODk6Q0RFRkdISUpTVFVWV1hZWmNkZWZnaGlqc3R1dnd4eXqDhIWGh4iJipKTlJWWl5iZmqKjpKWmp6ipqrKztLW2t7i5usLDxMXGx8jJytLT1NXW19jZ2uHi4%2BTl5ufo6erx8vP09fb3%2BPn6/9oACAEBAAA/APn%2BtnV9AbTdK0vUorhbm1v4i29VxskBwyH3HHPf%2BWNRRXfeApLfxBpmoeC74RZu1M%2BnyydYbhR0H%2B8OP888LcQSWtxJbzIUliYo6kYIIOCKjoqazu5rG8hu7d9k0LiSNvRgcg12PxD1LRdf/srXtOeNNQvIMajbJn5JVwN3tmuIoooor//Z\" height=\"28\" width=\"28\" />"
      ],
      "text/plain": [
       "<IPython.core.display.HTML object>"
      ]
     },
     "metadata": {},
     "output_type": "display_data"
    },
    {
     "data": {
      "text/html": [
       "<img src=\"data:image/png;base64,/9j/4AAQSkZJRgABAQAAAQABAAD/2wBDAAgGBgcGBQgHBwcJCQgKDBQNDAsLDBkSEw8UHRofHh0aHBwgJC4nICIsIxwcKDcpLDAxNDQ0Hyc5PTgyPC4zNDL/wAALCAAcABwBAREA/8QAHwAAAQUBAQEBAQEAAAAAAAAAAAECAwQFBgcICQoL/8QAtRAAAgEDAwIEAwUFBAQAAAF9AQIDAAQRBRIhMUEGE1FhByJxFDKBkaEII0KxwRVS0fAkM2JyggkKFhcYGRolJicoKSo0NTY3ODk6Q0RFRkdISUpTVFVWV1hZWmNkZWZnaGlqc3R1dnd4eXqDhIWGh4iJipKTlJWWl5iZmqKjpKWmp6ipqrKztLW2t7i5usLDxMXGx8jJytLT1NXW19jZ2uHi4%2BTl5ufo6erx8vP09fb3%2BPn6/9oACAEBAAA/APBrKzudRvYbOzhaa5ncRxxr1Zj0FdJJ8NfGMd1c239gXbyWwzIEXcMYzwe/4Vg6lpGo6POIdRsZ7SUgMFmjKkg9%2BfofyqlWt4WuUtPFmk3EsrxRx3cTNIh5UbhzXu/x38ZatoNzo1ro9/NatIjTs8XG7BAHP58Vn609745/Z8XWtTMcuo2UpkE5wCyhtp/HBP5V4FSqxVgynBByDXsel3Wj/Fjwtb6Xr2qpZeKNOG21vJzhZ4yR8rf3j%2Bo4PPNbHxP8ReG/D/w2tPBWg3NvcSHasgt5CQgX5mZiM5LN2z614HRRQTk5NFf/2Q%3D%3D\" height=\"28\" width=\"28\" />"
      ],
      "text/plain": [
       "<IPython.core.display.HTML object>"
      ]
     },
     "metadata": {},
     "output_type": "display_data"
    },
    {
     "data": {
      "text/html": [
       "<img src=\"data:image/png;base64,/9j/4AAQSkZJRgABAQAAAQABAAD/2wBDAAgGBgcGBQgHBwcJCQgKDBQNDAsLDBkSEw8UHRofHh0aHBwgJC4nICIsIxwcKDcpLDAxNDQ0Hyc5PTgyPC4zNDL/wAALCAAcABwBAREA/8QAHwAAAQUBAQEBAQEAAAAAAAAAAAECAwQFBgcICQoL/8QAtRAAAgEDAwIEAwUFBAQAAAF9AQIDAAQRBRIhMUEGE1FhByJxFDKBkaEII0KxwRVS0fAkM2JyggkKFhcYGRolJicoKSo0NTY3ODk6Q0RFRkdISUpTVFVWV1hZWmNkZWZnaGlqc3R1dnd4eXqDhIWGh4iJipKTlJWWl5iZmqKjpKWmp6ipqrKztLW2t7i5usLDxMXGx8jJytLT1NXW19jZ2uHi4%2BTl5ufo6erx8vP09fb3%2BPn6/9oACAEBAAA/APn%2Br9homqaqcafp11dZOP3MTN/IUaxo15oV99iv0SO5CBmjVwxTPZsdD7H1FUKnsfs/2%2B3%2B17vs3mL5u3rtzz%2BlejfEXXfEOmXsdlp101n4bdAdP%2Bw/u45I8cEsvJPXOfT2rlNF8I6xr7S3jwyw2EeZLm/nUiNB3JY9T19659wqyMEbcoJAb1FIAWIAGSeBXteiPZfDnwK83iuW21a4u2WSw0RnWVY2XneTyFHTPrgDnFedeJ/H2veKS0V5dtHY5Gyzh%2BWJQOnA6/jXMUUpJPUk49aSiv/Z\" height=\"28\" width=\"28\" />"
      ],
      "text/plain": [
       "<IPython.core.display.HTML object>"
      ]
     },
     "metadata": {},
     "output_type": "display_data"
    },
    {
     "data": {
      "text/html": [
       "<img src=\"data:image/png;base64,/9j/4AAQSkZJRgABAQAAAQABAAD/2wBDAAgGBgcGBQgHBwcJCQgKDBQNDAsLDBkSEw8UHRofHh0aHBwgJC4nICIsIxwcKDcpLDAxNDQ0Hyc5PTgyPC4zNDL/wAALCAAcABwBAREA/8QAHwAAAQUBAQEBAQEAAAAAAAAAAAECAwQFBgcICQoL/8QAtRAAAgEDAwIEAwUFBAQAAAF9AQIDAAQRBRIhMUEGE1FhByJxFDKBkaEII0KxwRVS0fAkM2JyggkKFhcYGRolJicoKSo0NTY3ODk6Q0RFRkdISUpTVFVWV1hZWmNkZWZnaGlqc3R1dnd4eXqDhIWGh4iJipKTlJWWl5iZmqKjpKWmp6ipqrKztLW2t7i5usLDxMXGx8jJytLT1NXW19jZ2uHi4%2BTl5ufo6erx8vP09fb3%2BPn6/9oACAEBAAA/APn%2BuivvBuoWPgzTvFBkglsL2RowIyS0TAkYbjHOD0rnaKK9c%2BE%2Bp2/iDQdX%2BHupPtj1CNpLJ/7soGcfoD36V5bqWn3Gk6nc6fdpsuLeQxyL6EHFVaKtabqFxpWpW9/auUngkEiEeoOa7z4lX2g%2BKYLLxZpt5DFqN0qx32n/AMSOBjcPbj%2BX4%2Bc0UUUV/9k%3D\" height=\"28\" width=\"28\" />"
      ],
      "text/plain": [
       "<IPython.core.display.HTML object>"
      ]
     },
     "metadata": {},
     "output_type": "display_data"
    },
    {
     "data": {
      "text/html": [
       "<img src=\"data:image/png;base64,/9j/4AAQSkZJRgABAQAAAQABAAD/2wBDAAgGBgcGBQgHBwcJCQgKDBQNDAsLDBkSEw8UHRofHh0aHBwgJC4nICIsIxwcKDcpLDAxNDQ0Hyc5PTgyPC4zNDL/wAALCAAcABwBAREA/8QAHwAAAQUBAQEBAQEAAAAAAAAAAAECAwQFBgcICQoL/8QAtRAAAgEDAwIEAwUFBAQAAAF9AQIDAAQRBRIhMUEGE1FhByJxFDKBkaEII0KxwRVS0fAkM2JyggkKFhcYGRolJicoKSo0NTY3ODk6Q0RFRkdISUpTVFVWV1hZWmNkZWZnaGlqc3R1dnd4eXqDhIWGh4iJipKTlJWWl5iZmqKjpKWmp6ipqrKztLW2t7i5usLDxMXGx8jJytLT1NXW19jZ2uHi4%2BTl5ufo6erx8vP09fb3%2BPn6/9oACAEBAAA/APn%2Bun8BaRZ694nXS7xN/wBpt5lhySAJdhKHj3Fc1LGYpXjb7yMVP4U2uu%2BHuj2Ou6vqFhdxxvM%2BnzG0VyR%2B%2BAyuMd%2Btafw%2B0OTSdSj8Xa1FLa6TpjeZuddpnkGQETPU5H6VR%2BJ%2BlJYeNbm6tUYWOpKt7bMf4kcZP65rjKv6NrF7oOrW%2Bp6fL5V1A25Gxke4PsRWt4q8ea/4wKLql0Ps8bbktol2RqcYztHf39zXSaV480ZvBUVprNnJPrelRyx6bOVDKyuCMMevy5yPwrzaiiiiv//Z\" height=\"28\" width=\"28\" />"
      ],
      "text/plain": [
       "<IPython.core.display.HTML object>"
      ]
     },
     "metadata": {},
     "output_type": "display_data"
    },
    {
     "data": {
      "text/html": [
       "<img src=\"data:image/png;base64,/9j/4AAQSkZJRgABAQAAAQABAAD/2wBDAAgGBgcGBQgHBwcJCQgKDBQNDAsLDBkSEw8UHRofHh0aHBwgJC4nICIsIxwcKDcpLDAxNDQ0Hyc5PTgyPC4zNDL/wAALCAAcABwBAREA/8QAHwAAAQUBAQEBAQEAAAAAAAAAAAECAwQFBgcICQoL/8QAtRAAAgEDAwIEAwUFBAQAAAF9AQIDAAQRBRIhMUEGE1FhByJxFDKBkaEII0KxwRVS0fAkM2JyggkKFhcYGRolJicoKSo0NTY3ODk6Q0RFRkdISUpTVFVWV1hZWmNkZWZnaGlqc3R1dnd4eXqDhIWGh4iJipKTlJWWl5iZmqKjpKWmp6ipqrKztLW2t7i5usLDxMXGx8jJytLT1NXW19jZ2uHi4%2BTl5ufo6erx8vP09fb3%2BPn6/9oACAEBAAA/APn%2BrFpY3eoTiCztpriU9EiQsfyFJeWV1p85gvLaW3lHVJUKn8jUFFfQXhKx1Ox8PeFj4JuNMElzh9VZ5E85/myVIIzgDI4/wrj/AI%2BXK3HxE2pcmVY7WMFAciM85Ary2iu/%2BFCpY6zqPiKcZg0aykuOgPzn5VHPua4e8upb69mup2LSzOXYk9STmoKK7XTpWs/hFrEkJKvd6nDbzHJ%2BZAjMB%2BdcVRX/2Q%3D%3D\" height=\"28\" width=\"28\" />"
      ],
      "text/plain": [
       "<IPython.core.display.HTML object>"
      ]
     },
     "metadata": {},
     "output_type": "display_data"
    },
    {
     "data": {
      "text/html": [
       "<img src=\"data:image/png;base64,/9j/4AAQSkZJRgABAQAAAQABAAD/2wBDAAgGBgcGBQgHBwcJCQgKDBQNDAsLDBkSEw8UHRofHh0aHBwgJC4nICIsIxwcKDcpLDAxNDQ0Hyc5PTgyPC4zNDL/wAALCAAcABwBAREA/8QAHwAAAQUBAQEBAQEAAAAAAAAAAAECAwQFBgcICQoL/8QAtRAAAgEDAwIEAwUFBAQAAAF9AQIDAAQRBRIhMUEGE1FhByJxFDKBkaEII0KxwRVS0fAkM2JyggkKFhcYGRolJicoKSo0NTY3ODk6Q0RFRkdISUpTVFVWV1hZWmNkZWZnaGlqc3R1dnd4eXqDhIWGh4iJipKTlJWWl5iZmqKjpKWmp6ipqrKztLW2t7i5usLDxMXGx8jJytLT1NXW19jZ2uHi4%2BTl5ufo6erx8vP09fb3%2BPn6/9oACAEBAAA/APAFUswVQSxOAAOSa328D%2BKEsmvH0K%2BW2Vd7SNEQAPWsAgjGQRmkrd8GazD4e8Y6VqtxEJYbadWdcA8dMjPcdfwr0T43WOsW%2BsprVve3b6FqUaNEPNYIrbeV29vXGKb4O8WeDfEWi2fhfxjpVvbPCpit9RhQIRnpuI5B6cnIJxmsPxB8IPEematJDp9u1/ZN88FxEpIZCTjOBweOlcNpk0FvqtnNcpvgjmRpF9VBGR%2BVfS/ib4ieCdQ8Haqkur299bzwBbewEW14324GO/XB9q%2BXqvTa1qlwsSy6jdOIYxFGDK3yoOgHPTk1Rooor//Z\" height=\"28\" width=\"28\" />"
      ],
      "text/plain": [
       "<IPython.core.display.HTML object>"
      ]
     },
     "metadata": {},
     "output_type": "display_data"
    },
    {
     "data": {
      "text/html": [
       "<img src=\"data:image/png;base64,/9j/4AAQSkZJRgABAQAAAQABAAD/2wBDAAgGBgcGBQgHBwcJCQgKDBQNDAsLDBkSEw8UHRofHh0aHBwgJC4nICIsIxwcKDcpLDAxNDQ0Hyc5PTgyPC4zNDL/wAALCAAcABwBAREA/8QAHwAAAQUBAQEBAQEAAAAAAAAAAAECAwQFBgcICQoL/8QAtRAAAgEDAwIEAwUFBAQAAAF9AQIDAAQRBRIhMUEGE1FhByJxFDKBkaEII0KxwRVS0fAkM2JyggkKFhcYGRolJicoKSo0NTY3ODk6Q0RFRkdISUpTVFVWV1hZWmNkZWZnaGlqc3R1dnd4eXqDhIWGh4iJipKTlJWWl5iZmqKjpKWmp6ipqrKztLW2t7i5usLDxMXGx8jJytLT1NXW19jZ2uHi4%2BTl5ufo6erx8vP09fb3%2BPn6/9oACAEBAAA/APn%2Bur8I/D3XPGLGWyiWGyVir3c52xg%2Bg9T7Cq3jLwdqPgnWV03UXikd4llSSI5VlP1565H4VztSQQvcTxwxjLyMEUepJwK%2Bgzo18mvaT4Usp0tNA0i0R9XkcAxyO43EHPBbpj04PpXK/tCbh4z09VUi3WwQREfdIyeleRVJBM9vcRzx43xsHXPqDmuz8VfFPxD4stBaXRgt7Y7TKlum0yle7Hqfp0rr/jGRrngzwd4nhHyS23kSAHO1sA4z06huP8K8ZoorVl8R6vP4ei0GW9kfTIZfNjgOMK3PQ9ccnjpWVX//2Q%3D%3D\" height=\"28\" width=\"28\" />"
      ],
      "text/plain": [
       "<IPython.core.display.HTML object>"
      ]
     },
     "metadata": {},
     "output_type": "display_data"
    }
   ],
   "source": [
    "NUM_TO_SHOW = 10\n",
    "\n",
    "def unit_digit_to_img_tag(x):\n",
    "    img_char = (255 * x).astype('uint8')\n",
    "    return img_to_img_tag(img_char)\n",
    "\n",
    "for r in x_test_c[:NUM_TO_SHOW, ...]:\n",
    "    x_i = r.squeeze()\n",
    "    show_html(unit_digit_to_img_tag(x_i))"
   ]
  },
  {
   "cell_type": "markdown",
   "metadata": {},
   "source": [
    "Now let's run inference on the corrupted data!"
   ]
  },
  {
   "cell_type": "code",
   "execution_count": 11,
   "metadata": {},
   "outputs": [],
   "source": [
    "prob_c, pred_c = model_predict(torch.from_numpy(x_test_c))"
   ]
  },
  {
   "cell_type": "code",
   "execution_count": 12,
   "metadata": {},
   "outputs": [
    {
     "data": {
      "text/html": [
       "<div>\n",
       "<style scoped>\n",
       "    .dataframe tbody tr th:only-of-type {\n",
       "        vertical-align: middle;\n",
       "    }\n",
       "\n",
       "    .dataframe tbody tr th {\n",
       "        vertical-align: top;\n",
       "    }\n",
       "\n",
       "    .dataframe thead th {\n",
       "        text-align: right;\n",
       "    }\n",
       "</style>\n",
       "<table border=\"1\" class=\"dataframe\">\n",
       "  <thead>\n",
       "    <tr style=\"text-align: right;\">\n",
       "      <th></th>\n",
       "      <th>score_0</th>\n",
       "      <th>score_1</th>\n",
       "      <th>score_2</th>\n",
       "      <th>score_3</th>\n",
       "      <th>score_4</th>\n",
       "      <th>score_5</th>\n",
       "      <th>score_6</th>\n",
       "      <th>score_7</th>\n",
       "      <th>score_8</th>\n",
       "      <th>score_9</th>\n",
       "      <th>x_i</th>\n",
       "    </tr>\n",
       "  </thead>\n",
       "  <tbody>\n",
       "    <tr>\n",
       "      <th>0</th>\n",
       "      <td>2.318903e-02</td>\n",
       "      <td>3.499873e-02</td>\n",
       "      <td>7.924204e-02</td>\n",
       "      <td>2.462936e-03</td>\n",
       "      <td>7.328708e-01</td>\n",
       "      <td>2.511773e-03</td>\n",
       "      <td>6.940296e-04</td>\n",
       "      <td>5.893948e-02</td>\n",
       "      <td>0.004421</td>\n",
       "      <td>6.067045e-02</td>\n",
       "      <td>[[0.0, 0.0, 0.0, 0.0, 0.0, 0.0, 0.0, 0.0, 0.0,...</td>\n",
       "    </tr>\n",
       "    <tr>\n",
       "      <th>1</th>\n",
       "      <td>1.368745e-01</td>\n",
       "      <td>1.656399e-01</td>\n",
       "      <td>1.804453e-02</td>\n",
       "      <td>8.661019e-04</td>\n",
       "      <td>2.014344e-02</td>\n",
       "      <td>1.060956e-02</td>\n",
       "      <td>1.852694e-01</td>\n",
       "      <td>3.871693e-02</td>\n",
       "      <td>0.423418</td>\n",
       "      <td>4.180247e-04</td>\n",
       "      <td>[[0.0, 0.0, 0.0, 0.0, 0.0, 0.0, 0.0, 0.0, 0.0,...</td>\n",
       "    </tr>\n",
       "    <tr>\n",
       "      <th>2</th>\n",
       "      <td>2.822671e-05</td>\n",
       "      <td>9.343426e-01</td>\n",
       "      <td>1.124826e-02</td>\n",
       "      <td>8.512796e-03</td>\n",
       "      <td>1.885175e-03</td>\n",
       "      <td>3.417336e-02</td>\n",
       "      <td>5.489786e-04</td>\n",
       "      <td>2.861198e-03</td>\n",
       "      <td>0.006175</td>\n",
       "      <td>2.248560e-04</td>\n",
       "      <td>[[0.0, 0.0, 0.0, 0.0, 0.0, 0.0, 0.0, 0.0, 0.0,...</td>\n",
       "    </tr>\n",
       "    <tr>\n",
       "      <th>3</th>\n",
       "      <td>9.998703e-01</td>\n",
       "      <td>4.705473e-07</td>\n",
       "      <td>1.019485e-05</td>\n",
       "      <td>6.493735e-08</td>\n",
       "      <td>1.318491e-06</td>\n",
       "      <td>8.314926e-06</td>\n",
       "      <td>5.884698e-05</td>\n",
       "      <td>3.484946e-05</td>\n",
       "      <td>0.000013</td>\n",
       "      <td>2.353044e-06</td>\n",
       "      <td>[[0.0, 0.0, 0.0, 0.0, 0.0, 0.0, 0.0, 0.0, 0.0,...</td>\n",
       "    </tr>\n",
       "    <tr>\n",
       "      <th>4</th>\n",
       "      <td>2.216400e-03</td>\n",
       "      <td>1.544213e-05</td>\n",
       "      <td>2.452351e-03</td>\n",
       "      <td>3.282306e-04</td>\n",
       "      <td>8.513890e-03</td>\n",
       "      <td>5.292688e-01</td>\n",
       "      <td>2.221072e-02</td>\n",
       "      <td>1.086944e-03</td>\n",
       "      <td>0.264774</td>\n",
       "      <td>1.691330e-01</td>\n",
       "      <td>[[0.0, 0.0, 0.0, 0.0, 0.0, 0.0, 0.0, 0.0, 0.0,...</td>\n",
       "    </tr>\n",
       "    <tr>\n",
       "      <th>...</th>\n",
       "      <td>...</td>\n",
       "      <td>...</td>\n",
       "      <td>...</td>\n",
       "      <td>...</td>\n",
       "      <td>...</td>\n",
       "      <td>...</td>\n",
       "      <td>...</td>\n",
       "      <td>...</td>\n",
       "      <td>...</td>\n",
       "      <td>...</td>\n",
       "      <td>...</td>\n",
       "    </tr>\n",
       "    <tr>\n",
       "      <th>9995</th>\n",
       "      <td>1.599001e-04</td>\n",
       "      <td>2.077016e-06</td>\n",
       "      <td>9.966429e-01</td>\n",
       "      <td>1.492914e-04</td>\n",
       "      <td>7.414887e-07</td>\n",
       "      <td>9.567250e-07</td>\n",
       "      <td>5.967238e-06</td>\n",
       "      <td>4.912279e-05</td>\n",
       "      <td>0.002986</td>\n",
       "      <td>3.251638e-06</td>\n",
       "      <td>[[0.0, 0.0, 0.0, 0.0, 0.0, 0.0, 0.0, 0.0, 0.0,...</td>\n",
       "    </tr>\n",
       "    <tr>\n",
       "      <th>9996</th>\n",
       "      <td>2.949015e-03</td>\n",
       "      <td>7.252172e-06</td>\n",
       "      <td>6.446636e-06</td>\n",
       "      <td>3.876572e-05</td>\n",
       "      <td>6.133314e-05</td>\n",
       "      <td>3.019129e-02</td>\n",
       "      <td>1.133591e-05</td>\n",
       "      <td>9.634346e-01</td>\n",
       "      <td>0.000016</td>\n",
       "      <td>3.283608e-03</td>\n",
       "      <td>[[0.0, 0.0, 0.0, 0.0, 0.0, 0.0, 0.0, 0.0, 0.0,...</td>\n",
       "    </tr>\n",
       "    <tr>\n",
       "      <th>9997</th>\n",
       "      <td>3.115887e-07</td>\n",
       "      <td>6.447039e-04</td>\n",
       "      <td>1.315332e-05</td>\n",
       "      <td>2.438993e-06</td>\n",
       "      <td>8.979771e-01</td>\n",
       "      <td>1.953351e-05</td>\n",
       "      <td>3.446408e-07</td>\n",
       "      <td>2.771195e-05</td>\n",
       "      <td>0.000805</td>\n",
       "      <td>1.005097e-01</td>\n",
       "      <td>[[0.0, 0.0, 0.0, 0.0, 0.0, 0.0, 0.0, 0.0, 0.0,...</td>\n",
       "    </tr>\n",
       "    <tr>\n",
       "      <th>9998</th>\n",
       "      <td>4.554707e-02</td>\n",
       "      <td>1.139039e-03</td>\n",
       "      <td>1.794385e-01</td>\n",
       "      <td>7.520212e-04</td>\n",
       "      <td>1.725841e-01</td>\n",
       "      <td>1.347049e-01</td>\n",
       "      <td>1.478239e-01</td>\n",
       "      <td>5.589757e-04</td>\n",
       "      <td>0.009645</td>\n",
       "      <td>3.078060e-01</td>\n",
       "      <td>[[0.0, 0.0, 0.0, 0.0, 0.0, 0.0, 0.0, 0.0, 0.0,...</td>\n",
       "    </tr>\n",
       "    <tr>\n",
       "      <th>9999</th>\n",
       "      <td>1.230803e-03</td>\n",
       "      <td>1.247935e-06</td>\n",
       "      <td>4.385245e-07</td>\n",
       "      <td>1.837647e-09</td>\n",
       "      <td>6.285679e-05</td>\n",
       "      <td>9.957587e-07</td>\n",
       "      <td>9.986795e-01</td>\n",
       "      <td>2.658622e-08</td>\n",
       "      <td>0.000024</td>\n",
       "      <td>1.467835e-09</td>\n",
       "      <td>[[0.0, 0.0, 0.0, 0.0, 0.0, 0.0, 0.0, 0.0, 0.0,...</td>\n",
       "    </tr>\n",
       "  </tbody>\n",
       "</table>\n",
       "<p>10000 rows × 11 columns</p>\n",
       "</div>"
      ],
      "text/plain": [
       "           score_0       score_1       score_2       score_3       score_4  \\\n",
       "0     2.318903e-02  3.499873e-02  7.924204e-02  2.462936e-03  7.328708e-01   \n",
       "1     1.368745e-01  1.656399e-01  1.804453e-02  8.661019e-04  2.014344e-02   \n",
       "2     2.822671e-05  9.343426e-01  1.124826e-02  8.512796e-03  1.885175e-03   \n",
       "3     9.998703e-01  4.705473e-07  1.019485e-05  6.493735e-08  1.318491e-06   \n",
       "4     2.216400e-03  1.544213e-05  2.452351e-03  3.282306e-04  8.513890e-03   \n",
       "...            ...           ...           ...           ...           ...   \n",
       "9995  1.599001e-04  2.077016e-06  9.966429e-01  1.492914e-04  7.414887e-07   \n",
       "9996  2.949015e-03  7.252172e-06  6.446636e-06  3.876572e-05  6.133314e-05   \n",
       "9997  3.115887e-07  6.447039e-04  1.315332e-05  2.438993e-06  8.979771e-01   \n",
       "9998  4.554707e-02  1.139039e-03  1.794385e-01  7.520212e-04  1.725841e-01   \n",
       "9999  1.230803e-03  1.247935e-06  4.385245e-07  1.837647e-09  6.285679e-05   \n",
       "\n",
       "           score_5       score_6       score_7   score_8       score_9  \\\n",
       "0     2.511773e-03  6.940296e-04  5.893948e-02  0.004421  6.067045e-02   \n",
       "1     1.060956e-02  1.852694e-01  3.871693e-02  0.423418  4.180247e-04   \n",
       "2     3.417336e-02  5.489786e-04  2.861198e-03  0.006175  2.248560e-04   \n",
       "3     8.314926e-06  5.884698e-05  3.484946e-05  0.000013  2.353044e-06   \n",
       "4     5.292688e-01  2.221072e-02  1.086944e-03  0.264774  1.691330e-01   \n",
       "...            ...           ...           ...       ...           ...   \n",
       "9995  9.567250e-07  5.967238e-06  4.912279e-05  0.002986  3.251638e-06   \n",
       "9996  3.019129e-02  1.133591e-05  9.634346e-01  0.000016  3.283608e-03   \n",
       "9997  1.953351e-05  3.446408e-07  2.771195e-05  0.000805  1.005097e-01   \n",
       "9998  1.347049e-01  1.478239e-01  5.589757e-04  0.009645  3.078060e-01   \n",
       "9999  9.957587e-07  9.986795e-01  2.658622e-08  0.000024  1.467835e-09   \n",
       "\n",
       "                                                    x_i  \n",
       "0     [[0.0, 0.0, 0.0, 0.0, 0.0, 0.0, 0.0, 0.0, 0.0,...  \n",
       "1     [[0.0, 0.0, 0.0, 0.0, 0.0, 0.0, 0.0, 0.0, 0.0,...  \n",
       "2     [[0.0, 0.0, 0.0, 0.0, 0.0, 0.0, 0.0, 0.0, 0.0,...  \n",
       "3     [[0.0, 0.0, 0.0, 0.0, 0.0, 0.0, 0.0, 0.0, 0.0,...  \n",
       "4     [[0.0, 0.0, 0.0, 0.0, 0.0, 0.0, 0.0, 0.0, 0.0,...  \n",
       "...                                                 ...  \n",
       "9995  [[0.0, 0.0, 0.0, 0.0, 0.0, 0.0, 0.0, 0.0, 0.0,...  \n",
       "9996  [[0.0, 0.0, 0.0, 0.0, 0.0, 0.0, 0.0, 0.0, 0.0,...  \n",
       "9997  [[0.0, 0.0, 0.0, 0.0, 0.0, 0.0, 0.0, 0.0, 0.0,...  \n",
       "9998  [[0.0, 0.0, 0.0, 0.0, 0.0, 0.0, 0.0, 0.0, 0.0,...  \n",
       "9999  [[0.0, 0.0, 0.0, 0.0, 0.0, 0.0, 0.0, 0.0, 0.0,...  \n",
       "\n",
       "[10000 rows x 11 columns]"
      ]
     },
     "execution_count": 12,
     "metadata": {},
     "output_type": "execute_result"
    }
   ],
   "source": [
    "# Aggregate inference results into a dataframe\n",
    "rows = []\n",
    "for i, (x_i, score_i, pred_i) in enumerate(zip(x_test_c, prob_c, pred_c)):\n",
    "    row = {}\n",
    "    for classname, score in enumerate(score_i):\n",
    "        row[f'score_{classname}'] = score.item()\n",
    "    row['x_i'] = x_i.squeeze().tolist()\n",
    "    rows.append(row)\n",
    "\n",
    "import pandas as pd\n",
    "prediction_c_df = pd.DataFrame(rows)\n",
    "prediction_c_df"
   ]
  },
  {
   "cell_type": "markdown",
   "metadata": {},
   "source": [
    "Ok, so how did the network score the `7` class in the corrupted data?"
   ]
  },
  {
   "cell_type": "code",
   "execution_count": 13,
   "metadata": {},
   "outputs": [
    {
     "data": {
      "text/plain": [
       "<Axes: >"
      ]
     },
     "execution_count": 13,
     "metadata": {},
     "output_type": "execute_result"
    },
    {
     "data": {
      "image/png": "[encoded data removed]",
      "text/plain": [
       "<Figure size 432x288 with 1 Axes>"
      ]
     },
     "metadata": {
      "needs_background": "light"
     },
     "output_type": "display_data"
    }
   ],
   "source": [
    "prediction_c_df['score_7'].hist()"
   ]
  },
  {
   "cell_type": "markdown",
   "metadata": {},
   "source": [
    "Huh, that score distribution is still bi-modal, but is *much more uniform* than the plot we saw earlier.  Clearly the model is making mistakes due to the corruptions.  But what sorts of mistakes?  If we needed to select some of these examples to label, which would we choose?  Let's use `HistogramWithExamplesPlotter` to \"peer inside\" the histogram buckets of the plot above."
   ]
  },
  {
   "cell_type": "code",
   "execution_count": 20,
   "metadata": {},
   "outputs": [],
   "source": [
    "from oarphpy.spark import NBSpark\n",
    "spark = NBSpark.getOrCreate()\n"
   ]
  },
  {
   "cell_type": "code",
   "execution_count": 21,
   "metadata": {},
   "outputs": [],
   "source": [
    "from bokeh.plotting import figure\n",
    "from bokeh.io import output_notebook\n",
    "from bokeh.io import show as bokeh_show\n",
    "output_notebook()\n"
   ]
  },
  {
   "cell_type": "code",
   "execution_count": 22,
   "metadata": {},
   "outputs": [],
   "source": [
    "prediction_c_sdf = spark.createDataFrame(prediction_c_df)\n",
    "\n",
    "# To see the text representation of a Spark Dataframe try:\n",
    "# prediction_c_sdf.show()"
   ]
  },
  {
   "cell_type": "code",
   "execution_count": null,
   "metadata": {
    "scrolled": false
   },
   "outputs": [],
   "source": [
    "from oarphpy import plotting as pl\n",
    "class MyPlotter(pl.HistogramWithExamplesPlotter):\n",
    "    NUM_BINS = 20\n",
    "    def display_bucket(self, sub_pivot, bucket_id, irows):\n",
    "        MAX_TO_VIZ = 50\n",
    "        \n",
    "        from oarphpy.plotting import img_to_img_tag\n",
    "        htmls = []\n",
    "        for row in irows:\n",
    "            htmls.append(unit_digit_to_img_tag(np.array(row['x_i'])))\n",
    "            \n",
    "            if len(htmls) > MAX_TO_VIZ:\n",
    "                break\n",
    "        \n",
    "        # Make a nice table\n",
    "        N_COLS = 25\n",
    "        from oarphpy.util import ichunked\n",
    "        trs = [\n",
    "            \"<tr>%s</tr>\" % ''.join(\"<td>%s</td>\" % ihtml for ihtml in row)\n",
    "            for row in ichunked(htmls, n=N_COLS) \n",
    "        ]\n",
    "        table_html = \"<table>%s</table>\" % ''.join(trs)\n",
    "        \n",
    "        return bucket_id, table_html\n",
    "\n",
    "plotter = MyPlotter()\n",
    "fig = plotter.run(prediction_c_sdf, 'score_7')\n",
    "bokeh_show(fig)"
   ]
  },
  {
   "cell_type": "code",
   "execution_count": 18,
   "metadata": {},
   "outputs": [],
   "source": [
    "fig = plotter.run(spark.createDataFrame(prediction_c_df), 'score_1')\n",
    "bokeh_show(fig)"
   ]
  },
  {
   "cell_type": "markdown",
   "metadata": {},
   "source": [
    "The two figures above examine the model's inferences on the _corrupted_ dataset.  Let's use `HistogramWithExamplesPlotter` to visualize the inference results on the original MNIST dataset to compare:"
   ]
  },
  {
   "cell_type": "code",
   "execution_count": 19,
   "metadata": {
    "scrolled": false
   },
   "outputs": [],
   "source": [
    "fig = plotter.run(spark.createDataFrame(prediction_df), 'score_7')\n",
    "bokeh_show(fig)"
   ]
  },
  {
   "cell_type": "markdown",
   "metadata": {},
   "source": [
    "For more examples of `HistogramWithExamplesPlotter`, see these rendered HTML pages: https://drive.google.com/drive/folders/1dOmkPvdFiGBMaYEddx1KK5vmCeYl2CyV?usp=sharing "
   ]
  },
  {
   "cell_type": "code",
   "execution_count": null,
   "metadata": {},
   "outputs": [],
   "source": []
  },
  {
   "cell_type": "code",
   "execution_count": null,
   "metadata": {},
   "outputs": [],
   "source": []
  }
 ],
 "metadata": {
  "kernelspec": {
   "display_name": "Python 3 (ipykernel)",
   "language": "python",
   "name": "python3"
  },
  "language_info": {
   "codemirror_mode": {
    "name": "ipython",
    "version": 3
   },
   "file_extension": ".py",
   "mimetype": "text/x-python",
   "name": "python",
   "nbconvert_exporter": "python",
   "pygments_lexer": "ipython3",
   "version": "3.10.6"
  }
 },
 "nbformat": 4,
 "nbformat_minor": 4
}
